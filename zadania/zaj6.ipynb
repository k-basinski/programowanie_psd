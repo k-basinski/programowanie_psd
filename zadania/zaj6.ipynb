{
 "cells": [
  {
   "cell_type": "code",
   "execution_count": 1,
   "metadata": {},
   "outputs": [],
   "source": [
    "lista = []"
   ]
  },
  {
   "cell_type": "code",
   "execution_count": 2,
   "metadata": {},
   "outputs": [],
   "source": [
    "for i in range(1, 11):\n",
    "    lista.append(i ** 2)"
   ]
  },
  {
   "cell_type": "code",
   "execution_count": 3,
   "metadata": {},
   "outputs": [
    {
     "data": {
      "text/plain": "[1, 4, 9, 16, 25, 36, 49, 64, 81, 100]"
     },
     "execution_count": 3,
     "metadata": {},
     "output_type": "execute_result"
    }
   ],
   "source": [
    "lista"
   ]
  },
  {
   "cell_type": "code",
   "execution_count": 6,
   "metadata": {},
   "outputs": [
    {
     "name": "stdout",
     "output_type": "stream",
     "text": [
      "pisze\n"
     ]
    }
   ],
   "source": [
    "print('pisze')"
   ]
  },
  {
   "cell_type": "code",
   "execution_count": 7,
   "metadata": {},
   "outputs": [
    {
     "data": {
      "text/plain": "int"
     },
     "execution_count": 7,
     "metadata": {},
     "output_type": "execute_result"
    }
   ],
   "source": [
    "type(123)"
   ]
  },
  {
   "cell_type": "code",
   "execution_count": 10,
   "metadata": {},
   "outputs": [
    {
     "data": {
      "text/plain": "builtin_function_or_method"
     },
     "execution_count": 10,
     "metadata": {},
     "output_type": "execute_result"
    }
   ],
   "source": [
    "type(print)"
   ]
  },
  {
   "cell_type": "code",
   "execution_count": 11,
   "metadata": {},
   "outputs": [
    {
     "data": {
      "text/plain": "19"
     },
     "execution_count": 11,
     "metadata": {},
     "output_type": "execute_result"
    }
   ],
   "source": [
    "len('to jest jakiś napis')"
   ]
  },
  {
   "cell_type": "code",
   "execution_count": 12,
   "metadata": {},
   "outputs": [
    {
     "data": {
      "text/plain": "'123'"
     },
     "execution_count": 12,
     "metadata": {},
     "output_type": "execute_result"
    }
   ],
   "source": [
    "str(123)"
   ]
  },
  {
   "cell_type": "code",
   "execution_count": 13,
   "metadata": {},
   "outputs": [
    {
     "data": {
      "text/plain": "123"
     },
     "execution_count": 13,
     "metadata": {},
     "output_type": "execute_result"
    }
   ],
   "source": [
    "int(123.43)"
   ]
  },
  {
   "cell_type": "code",
   "execution_count": 14,
   "metadata": {},
   "outputs": [
    {
     "data": {
      "text/plain": "123.43"
     },
     "execution_count": 14,
     "metadata": {},
     "output_type": "execute_result"
    }
   ],
   "source": [
    "round(123.43, 2)"
   ]
  },
  {
   "cell_type": "code",
   "execution_count": 17,
   "metadata": {},
   "outputs": [
    {
     "name": "stdout",
     "output_type": "stream",
     "text": [
      "Jakiś napis inny napis jescze inny napis\n",
      "kompletnie inny napis\n"
     ]
    }
   ],
   "source": [
    "print('Jakiś napis', 'inny napis', 'jescze inny napis')\n",
    "print('kompletnie inny napis')"
   ]
  },
  {
   "cell_type": "code",
   "execution_count": 20,
   "metadata": {},
   "outputs": [
    {
     "name": "stdout",
     "output_type": "stream",
     "text": [
      "Jakiś napis+++inny napis+++jescze inny napiskompletnie inny napis\n"
     ]
    }
   ],
   "source": [
    "print('Jakiś napis', 'inny napis', 'jescze inny napis', sep='+++', end='')\n",
    "print('kompletnie inny napis')"
   ]
  },
  {
   "cell_type": "code",
   "execution_count": 27,
   "metadata": {},
   "outputs": [
    {
     "name": "stdout",
     "output_type": "stream",
     "text": [
      "Teraz już będę grzeczny.Teraz już będę grzeczny.Teraz już będę grzeczny.Teraz już będę grzeczny.Teraz już będę grzeczny.Teraz już będę grzeczny.Teraz już będę grzeczny.Teraz już będę grzeczny.Teraz już będę grzeczny.Teraz już będę grzeczny.Teraz już będę grzeczny.Teraz już będę grzeczny.Teraz już będę grzeczny.Teraz już będę grzeczny.Teraz już będę grzeczny.Teraz już będę grzeczny.Teraz już będę grzeczny.Teraz już będę grzeczny.Teraz już będę grzeczny.Teraz już będę grzeczny.Teraz już będę grzeczny.Teraz już będę grzeczny.Teraz już będę grzeczny.Teraz już będę grzeczny.Teraz już będę grzeczny.Teraz już będę grzeczny.Teraz już będę grzeczny.Teraz już będę grzeczny.Teraz już będę grzeczny.Teraz już będę grzeczny.Teraz już będę grzeczny.Teraz już będę grzeczny.Teraz już będę grzeczny.Teraz już będę grzeczny.Teraz już będę grzeczny.Teraz już będę grzeczny.Teraz już będę grzeczny.Teraz już będę grzeczny.Teraz już będę grzeczny.Teraz już będę grzeczny.Teraz już będę grzeczny.Teraz już będę grzeczny.Teraz już będę grzeczny.Teraz już będę grzeczny.Teraz już będę grzeczny.Teraz już będę grzeczny.Teraz już będę grzeczny.Teraz już będę grzeczny.Teraz już będę grzeczny.Teraz już będę grzeczny.Teraz już będę grzeczny.Teraz już będę grzeczny.Teraz już będę grzeczny.Teraz już będę grzeczny.Teraz już będę grzeczny.Teraz już będę grzeczny.Teraz już będę grzeczny.Teraz już będę grzeczny.Teraz już będę grzeczny.Teraz już będę grzeczny.Teraz już będę grzeczny.Teraz już będę grzeczny.Teraz już będę grzeczny.Teraz już będę grzeczny.Teraz już będę grzeczny.Teraz już będę grzeczny.Teraz już będę grzeczny.Teraz już będę grzeczny.Teraz już będę grzeczny.Teraz już będę grzeczny.Teraz już będę grzeczny.Teraz już będę grzeczny.Teraz już będę grzeczny.Teraz już będę grzeczny.Teraz już będę grzeczny.Teraz już będę grzeczny.Teraz już będę grzeczny.Teraz już będę grzeczny.Teraz już będę grzeczny.Teraz już będę grzeczny.Teraz już będę grzeczny.Teraz już będę grzeczny.Teraz już będę grzeczny.Teraz już będę grzeczny.Teraz już będę grzeczny.Teraz już będę grzeczny.Teraz już będę grzeczny.Teraz już będę grzeczny.Teraz już będę grzeczny.Teraz już będę grzeczny.Teraz już będę grzeczny.Teraz już będę grzeczny.Teraz już będę grzeczny.Teraz już będę grzeczny.Teraz już będę grzeczny.Teraz już będę grzeczny.Teraz już będę grzeczny.Teraz już będę grzeczny.Teraz już będę grzeczny.Teraz już będę grzeczny."
     ]
    }
   ],
   "source": [
    "for i in range(100):\n",
    "    print('Teraz już będę grzeczny.', end='')"
   ]
  },
  {
   "cell_type": "code",
   "execution_count": 24,
   "metadata": {},
   "outputs": [
    {
     "data": {
      "text/plain": "123"
     },
     "execution_count": 24,
     "metadata": {},
     "output_type": "execute_result"
    }
   ],
   "source": [
    "x = 123.431\n",
    "\n",
    "round(x)"
   ]
  },
  {
   "cell_type": "code",
   "execution_count": 26,
   "metadata": {},
   "outputs": [
    {
     "data": {
      "text/plain": "123.43"
     },
     "execution_count": 26,
     "metadata": {},
     "output_type": "execute_result"
    }
   ],
   "source": [
    "round(x, 2)"
   ]
  },
  {
   "cell_type": "code",
   "execution_count": 28,
   "metadata": {},
   "outputs": [],
   "source": [
    "def kwadrat(x):\n",
    "    print(x ** 2)\n"
   ]
  },
  {
   "cell_type": "code",
   "execution_count": 29,
   "metadata": {},
   "outputs": [
    {
     "name": "stdout",
     "output_type": "stream",
     "text": [
      "4\n"
     ]
    }
   ],
   "source": [
    "kwadrat(2)"
   ]
  },
  {
   "cell_type": "code",
   "execution_count": 30,
   "metadata": {},
   "outputs": [
    {
     "name": "stdout",
     "output_type": "stream",
     "text": [
      "100\n"
     ]
    }
   ],
   "source": [
    "kwadrat(10)"
   ]
  },
  {
   "cell_type": "code",
   "execution_count": 31,
   "metadata": {},
   "outputs": [
    {
     "name": "stdout",
     "output_type": "stream",
     "text": [
      "100000000.0\n"
     ]
    }
   ],
   "source": [
    "kwadrat(1e4)"
   ]
  },
  {
   "cell_type": "code",
   "execution_count": 32,
   "metadata": {},
   "outputs": [
    {
     "name": "stdout",
     "output_type": "stream",
     "text": [
      "100\n"
     ]
    },
    {
     "ename": "TypeError",
     "evalue": "unsupported operand type(s) for -: 'int' and 'NoneType'",
     "output_type": "error",
     "traceback": [
      "\u001b[0;31m---------------------------------------------------------------------------\u001b[0m",
      "\u001b[0;31mTypeError\u001b[0m                                 Traceback (most recent call last)",
      "\u001b[0;32m<ipython-input-32-46c9764cb009>\u001b[0m in \u001b[0;36m<module>\u001b[0;34m\u001b[0m\n\u001b[0;32m----> 1\u001b[0;31m \u001b[0mwynik\u001b[0m \u001b[0;34m=\u001b[0m \u001b[0;36m100\u001b[0m \u001b[0;34m*\u001b[0m \u001b[0;36m23\u001b[0m \u001b[0;34m-\u001b[0m \u001b[0mkwadrat\u001b[0m\u001b[0;34m(\u001b[0m\u001b[0;36m10\u001b[0m\u001b[0;34m)\u001b[0m\u001b[0;34m\u001b[0m\u001b[0;34m\u001b[0m\u001b[0m\n\u001b[0m",
      "\u001b[0;31mTypeError\u001b[0m: unsupported operand type(s) for -: 'int' and 'NoneType'"
     ]
    }
   ],
   "source": [
    "wynik = 100 * 23 - kwadrat(10)"
   ]
  },
  {
   "cell_type": "code",
   "execution_count": 1,
   "metadata": {},
   "outputs": [],
   "source": [
    "def kwadrat_lepszy(x):\n",
    "    wynik = x ** 2\n",
    "    return wynik"
   ]
  },
  {
   "cell_type": "code",
   "execution_count": 2,
   "metadata": {},
   "outputs": [
    {
     "data": {
      "text/plain": "4"
     },
     "execution_count": 2,
     "metadata": {},
     "output_type": "execute_result"
    }
   ],
   "source": [
    "kwadrat_lepszy(2)"
   ]
  },
  {
   "cell_type": "code",
   "execution_count": 3,
   "metadata": {},
   "outputs": [
    {
     "data": {
      "text/plain": "10000"
     },
     "execution_count": 3,
     "metadata": {},
     "output_type": "execute_result"
    }
   ],
   "source": [
    "kwadrat_lepszy(100)"
   ]
  },
  {
   "cell_type": "code",
   "execution_count": 4,
   "metadata": {},
   "outputs": [
    {
     "ename": "NameError",
     "evalue": "name 'wynik' is not defined",
     "output_type": "error",
     "traceback": [
      "\u001b[0;31m---------------------------------------------------------------------------\u001b[0m",
      "\u001b[0;31mNameError\u001b[0m                                 Traceback (most recent call last)",
      "\u001b[0;32m<ipython-input-4-461b3098a894>\u001b[0m in \u001b[0;36m<module>\u001b[0;34m\u001b[0m\n\u001b[0;32m----> 1\u001b[0;31m \u001b[0mwynik\u001b[0m\u001b[0;34m\u001b[0m\u001b[0;34m\u001b[0m\u001b[0m\n\u001b[0m",
      "\u001b[0;31mNameError\u001b[0m: name 'wynik' is not defined"
     ]
    }
   ],
   "source": [
    "wynik"
   ]
  },
  {
   "cell_type": "code",
   "execution_count": null,
   "metadata": {},
   "outputs": [],
   "source": []
  }
 ],
 "metadata": {
  "kernelspec": {
   "display_name": "Python 3",
   "language": "python",
   "name": "python3"
  },
  "language_info": {
   "codemirror_mode": {
    "name": "ipython",
    "version": 3
   },
   "file_extension": ".py",
   "mimetype": "text/x-python",
   "name": "python",
   "nbconvert_exporter": "python",
   "pygments_lexer": "ipython3",
   "version": "3.8.5"
  },
  "orig_nbformat": 2
 },
 "nbformat": 4,
 "nbformat_minor": 2
}
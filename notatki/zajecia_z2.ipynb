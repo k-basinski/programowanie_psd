{
  "nbformat": 4,
  "nbformat_minor": 0,
  "metadata": {
    "colab": {
      "name": "Untitled13.ipynb",
      "provenance": []
    },
    "kernelspec": {
      "name": "python3",
      "display_name": "Python 3"
    },
    "language_info": {
      "name": "python"
    }
  },
  "cells": [
    {
      "cell_type": "code",
      "metadata": {
        "id": "srguZobEcbh8"
      },
      "source": [
        "import pandas as pd"
      ],
      "execution_count": 1,
      "outputs": []
    },
    {
      "cell_type": "code",
      "metadata": {
        "id": "Uk1ufreek5kG"
      },
      "source": [
        "trial = pd.read_csv('trial.csv')"
      ],
      "execution_count": 6,
      "outputs": []
    },
    {
      "cell_type": "code",
      "metadata": {
        "colab": {
          "base_uri": "https://localhost:8080/",
          "height": 669
        },
        "id": "jDmcmfuNlCNY",
        "outputId": "e4cec429-db66-48b2-ab2f-528082dc3af7"
      },
      "source": [
        "trial"
      ],
      "execution_count": 5,
      "outputs": [
        {
          "output_type": "execute_result",
          "data": {
            "text/html": [
              "<div>\n",
              "<style scoped>\n",
              "    .dataframe tbody tr th:only-of-type {\n",
              "        vertical-align: middle;\n",
              "    }\n",
              "\n",
              "    .dataframe tbody tr th {\n",
              "        vertical-align: top;\n",
              "    }\n",
              "\n",
              "    .dataframe thead th {\n",
              "        text-align: right;\n",
              "    }\n",
              "</style>\n",
              "<table border=\"1\" class=\"dataframe\">\n",
              "  <thead>\n",
              "    <tr style=\"text-align: right;\">\n",
              "      <th></th>\n",
              "      <th>id,interwencja,wiek,plec,zgon</th>\n",
              "    </tr>\n",
              "  </thead>\n",
              "  <tbody>\n",
              "    <tr>\n",
              "      <th>0</th>\n",
              "      <td>1,lek,30,kobieta,tak</td>\n",
              "    </tr>\n",
              "    <tr>\n",
              "      <th>1</th>\n",
              "      <td>2,lek,31,kobieta,tak</td>\n",
              "    </tr>\n",
              "    <tr>\n",
              "      <th>2</th>\n",
              "      <td>3,lek,20,mężczyzna,tak</td>\n",
              "    </tr>\n",
              "    <tr>\n",
              "      <th>3</th>\n",
              "      <td>4,lek,33,mężczyzna,tak</td>\n",
              "    </tr>\n",
              "    <tr>\n",
              "      <th>4</th>\n",
              "      <td>5,lek,43,kobieta,tak</td>\n",
              "    </tr>\n",
              "    <tr>\n",
              "      <th>5</th>\n",
              "      <td>6,lek,22,kobieta,tak</td>\n",
              "    </tr>\n",
              "    <tr>\n",
              "      <th>6</th>\n",
              "      <td>7,lek,33,mężczyzna,tak</td>\n",
              "    </tr>\n",
              "    <tr>\n",
              "      <th>7</th>\n",
              "      <td>8,lek,23,mężczyzna,nie</td>\n",
              "    </tr>\n",
              "    <tr>\n",
              "      <th>8</th>\n",
              "      <td>9,lek,32,kobieta,nie</td>\n",
              "    </tr>\n",
              "    <tr>\n",
              "      <th>9</th>\n",
              "      <td>10,lek,19,kobieta,nie</td>\n",
              "    </tr>\n",
              "    <tr>\n",
              "      <th>10</th>\n",
              "      <td>11,placebo,33,mężczyzna,tak</td>\n",
              "    </tr>\n",
              "    <tr>\n",
              "      <th>11</th>\n",
              "      <td>12,placebo,23,mężczyzna,tak</td>\n",
              "    </tr>\n",
              "    <tr>\n",
              "      <th>12</th>\n",
              "      <td>13,placebo,32,kobieta,tak</td>\n",
              "    </tr>\n",
              "    <tr>\n",
              "      <th>13</th>\n",
              "      <td>14,placebo,19,kobieta,nie</td>\n",
              "    </tr>\n",
              "    <tr>\n",
              "      <th>14</th>\n",
              "      <td>15,placebo,41,mężczyzna,nie</td>\n",
              "    </tr>\n",
              "    <tr>\n",
              "      <th>15</th>\n",
              "      <td>16,placebo,40,mężczyzna,nie</td>\n",
              "    </tr>\n",
              "    <tr>\n",
              "      <th>16</th>\n",
              "      <td>17,placebo,19,kobieta,nie</td>\n",
              "    </tr>\n",
              "    <tr>\n",
              "      <th>17</th>\n",
              "      <td>18,placebo,20,kobieta,nie</td>\n",
              "    </tr>\n",
              "    <tr>\n",
              "      <th>18</th>\n",
              "      <td>19,placebo,33,mężczyzna,nie</td>\n",
              "    </tr>\n",
              "    <tr>\n",
              "      <th>19</th>\n",
              "      <td>20,placebo,22,mężczyzna,nie</td>\n",
              "    </tr>\n",
              "  </tbody>\n",
              "</table>\n",
              "</div>"
            ],
            "text/plain": [
              "   id,interwencja,wiek,plec,zgon\n",
              "0           1,lek,30,kobieta,tak\n",
              "1           2,lek,31,kobieta,tak\n",
              "2         3,lek,20,mężczyzna,tak\n",
              "3         4,lek,33,mężczyzna,tak\n",
              "4           5,lek,43,kobieta,tak\n",
              "5           6,lek,22,kobieta,tak\n",
              "6         7,lek,33,mężczyzna,tak\n",
              "7         8,lek,23,mężczyzna,nie\n",
              "8           9,lek,32,kobieta,nie\n",
              "9          10,lek,19,kobieta,nie\n",
              "10   11,placebo,33,mężczyzna,tak\n",
              "11   12,placebo,23,mężczyzna,tak\n",
              "12     13,placebo,32,kobieta,tak\n",
              "13     14,placebo,19,kobieta,nie\n",
              "14   15,placebo,41,mężczyzna,nie\n",
              "15   16,placebo,40,mężczyzna,nie\n",
              "16     17,placebo,19,kobieta,nie\n",
              "17     18,placebo,20,kobieta,nie\n",
              "18   19,placebo,33,mężczyzna,nie\n",
              "19   20,placebo,22,mężczyzna,nie"
            ]
          },
          "metadata": {
            "tags": []
          },
          "execution_count": 5
        }
      ]
    },
    {
      "cell_type": "code",
      "metadata": {
        "id": "WDULh_L7lDj2"
      },
      "source": [
        "trial = pd.read_excel('trial.xlsx')"
      ],
      "execution_count": 7,
      "outputs": []
    },
    {
      "cell_type": "code",
      "metadata": {
        "colab": {
          "base_uri": "https://localhost:8080/",
          "height": 669
        },
        "id": "eaiy-gvsl1sl",
        "outputId": "bf9d32d2-d513-4292-c104-0bf252e72e32"
      },
      "source": [
        "trial"
      ],
      "execution_count": 8,
      "outputs": [
        {
          "output_type": "execute_result",
          "data": {
            "text/html": [
              "<div>\n",
              "<style scoped>\n",
              "    .dataframe tbody tr th:only-of-type {\n",
              "        vertical-align: middle;\n",
              "    }\n",
              "\n",
              "    .dataframe tbody tr th {\n",
              "        vertical-align: top;\n",
              "    }\n",
              "\n",
              "    .dataframe thead th {\n",
              "        text-align: right;\n",
              "    }\n",
              "</style>\n",
              "<table border=\"1\" class=\"dataframe\">\n",
              "  <thead>\n",
              "    <tr style=\"text-align: right;\">\n",
              "      <th></th>\n",
              "      <th>id</th>\n",
              "      <th>interwencja</th>\n",
              "      <th>wiek</th>\n",
              "      <th>plec</th>\n",
              "      <th>zgon</th>\n",
              "    </tr>\n",
              "  </thead>\n",
              "  <tbody>\n",
              "    <tr>\n",
              "      <th>0</th>\n",
              "      <td>1</td>\n",
              "      <td>lek</td>\n",
              "      <td>30</td>\n",
              "      <td>kobieta</td>\n",
              "      <td>tak</td>\n",
              "    </tr>\n",
              "    <tr>\n",
              "      <th>1</th>\n",
              "      <td>2</td>\n",
              "      <td>lek</td>\n",
              "      <td>31</td>\n",
              "      <td>kobieta</td>\n",
              "      <td>tak</td>\n",
              "    </tr>\n",
              "    <tr>\n",
              "      <th>2</th>\n",
              "      <td>3</td>\n",
              "      <td>lek</td>\n",
              "      <td>20</td>\n",
              "      <td>mężczyzna</td>\n",
              "      <td>tak</td>\n",
              "    </tr>\n",
              "    <tr>\n",
              "      <th>3</th>\n",
              "      <td>4</td>\n",
              "      <td>lek</td>\n",
              "      <td>33</td>\n",
              "      <td>mężczyzna</td>\n",
              "      <td>tak</td>\n",
              "    </tr>\n",
              "    <tr>\n",
              "      <th>4</th>\n",
              "      <td>5</td>\n",
              "      <td>lek</td>\n",
              "      <td>43</td>\n",
              "      <td>kobieta</td>\n",
              "      <td>tak</td>\n",
              "    </tr>\n",
              "    <tr>\n",
              "      <th>5</th>\n",
              "      <td>6</td>\n",
              "      <td>lek</td>\n",
              "      <td>22</td>\n",
              "      <td>kobieta</td>\n",
              "      <td>tak</td>\n",
              "    </tr>\n",
              "    <tr>\n",
              "      <th>6</th>\n",
              "      <td>7</td>\n",
              "      <td>lek</td>\n",
              "      <td>33</td>\n",
              "      <td>mężczyzna</td>\n",
              "      <td>tak</td>\n",
              "    </tr>\n",
              "    <tr>\n",
              "      <th>7</th>\n",
              "      <td>8</td>\n",
              "      <td>lek</td>\n",
              "      <td>23</td>\n",
              "      <td>mężczyzna</td>\n",
              "      <td>nie</td>\n",
              "    </tr>\n",
              "    <tr>\n",
              "      <th>8</th>\n",
              "      <td>9</td>\n",
              "      <td>lek</td>\n",
              "      <td>32</td>\n",
              "      <td>kobieta</td>\n",
              "      <td>nie</td>\n",
              "    </tr>\n",
              "    <tr>\n",
              "      <th>9</th>\n",
              "      <td>10</td>\n",
              "      <td>lek</td>\n",
              "      <td>19</td>\n",
              "      <td>kobieta</td>\n",
              "      <td>nie</td>\n",
              "    </tr>\n",
              "    <tr>\n",
              "      <th>10</th>\n",
              "      <td>11</td>\n",
              "      <td>placebo</td>\n",
              "      <td>33</td>\n",
              "      <td>mężczyzna</td>\n",
              "      <td>tak</td>\n",
              "    </tr>\n",
              "    <tr>\n",
              "      <th>11</th>\n",
              "      <td>12</td>\n",
              "      <td>placebo</td>\n",
              "      <td>23</td>\n",
              "      <td>mężczyzna</td>\n",
              "      <td>tak</td>\n",
              "    </tr>\n",
              "    <tr>\n",
              "      <th>12</th>\n",
              "      <td>13</td>\n",
              "      <td>placebo</td>\n",
              "      <td>32</td>\n",
              "      <td>kobieta</td>\n",
              "      <td>tak</td>\n",
              "    </tr>\n",
              "    <tr>\n",
              "      <th>13</th>\n",
              "      <td>14</td>\n",
              "      <td>placebo</td>\n",
              "      <td>19</td>\n",
              "      <td>kobieta</td>\n",
              "      <td>nie</td>\n",
              "    </tr>\n",
              "    <tr>\n",
              "      <th>14</th>\n",
              "      <td>15</td>\n",
              "      <td>placebo</td>\n",
              "      <td>41</td>\n",
              "      <td>mężczyzna</td>\n",
              "      <td>nie</td>\n",
              "    </tr>\n",
              "    <tr>\n",
              "      <th>15</th>\n",
              "      <td>16</td>\n",
              "      <td>placebo</td>\n",
              "      <td>40</td>\n",
              "      <td>mężczyzna</td>\n",
              "      <td>nie</td>\n",
              "    </tr>\n",
              "    <tr>\n",
              "      <th>16</th>\n",
              "      <td>17</td>\n",
              "      <td>placebo</td>\n",
              "      <td>19</td>\n",
              "      <td>kobieta</td>\n",
              "      <td>nie</td>\n",
              "    </tr>\n",
              "    <tr>\n",
              "      <th>17</th>\n",
              "      <td>18</td>\n",
              "      <td>placebo</td>\n",
              "      <td>20</td>\n",
              "      <td>kobieta</td>\n",
              "      <td>nie</td>\n",
              "    </tr>\n",
              "    <tr>\n",
              "      <th>18</th>\n",
              "      <td>19</td>\n",
              "      <td>placebo</td>\n",
              "      <td>33</td>\n",
              "      <td>mężczyzna</td>\n",
              "      <td>nie</td>\n",
              "    </tr>\n",
              "    <tr>\n",
              "      <th>19</th>\n",
              "      <td>20</td>\n",
              "      <td>placebo</td>\n",
              "      <td>22</td>\n",
              "      <td>mężczyzna</td>\n",
              "      <td>nie</td>\n",
              "    </tr>\n",
              "  </tbody>\n",
              "</table>\n",
              "</div>"
            ],
            "text/plain": [
              "    id interwencja  wiek       plec zgon\n",
              "0    1         lek    30    kobieta  tak\n",
              "1    2         lek    31    kobieta  tak\n",
              "2    3         lek    20  mężczyzna  tak\n",
              "3    4         lek    33  mężczyzna  tak\n",
              "4    5         lek    43    kobieta  tak\n",
              "5    6         lek    22    kobieta  tak\n",
              "6    7         lek    33  mężczyzna  tak\n",
              "7    8         lek    23  mężczyzna  nie\n",
              "8    9         lek    32    kobieta  nie\n",
              "9   10         lek    19    kobieta  nie\n",
              "10  11     placebo    33  mężczyzna  tak\n",
              "11  12     placebo    23  mężczyzna  tak\n",
              "12  13     placebo    32    kobieta  tak\n",
              "13  14     placebo    19    kobieta  nie\n",
              "14  15     placebo    41  mężczyzna  nie\n",
              "15  16     placebo    40  mężczyzna  nie\n",
              "16  17     placebo    19    kobieta  nie\n",
              "17  18     placebo    20    kobieta  nie\n",
              "18  19     placebo    33  mężczyzna  nie\n",
              "19  20     placebo    22  mężczyzna  nie"
            ]
          },
          "metadata": {
            "tags": []
          },
          "execution_count": 8
        }
      ]
    },
    {
      "cell_type": "code",
      "metadata": {
        "colab": {
          "base_uri": "https://localhost:8080/"
        },
        "id": "b7r4wOb_l2U0",
        "outputId": "0f023bb1-0e73-49f4-c399-a0f3e1e0b689"
      },
      "source": [
        "type(trial)"
      ],
      "execution_count": 9,
      "outputs": [
        {
          "output_type": "execute_result",
          "data": {
            "text/plain": [
              "pandas.core.frame.DataFrame"
            ]
          },
          "metadata": {
            "tags": []
          },
          "execution_count": 9
        }
      ]
    },
    {
      "cell_type": "code",
      "metadata": {
        "colab": {
          "base_uri": "https://localhost:8080/"
        },
        "id": "HaCB9jT-maNa",
        "outputId": "ace81183-fc88-40f8-dbac-e08e480775d1"
      },
      "source": [
        "trial.columns"
      ],
      "execution_count": 10,
      "outputs": [
        {
          "output_type": "execute_result",
          "data": {
            "text/plain": [
              "Index(['id', 'interwencja', 'wiek', 'plec', 'zgon'], dtype='object')"
            ]
          },
          "metadata": {
            "tags": []
          },
          "execution_count": 10
        }
      ]
    },
    {
      "cell_type": "code",
      "metadata": {
        "colab": {
          "base_uri": "https://localhost:8080/"
        },
        "id": "QrEMRXcXnBS1",
        "outputId": "9f807050-8e87-4893-c741-cb9c03ee25e6"
      },
      "source": [
        "trial['wiek']"
      ],
      "execution_count": 11,
      "outputs": [
        {
          "output_type": "execute_result",
          "data": {
            "text/plain": [
              "0     30\n",
              "1     31\n",
              "2     20\n",
              "3     33\n",
              "4     43\n",
              "5     22\n",
              "6     33\n",
              "7     23\n",
              "8     32\n",
              "9     19\n",
              "10    33\n",
              "11    23\n",
              "12    32\n",
              "13    19\n",
              "14    41\n",
              "15    40\n",
              "16    19\n",
              "17    20\n",
              "18    33\n",
              "19    22\n",
              "Name: wiek, dtype: int64"
            ]
          },
          "metadata": {
            "tags": []
          },
          "execution_count": 11
        }
      ]
    },
    {
      "cell_type": "code",
      "metadata": {
        "colab": {
          "base_uri": "https://localhost:8080/"
        },
        "id": "la6N2HyknXOF",
        "outputId": "ca49316b-aefd-46fc-af51-09c8d75c43c5"
      },
      "source": [
        "type(trial['wiek'])"
      ],
      "execution_count": 12,
      "outputs": [
        {
          "output_type": "execute_result",
          "data": {
            "text/plain": [
              "pandas.core.series.Series"
            ]
          },
          "metadata": {
            "tags": []
          },
          "execution_count": 12
        }
      ]
    },
    {
      "cell_type": "code",
      "metadata": {
        "colab": {
          "base_uri": "https://localhost:8080/"
        },
        "id": "pI5AwkWtnZSp",
        "outputId": "1dda5a3e-bbdc-45fe-da5c-7cb5c68549f3"
      },
      "source": [
        "trial['wiek'][:4]"
      ],
      "execution_count": 13,
      "outputs": [
        {
          "output_type": "execute_result",
          "data": {
            "text/plain": [
              "0    30\n",
              "1    31\n",
              "2    20\n",
              "3    33\n",
              "Name: wiek, dtype: int64"
            ]
          },
          "metadata": {
            "tags": []
          },
          "execution_count": 13
        }
      ]
    },
    {
      "cell_type": "code",
      "metadata": {
        "colab": {
          "base_uri": "https://localhost:8080/"
        },
        "id": "q37JwluFncIW",
        "outputId": "6edb5b34-df29-4462-b8be-91700b00918f"
      },
      "source": [
        "trial['wiek'][-4:]"
      ],
      "execution_count": 14,
      "outputs": [
        {
          "output_type": "execute_result",
          "data": {
            "text/plain": [
              "16    19\n",
              "17    20\n",
              "18    33\n",
              "19    22\n",
              "Name: wiek, dtype: int64"
            ]
          },
          "metadata": {
            "tags": []
          },
          "execution_count": 14
        }
      ]
    },
    {
      "cell_type": "code",
      "metadata": {
        "colab": {
          "base_uri": "https://localhost:8080/"
        },
        "id": "le1qtTxHnfjY",
        "outputId": "7a4c683d-e11a-4253-a1a5-e9dedd1f7254"
      },
      "source": [
        "trial['wiek'][4]"
      ],
      "execution_count": 15,
      "outputs": [
        {
          "output_type": "execute_result",
          "data": {
            "text/plain": [
              "43"
            ]
          },
          "metadata": {
            "tags": []
          },
          "execution_count": 15
        }
      ]
    },
    {
      "cell_type": "code",
      "metadata": {
        "id": "LLIsPg10nhPU"
      },
      "source": [
        "trial2 = pd.read_excel('trial2.xls', index_col='id')"
      ],
      "execution_count": 23,
      "outputs": []
    },
    {
      "cell_type": "code",
      "metadata": {
        "colab": {
          "base_uri": "https://localhost:8080/",
          "height": 700
        },
        "id": "25mm3cOFnzr4",
        "outputId": "12765399-0bb5-410c-fc44-046ac969fcb5"
      },
      "source": [
        "trial2"
      ],
      "execution_count": 24,
      "outputs": [
        {
          "output_type": "execute_result",
          "data": {
            "text/html": [
              "<div>\n",
              "<style scoped>\n",
              "    .dataframe tbody tr th:only-of-type {\n",
              "        vertical-align: middle;\n",
              "    }\n",
              "\n",
              "    .dataframe tbody tr th {\n",
              "        vertical-align: top;\n",
              "    }\n",
              "\n",
              "    .dataframe thead th {\n",
              "        text-align: right;\n",
              "    }\n",
              "</style>\n",
              "<table border=\"1\" class=\"dataframe\">\n",
              "  <thead>\n",
              "    <tr style=\"text-align: right;\">\n",
              "      <th></th>\n",
              "      <th>interwencja</th>\n",
              "      <th>wiek</th>\n",
              "      <th>plec</th>\n",
              "      <th>zgon</th>\n",
              "    </tr>\n",
              "    <tr>\n",
              "      <th>id</th>\n",
              "      <th></th>\n",
              "      <th></th>\n",
              "      <th></th>\n",
              "      <th></th>\n",
              "    </tr>\n",
              "  </thead>\n",
              "  <tbody>\n",
              "    <tr>\n",
              "      <th>1</th>\n",
              "      <td>lek</td>\n",
              "      <td>30</td>\n",
              "      <td>kobieta</td>\n",
              "      <td>tak</td>\n",
              "    </tr>\n",
              "    <tr>\n",
              "      <th>2</th>\n",
              "      <td>lek</td>\n",
              "      <td>31</td>\n",
              "      <td>kobieta</td>\n",
              "      <td>tak</td>\n",
              "    </tr>\n",
              "    <tr>\n",
              "      <th>3</th>\n",
              "      <td>lek</td>\n",
              "      <td>20</td>\n",
              "      <td>mężczyzna</td>\n",
              "      <td>tak</td>\n",
              "    </tr>\n",
              "    <tr>\n",
              "      <th>4</th>\n",
              "      <td>lek</td>\n",
              "      <td>33</td>\n",
              "      <td>mężczyzna</td>\n",
              "      <td>tak</td>\n",
              "    </tr>\n",
              "    <tr>\n",
              "      <th>5</th>\n",
              "      <td>lek</td>\n",
              "      <td>43</td>\n",
              "      <td>kobieta</td>\n",
              "      <td>tak</td>\n",
              "    </tr>\n",
              "    <tr>\n",
              "      <th>6</th>\n",
              "      <td>lek</td>\n",
              "      <td>22</td>\n",
              "      <td>kobieta</td>\n",
              "      <td>tak</td>\n",
              "    </tr>\n",
              "    <tr>\n",
              "      <th>7</th>\n",
              "      <td>lek</td>\n",
              "      <td>33</td>\n",
              "      <td>mężczyzna</td>\n",
              "      <td>tak</td>\n",
              "    </tr>\n",
              "    <tr>\n",
              "      <th>8</th>\n",
              "      <td>lek</td>\n",
              "      <td>23</td>\n",
              "      <td>mężczyzna</td>\n",
              "      <td>nie</td>\n",
              "    </tr>\n",
              "    <tr>\n",
              "      <th>9</th>\n",
              "      <td>lek</td>\n",
              "      <td>32</td>\n",
              "      <td>kobieta</td>\n",
              "      <td>nie</td>\n",
              "    </tr>\n",
              "    <tr>\n",
              "      <th>10</th>\n",
              "      <td>lek</td>\n",
              "      <td>19</td>\n",
              "      <td>kobieta</td>\n",
              "      <td>nie</td>\n",
              "    </tr>\n",
              "    <tr>\n",
              "      <th>101</th>\n",
              "      <td>placebo</td>\n",
              "      <td>33</td>\n",
              "      <td>mężczyzna</td>\n",
              "      <td>tak</td>\n",
              "    </tr>\n",
              "    <tr>\n",
              "      <th>102</th>\n",
              "      <td>placebo</td>\n",
              "      <td>23</td>\n",
              "      <td>mężczyzna</td>\n",
              "      <td>tak</td>\n",
              "    </tr>\n",
              "    <tr>\n",
              "      <th>103</th>\n",
              "      <td>placebo</td>\n",
              "      <td>32</td>\n",
              "      <td>kobieta</td>\n",
              "      <td>tak</td>\n",
              "    </tr>\n",
              "    <tr>\n",
              "      <th>104</th>\n",
              "      <td>placebo</td>\n",
              "      <td>19</td>\n",
              "      <td>kobieta</td>\n",
              "      <td>nie</td>\n",
              "    </tr>\n",
              "    <tr>\n",
              "      <th>105</th>\n",
              "      <td>placebo</td>\n",
              "      <td>41</td>\n",
              "      <td>mężczyzna</td>\n",
              "      <td>nie</td>\n",
              "    </tr>\n",
              "    <tr>\n",
              "      <th>106</th>\n",
              "      <td>placebo</td>\n",
              "      <td>40</td>\n",
              "      <td>mężczyzna</td>\n",
              "      <td>nie</td>\n",
              "    </tr>\n",
              "    <tr>\n",
              "      <th>107</th>\n",
              "      <td>placebo</td>\n",
              "      <td>19</td>\n",
              "      <td>kobieta</td>\n",
              "      <td>nie</td>\n",
              "    </tr>\n",
              "    <tr>\n",
              "      <th>108</th>\n",
              "      <td>placebo</td>\n",
              "      <td>20</td>\n",
              "      <td>kobieta</td>\n",
              "      <td>nie</td>\n",
              "    </tr>\n",
              "    <tr>\n",
              "      <th>109</th>\n",
              "      <td>placebo</td>\n",
              "      <td>33</td>\n",
              "      <td>mężczyzna</td>\n",
              "      <td>nie</td>\n",
              "    </tr>\n",
              "    <tr>\n",
              "      <th>110</th>\n",
              "      <td>placebo</td>\n",
              "      <td>22</td>\n",
              "      <td>mężczyzna</td>\n",
              "      <td>nie</td>\n",
              "    </tr>\n",
              "  </tbody>\n",
              "</table>\n",
              "</div>"
            ],
            "text/plain": [
              "    interwencja  wiek       plec zgon\n",
              "id                                   \n",
              "1           lek    30    kobieta  tak\n",
              "2           lek    31    kobieta  tak\n",
              "3           lek    20  mężczyzna  tak\n",
              "4           lek    33  mężczyzna  tak\n",
              "5           lek    43    kobieta  tak\n",
              "6           lek    22    kobieta  tak\n",
              "7           lek    33  mężczyzna  tak\n",
              "8           lek    23  mężczyzna  nie\n",
              "9           lek    32    kobieta  nie\n",
              "10          lek    19    kobieta  nie\n",
              "101     placebo    33  mężczyzna  tak\n",
              "102     placebo    23  mężczyzna  tak\n",
              "103     placebo    32    kobieta  tak\n",
              "104     placebo    19    kobieta  nie\n",
              "105     placebo    41  mężczyzna  nie\n",
              "106     placebo    40  mężczyzna  nie\n",
              "107     placebo    19    kobieta  nie\n",
              "108     placebo    20    kobieta  nie\n",
              "109     placebo    33  mężczyzna  nie\n",
              "110     placebo    22  mężczyzna  nie"
            ]
          },
          "metadata": {
            "tags": []
          },
          "execution_count": 24
        }
      ]
    },
    {
      "cell_type": "code",
      "metadata": {
        "colab": {
          "base_uri": "https://localhost:8080/"
        },
        "id": "36xaZ7tjn0NA",
        "outputId": "60aaa7f8-ad87-4d7f-a4b3-3f7f4e737323"
      },
      "source": [
        "trial2['wiek'][108]"
      ],
      "execution_count": 27,
      "outputs": [
        {
          "output_type": "execute_result",
          "data": {
            "text/plain": [
              "20"
            ]
          },
          "metadata": {
            "tags": []
          },
          "execution_count": 27
        }
      ]
    },
    {
      "cell_type": "code",
      "metadata": {
        "colab": {
          "base_uri": "https://localhost:8080/",
          "height": 37
        },
        "id": "mB7cneuIozr1",
        "outputId": "127f0cc1-b543-40fc-f6ff-0f084e24b2ee"
      },
      "source": [
        "trial2['plec'][101]"
      ],
      "execution_count": 28,
      "outputs": [
        {
          "output_type": "execute_result",
          "data": {
            "application/vnd.google.colaboratory.intrinsic+json": {
              "type": "string"
            },
            "text/plain": [
              "'mężczyzna'"
            ]
          },
          "metadata": {
            "tags": []
          },
          "execution_count": 28
        }
      ]
    },
    {
      "cell_type": "code",
      "metadata": {
        "colab": {
          "base_uri": "https://localhost:8080/"
        },
        "id": "5vjVOU0VpKip",
        "outputId": "a4241767-49b7-4891-8a94-baf2a3747219"
      },
      "source": [
        "id_pacjenta = 103\n",
        "\n",
        "if trial2['zgon'][id_pacjenta] == 'tak':\n",
        "  print(trial2['interwencja'][id_pacjenta])"
      ],
      "execution_count": 30,
      "outputs": [
        {
          "output_type": "stream",
          "text": [
            "placebo\n"
          ],
          "name": "stdout"
        }
      ]
    },
    {
      "cell_type": "code",
      "metadata": {
        "colab": {
          "base_uri": "https://localhost:8080/"
        },
        "id": "Wj5Z2v_Up27c",
        "outputId": "78f7671f-3a77-40fe-e876-82d00b3d0347"
      },
      "source": [
        "trial2['interwencja'][110] = 'lek'"
      ],
      "execution_count": 31,
      "outputs": [
        {
          "output_type": "stream",
          "text": [
            "/usr/local/lib/python3.7/dist-packages/ipykernel_launcher.py:1: SettingWithCopyWarning: \n",
            "A value is trying to be set on a copy of a slice from a DataFrame\n",
            "\n",
            "See the caveats in the documentation: https://pandas.pydata.org/pandas-docs/stable/user_guide/indexing.html#returning-a-view-versus-a-copy\n",
            "  \"\"\"Entry point for launching an IPython kernel.\n"
          ],
          "name": "stderr"
        }
      ]
    },
    {
      "cell_type": "code",
      "metadata": {
        "colab": {
          "base_uri": "https://localhost:8080/",
          "height": 700
        },
        "id": "467oMValqJr8",
        "outputId": "a559ac20-abb0-4bd3-ffdb-ecf9b147e469"
      },
      "source": [
        "trial2"
      ],
      "execution_count": 32,
      "outputs": [
        {
          "output_type": "execute_result",
          "data": {
            "text/html": [
              "<div>\n",
              "<style scoped>\n",
              "    .dataframe tbody tr th:only-of-type {\n",
              "        vertical-align: middle;\n",
              "    }\n",
              "\n",
              "    .dataframe tbody tr th {\n",
              "        vertical-align: top;\n",
              "    }\n",
              "\n",
              "    .dataframe thead th {\n",
              "        text-align: right;\n",
              "    }\n",
              "</style>\n",
              "<table border=\"1\" class=\"dataframe\">\n",
              "  <thead>\n",
              "    <tr style=\"text-align: right;\">\n",
              "      <th></th>\n",
              "      <th>interwencja</th>\n",
              "      <th>wiek</th>\n",
              "      <th>plec</th>\n",
              "      <th>zgon</th>\n",
              "    </tr>\n",
              "    <tr>\n",
              "      <th>id</th>\n",
              "      <th></th>\n",
              "      <th></th>\n",
              "      <th></th>\n",
              "      <th></th>\n",
              "    </tr>\n",
              "  </thead>\n",
              "  <tbody>\n",
              "    <tr>\n",
              "      <th>1</th>\n",
              "      <td>lek</td>\n",
              "      <td>30</td>\n",
              "      <td>kobieta</td>\n",
              "      <td>tak</td>\n",
              "    </tr>\n",
              "    <tr>\n",
              "      <th>2</th>\n",
              "      <td>lek</td>\n",
              "      <td>31</td>\n",
              "      <td>kobieta</td>\n",
              "      <td>tak</td>\n",
              "    </tr>\n",
              "    <tr>\n",
              "      <th>3</th>\n",
              "      <td>lek</td>\n",
              "      <td>20</td>\n",
              "      <td>mężczyzna</td>\n",
              "      <td>tak</td>\n",
              "    </tr>\n",
              "    <tr>\n",
              "      <th>4</th>\n",
              "      <td>lek</td>\n",
              "      <td>33</td>\n",
              "      <td>mężczyzna</td>\n",
              "      <td>tak</td>\n",
              "    </tr>\n",
              "    <tr>\n",
              "      <th>5</th>\n",
              "      <td>lek</td>\n",
              "      <td>43</td>\n",
              "      <td>kobieta</td>\n",
              "      <td>tak</td>\n",
              "    </tr>\n",
              "    <tr>\n",
              "      <th>6</th>\n",
              "      <td>lek</td>\n",
              "      <td>22</td>\n",
              "      <td>kobieta</td>\n",
              "      <td>tak</td>\n",
              "    </tr>\n",
              "    <tr>\n",
              "      <th>7</th>\n",
              "      <td>lek</td>\n",
              "      <td>33</td>\n",
              "      <td>mężczyzna</td>\n",
              "      <td>tak</td>\n",
              "    </tr>\n",
              "    <tr>\n",
              "      <th>8</th>\n",
              "      <td>lek</td>\n",
              "      <td>23</td>\n",
              "      <td>mężczyzna</td>\n",
              "      <td>nie</td>\n",
              "    </tr>\n",
              "    <tr>\n",
              "      <th>9</th>\n",
              "      <td>lek</td>\n",
              "      <td>32</td>\n",
              "      <td>kobieta</td>\n",
              "      <td>nie</td>\n",
              "    </tr>\n",
              "    <tr>\n",
              "      <th>10</th>\n",
              "      <td>lek</td>\n",
              "      <td>19</td>\n",
              "      <td>kobieta</td>\n",
              "      <td>nie</td>\n",
              "    </tr>\n",
              "    <tr>\n",
              "      <th>101</th>\n",
              "      <td>placebo</td>\n",
              "      <td>33</td>\n",
              "      <td>mężczyzna</td>\n",
              "      <td>tak</td>\n",
              "    </tr>\n",
              "    <tr>\n",
              "      <th>102</th>\n",
              "      <td>placebo</td>\n",
              "      <td>23</td>\n",
              "      <td>mężczyzna</td>\n",
              "      <td>tak</td>\n",
              "    </tr>\n",
              "    <tr>\n",
              "      <th>103</th>\n",
              "      <td>placebo</td>\n",
              "      <td>32</td>\n",
              "      <td>kobieta</td>\n",
              "      <td>tak</td>\n",
              "    </tr>\n",
              "    <tr>\n",
              "      <th>104</th>\n",
              "      <td>placebo</td>\n",
              "      <td>19</td>\n",
              "      <td>kobieta</td>\n",
              "      <td>nie</td>\n",
              "    </tr>\n",
              "    <tr>\n",
              "      <th>105</th>\n",
              "      <td>placebo</td>\n",
              "      <td>41</td>\n",
              "      <td>mężczyzna</td>\n",
              "      <td>nie</td>\n",
              "    </tr>\n",
              "    <tr>\n",
              "      <th>106</th>\n",
              "      <td>placebo</td>\n",
              "      <td>40</td>\n",
              "      <td>mężczyzna</td>\n",
              "      <td>nie</td>\n",
              "    </tr>\n",
              "    <tr>\n",
              "      <th>107</th>\n",
              "      <td>placebo</td>\n",
              "      <td>19</td>\n",
              "      <td>kobieta</td>\n",
              "      <td>nie</td>\n",
              "    </tr>\n",
              "    <tr>\n",
              "      <th>108</th>\n",
              "      <td>placebo</td>\n",
              "      <td>20</td>\n",
              "      <td>kobieta</td>\n",
              "      <td>nie</td>\n",
              "    </tr>\n",
              "    <tr>\n",
              "      <th>109</th>\n",
              "      <td>placebo</td>\n",
              "      <td>33</td>\n",
              "      <td>mężczyzna</td>\n",
              "      <td>nie</td>\n",
              "    </tr>\n",
              "    <tr>\n",
              "      <th>110</th>\n",
              "      <td>lek</td>\n",
              "      <td>22</td>\n",
              "      <td>mężczyzna</td>\n",
              "      <td>nie</td>\n",
              "    </tr>\n",
              "  </tbody>\n",
              "</table>\n",
              "</div>"
            ],
            "text/plain": [
              "    interwencja  wiek       plec zgon\n",
              "id                                   \n",
              "1           lek    30    kobieta  tak\n",
              "2           lek    31    kobieta  tak\n",
              "3           lek    20  mężczyzna  tak\n",
              "4           lek    33  mężczyzna  tak\n",
              "5           lek    43    kobieta  tak\n",
              "6           lek    22    kobieta  tak\n",
              "7           lek    33  mężczyzna  tak\n",
              "8           lek    23  mężczyzna  nie\n",
              "9           lek    32    kobieta  nie\n",
              "10          lek    19    kobieta  nie\n",
              "101     placebo    33  mężczyzna  tak\n",
              "102     placebo    23  mężczyzna  tak\n",
              "103     placebo    32    kobieta  tak\n",
              "104     placebo    19    kobieta  nie\n",
              "105     placebo    41  mężczyzna  nie\n",
              "106     placebo    40  mężczyzna  nie\n",
              "107     placebo    19    kobieta  nie\n",
              "108     placebo    20    kobieta  nie\n",
              "109     placebo    33  mężczyzna  nie\n",
              "110         lek    22  mężczyzna  nie"
            ]
          },
          "metadata": {
            "tags": []
          },
          "execution_count": 32
        }
      ]
    },
    {
      "cell_type": "code",
      "metadata": {
        "colab": {
          "base_uri": "https://localhost:8080/",
          "height": 669
        },
        "id": "oHkzFkWdqMpX",
        "outputId": "484be4b2-4d81-4d30-eee4-e08e8cfdb7f3"
      },
      "source": [
        "trial"
      ],
      "execution_count": 33,
      "outputs": [
        {
          "output_type": "execute_result",
          "data": {
            "text/html": [
              "<div>\n",
              "<style scoped>\n",
              "    .dataframe tbody tr th:only-of-type {\n",
              "        vertical-align: middle;\n",
              "    }\n",
              "\n",
              "    .dataframe tbody tr th {\n",
              "        vertical-align: top;\n",
              "    }\n",
              "\n",
              "    .dataframe thead th {\n",
              "        text-align: right;\n",
              "    }\n",
              "</style>\n",
              "<table border=\"1\" class=\"dataframe\">\n",
              "  <thead>\n",
              "    <tr style=\"text-align: right;\">\n",
              "      <th></th>\n",
              "      <th>id</th>\n",
              "      <th>interwencja</th>\n",
              "      <th>wiek</th>\n",
              "      <th>plec</th>\n",
              "      <th>zgon</th>\n",
              "    </tr>\n",
              "  </thead>\n",
              "  <tbody>\n",
              "    <tr>\n",
              "      <th>0</th>\n",
              "      <td>1</td>\n",
              "      <td>lek</td>\n",
              "      <td>30</td>\n",
              "      <td>kobieta</td>\n",
              "      <td>tak</td>\n",
              "    </tr>\n",
              "    <tr>\n",
              "      <th>1</th>\n",
              "      <td>2</td>\n",
              "      <td>lek</td>\n",
              "      <td>31</td>\n",
              "      <td>kobieta</td>\n",
              "      <td>tak</td>\n",
              "    </tr>\n",
              "    <tr>\n",
              "      <th>2</th>\n",
              "      <td>3</td>\n",
              "      <td>lek</td>\n",
              "      <td>20</td>\n",
              "      <td>mężczyzna</td>\n",
              "      <td>tak</td>\n",
              "    </tr>\n",
              "    <tr>\n",
              "      <th>3</th>\n",
              "      <td>4</td>\n",
              "      <td>lek</td>\n",
              "      <td>33</td>\n",
              "      <td>mężczyzna</td>\n",
              "      <td>tak</td>\n",
              "    </tr>\n",
              "    <tr>\n",
              "      <th>4</th>\n",
              "      <td>5</td>\n",
              "      <td>lek</td>\n",
              "      <td>43</td>\n",
              "      <td>kobieta</td>\n",
              "      <td>tak</td>\n",
              "    </tr>\n",
              "    <tr>\n",
              "      <th>5</th>\n",
              "      <td>6</td>\n",
              "      <td>lek</td>\n",
              "      <td>22</td>\n",
              "      <td>kobieta</td>\n",
              "      <td>tak</td>\n",
              "    </tr>\n",
              "    <tr>\n",
              "      <th>6</th>\n",
              "      <td>7</td>\n",
              "      <td>lek</td>\n",
              "      <td>33</td>\n",
              "      <td>mężczyzna</td>\n",
              "      <td>tak</td>\n",
              "    </tr>\n",
              "    <tr>\n",
              "      <th>7</th>\n",
              "      <td>8</td>\n",
              "      <td>lek</td>\n",
              "      <td>23</td>\n",
              "      <td>mężczyzna</td>\n",
              "      <td>nie</td>\n",
              "    </tr>\n",
              "    <tr>\n",
              "      <th>8</th>\n",
              "      <td>9</td>\n",
              "      <td>lek</td>\n",
              "      <td>32</td>\n",
              "      <td>kobieta</td>\n",
              "      <td>nie</td>\n",
              "    </tr>\n",
              "    <tr>\n",
              "      <th>9</th>\n",
              "      <td>10</td>\n",
              "      <td>lek</td>\n",
              "      <td>19</td>\n",
              "      <td>kobieta</td>\n",
              "      <td>nie</td>\n",
              "    </tr>\n",
              "    <tr>\n",
              "      <th>10</th>\n",
              "      <td>11</td>\n",
              "      <td>placebo</td>\n",
              "      <td>33</td>\n",
              "      <td>mężczyzna</td>\n",
              "      <td>tak</td>\n",
              "    </tr>\n",
              "    <tr>\n",
              "      <th>11</th>\n",
              "      <td>12</td>\n",
              "      <td>placebo</td>\n",
              "      <td>23</td>\n",
              "      <td>mężczyzna</td>\n",
              "      <td>tak</td>\n",
              "    </tr>\n",
              "    <tr>\n",
              "      <th>12</th>\n",
              "      <td>13</td>\n",
              "      <td>placebo</td>\n",
              "      <td>32</td>\n",
              "      <td>kobieta</td>\n",
              "      <td>tak</td>\n",
              "    </tr>\n",
              "    <tr>\n",
              "      <th>13</th>\n",
              "      <td>14</td>\n",
              "      <td>placebo</td>\n",
              "      <td>19</td>\n",
              "      <td>kobieta</td>\n",
              "      <td>nie</td>\n",
              "    </tr>\n",
              "    <tr>\n",
              "      <th>14</th>\n",
              "      <td>15</td>\n",
              "      <td>placebo</td>\n",
              "      <td>41</td>\n",
              "      <td>mężczyzna</td>\n",
              "      <td>nie</td>\n",
              "    </tr>\n",
              "    <tr>\n",
              "      <th>15</th>\n",
              "      <td>16</td>\n",
              "      <td>placebo</td>\n",
              "      <td>40</td>\n",
              "      <td>mężczyzna</td>\n",
              "      <td>nie</td>\n",
              "    </tr>\n",
              "    <tr>\n",
              "      <th>16</th>\n",
              "      <td>17</td>\n",
              "      <td>placebo</td>\n",
              "      <td>19</td>\n",
              "      <td>kobieta</td>\n",
              "      <td>nie</td>\n",
              "    </tr>\n",
              "    <tr>\n",
              "      <th>17</th>\n",
              "      <td>18</td>\n",
              "      <td>placebo</td>\n",
              "      <td>20</td>\n",
              "      <td>kobieta</td>\n",
              "      <td>nie</td>\n",
              "    </tr>\n",
              "    <tr>\n",
              "      <th>18</th>\n",
              "      <td>19</td>\n",
              "      <td>placebo</td>\n",
              "      <td>33</td>\n",
              "      <td>mężczyzna</td>\n",
              "      <td>nie</td>\n",
              "    </tr>\n",
              "    <tr>\n",
              "      <th>19</th>\n",
              "      <td>20</td>\n",
              "      <td>placebo</td>\n",
              "      <td>22</td>\n",
              "      <td>mężczyzna</td>\n",
              "      <td>nie</td>\n",
              "    </tr>\n",
              "  </tbody>\n",
              "</table>\n",
              "</div>"
            ],
            "text/plain": [
              "    id interwencja  wiek       plec zgon\n",
              "0    1         lek    30    kobieta  tak\n",
              "1    2         lek    31    kobieta  tak\n",
              "2    3         lek    20  mężczyzna  tak\n",
              "3    4         lek    33  mężczyzna  tak\n",
              "4    5         lek    43    kobieta  tak\n",
              "5    6         lek    22    kobieta  tak\n",
              "6    7         lek    33  mężczyzna  tak\n",
              "7    8         lek    23  mężczyzna  nie\n",
              "8    9         lek    32    kobieta  nie\n",
              "9   10         lek    19    kobieta  nie\n",
              "10  11     placebo    33  mężczyzna  tak\n",
              "11  12     placebo    23  mężczyzna  tak\n",
              "12  13     placebo    32    kobieta  tak\n",
              "13  14     placebo    19    kobieta  nie\n",
              "14  15     placebo    41  mężczyzna  nie\n",
              "15  16     placebo    40  mężczyzna  nie\n",
              "16  17     placebo    19    kobieta  nie\n",
              "17  18     placebo    20    kobieta  nie\n",
              "18  19     placebo    33  mężczyzna  nie\n",
              "19  20     placebo    22  mężczyzna  nie"
            ]
          },
          "metadata": {
            "tags": []
          },
          "execution_count": 33
        }
      ]
    },
    {
      "cell_type": "code",
      "metadata": {
        "colab": {
          "base_uri": "https://localhost:8080/"
        },
        "id": "7rbY2NasqhKY",
        "outputId": "419080b3-ba85-47dd-a674-17d84d327041"
      },
      "source": [
        "trial.wiek"
      ],
      "execution_count": 34,
      "outputs": [
        {
          "output_type": "execute_result",
          "data": {
            "text/plain": [
              "0     30\n",
              "1     31\n",
              "2     20\n",
              "3     33\n",
              "4     43\n",
              "5     22\n",
              "6     33\n",
              "7     23\n",
              "8     32\n",
              "9     19\n",
              "10    33\n",
              "11    23\n",
              "12    32\n",
              "13    19\n",
              "14    41\n",
              "15    40\n",
              "16    19\n",
              "17    20\n",
              "18    33\n",
              "19    22\n",
              "Name: wiek, dtype: int64"
            ]
          },
          "metadata": {
            "tags": []
          },
          "execution_count": 34
        }
      ]
    },
    {
      "cell_type": "code",
      "metadata": {
        "colab": {
          "base_uri": "https://localhost:8080/"
        },
        "id": "olNQ_3McqmBq",
        "outputId": "347ed8a4-5e6f-4025-9170-ae5cfc9ae30d"
      },
      "source": [
        "trial['wiek']"
      ],
      "execution_count": 35,
      "outputs": [
        {
          "output_type": "execute_result",
          "data": {
            "text/plain": [
              "0     30\n",
              "1     31\n",
              "2     20\n",
              "3     33\n",
              "4     43\n",
              "5     22\n",
              "6     33\n",
              "7     23\n",
              "8     32\n",
              "9     19\n",
              "10    33\n",
              "11    23\n",
              "12    32\n",
              "13    19\n",
              "14    41\n",
              "15    40\n",
              "16    19\n",
              "17    20\n",
              "18    33\n",
              "19    22\n",
              "Name: wiek, dtype: int64"
            ]
          },
          "metadata": {
            "tags": []
          },
          "execution_count": 35
        }
      ]
    },
    {
      "cell_type": "code",
      "metadata": {
        "colab": {
          "base_uri": "https://localhost:8080/"
        },
        "id": "mnsxs9ZdqoO0",
        "outputId": "9dfff9af-cba5-4521-bc72-05a33a01e9a7"
      },
      "source": [
        "trial.zgon.value_counts()"
      ],
      "execution_count": 36,
      "outputs": [
        {
          "output_type": "execute_result",
          "data": {
            "text/plain": [
              "nie    10\n",
              "tak    10\n",
              "Name: zgon, dtype: int64"
            ]
          },
          "metadata": {
            "tags": []
          },
          "execution_count": 36
        }
      ]
    },
    {
      "cell_type": "code",
      "metadata": {
        "colab": {
          "base_uri": "https://localhost:8080/",
          "height": 297
        },
        "id": "wkTqSYsKq1Wj",
        "outputId": "e76c4621-980f-43dd-a8a0-ed986b9e7eab"
      },
      "source": [
        "trial.describe()"
      ],
      "execution_count": 37,
      "outputs": [
        {
          "output_type": "execute_result",
          "data": {
            "text/html": [
              "<div>\n",
              "<style scoped>\n",
              "    .dataframe tbody tr th:only-of-type {\n",
              "        vertical-align: middle;\n",
              "    }\n",
              "\n",
              "    .dataframe tbody tr th {\n",
              "        vertical-align: top;\n",
              "    }\n",
              "\n",
              "    .dataframe thead th {\n",
              "        text-align: right;\n",
              "    }\n",
              "</style>\n",
              "<table border=\"1\" class=\"dataframe\">\n",
              "  <thead>\n",
              "    <tr style=\"text-align: right;\">\n",
              "      <th></th>\n",
              "      <th>id</th>\n",
              "      <th>wiek</th>\n",
              "    </tr>\n",
              "  </thead>\n",
              "  <tbody>\n",
              "    <tr>\n",
              "      <th>count</th>\n",
              "      <td>20.00000</td>\n",
              "      <td>20.00000</td>\n",
              "    </tr>\n",
              "    <tr>\n",
              "      <th>mean</th>\n",
              "      <td>10.50000</td>\n",
              "      <td>28.40000</td>\n",
              "    </tr>\n",
              "    <tr>\n",
              "      <th>std</th>\n",
              "      <td>5.91608</td>\n",
              "      <td>7.85661</td>\n",
              "    </tr>\n",
              "    <tr>\n",
              "      <th>min</th>\n",
              "      <td>1.00000</td>\n",
              "      <td>19.00000</td>\n",
              "    </tr>\n",
              "    <tr>\n",
              "      <th>25%</th>\n",
              "      <td>5.75000</td>\n",
              "      <td>21.50000</td>\n",
              "    </tr>\n",
              "    <tr>\n",
              "      <th>50%</th>\n",
              "      <td>10.50000</td>\n",
              "      <td>30.50000</td>\n",
              "    </tr>\n",
              "    <tr>\n",
              "      <th>75%</th>\n",
              "      <td>15.25000</td>\n",
              "      <td>33.00000</td>\n",
              "    </tr>\n",
              "    <tr>\n",
              "      <th>max</th>\n",
              "      <td>20.00000</td>\n",
              "      <td>43.00000</td>\n",
              "    </tr>\n",
              "  </tbody>\n",
              "</table>\n",
              "</div>"
            ],
            "text/plain": [
              "             id      wiek\n",
              "count  20.00000  20.00000\n",
              "mean   10.50000  28.40000\n",
              "std     5.91608   7.85661\n",
              "min     1.00000  19.00000\n",
              "25%     5.75000  21.50000\n",
              "50%    10.50000  30.50000\n",
              "75%    15.25000  33.00000\n",
              "max    20.00000  43.00000"
            ]
          },
          "metadata": {
            "tags": []
          },
          "execution_count": 37
        }
      ]
    },
    {
      "cell_type": "code",
      "metadata": {
        "colab": {
          "base_uri": "https://localhost:8080/",
          "height": 669
        },
        "id": "DZHWlydMrMKe",
        "outputId": "449f60c8-0f41-46bc-afa7-a2ec52a932be"
      },
      "source": [
        "trial"
      ],
      "execution_count": 39,
      "outputs": [
        {
          "output_type": "execute_result",
          "data": {
            "text/html": [
              "<div>\n",
              "<style scoped>\n",
              "    .dataframe tbody tr th:only-of-type {\n",
              "        vertical-align: middle;\n",
              "    }\n",
              "\n",
              "    .dataframe tbody tr th {\n",
              "        vertical-align: top;\n",
              "    }\n",
              "\n",
              "    .dataframe thead th {\n",
              "        text-align: right;\n",
              "    }\n",
              "</style>\n",
              "<table border=\"1\" class=\"dataframe\">\n",
              "  <thead>\n",
              "    <tr style=\"text-align: right;\">\n",
              "      <th></th>\n",
              "      <th>id</th>\n",
              "      <th>interwencja</th>\n",
              "      <th>wiek</th>\n",
              "      <th>plec</th>\n",
              "      <th>zgon</th>\n",
              "    </tr>\n",
              "  </thead>\n",
              "  <tbody>\n",
              "    <tr>\n",
              "      <th>0</th>\n",
              "      <td>1</td>\n",
              "      <td>lek</td>\n",
              "      <td>30</td>\n",
              "      <td>kobieta</td>\n",
              "      <td>tak</td>\n",
              "    </tr>\n",
              "    <tr>\n",
              "      <th>1</th>\n",
              "      <td>2</td>\n",
              "      <td>lek</td>\n",
              "      <td>31</td>\n",
              "      <td>kobieta</td>\n",
              "      <td>tak</td>\n",
              "    </tr>\n",
              "    <tr>\n",
              "      <th>2</th>\n",
              "      <td>3</td>\n",
              "      <td>lek</td>\n",
              "      <td>20</td>\n",
              "      <td>mężczyzna</td>\n",
              "      <td>tak</td>\n",
              "    </tr>\n",
              "    <tr>\n",
              "      <th>3</th>\n",
              "      <td>4</td>\n",
              "      <td>lek</td>\n",
              "      <td>33</td>\n",
              "      <td>mężczyzna</td>\n",
              "      <td>tak</td>\n",
              "    </tr>\n",
              "    <tr>\n",
              "      <th>4</th>\n",
              "      <td>5</td>\n",
              "      <td>lek</td>\n",
              "      <td>43</td>\n",
              "      <td>kobieta</td>\n",
              "      <td>tak</td>\n",
              "    </tr>\n",
              "    <tr>\n",
              "      <th>5</th>\n",
              "      <td>6</td>\n",
              "      <td>lek</td>\n",
              "      <td>22</td>\n",
              "      <td>kobieta</td>\n",
              "      <td>tak</td>\n",
              "    </tr>\n",
              "    <tr>\n",
              "      <th>6</th>\n",
              "      <td>7</td>\n",
              "      <td>lek</td>\n",
              "      <td>33</td>\n",
              "      <td>mężczyzna</td>\n",
              "      <td>tak</td>\n",
              "    </tr>\n",
              "    <tr>\n",
              "      <th>7</th>\n",
              "      <td>8</td>\n",
              "      <td>lek</td>\n",
              "      <td>23</td>\n",
              "      <td>mężczyzna</td>\n",
              "      <td>nie</td>\n",
              "    </tr>\n",
              "    <tr>\n",
              "      <th>8</th>\n",
              "      <td>9</td>\n",
              "      <td>lek</td>\n",
              "      <td>32</td>\n",
              "      <td>kobieta</td>\n",
              "      <td>nie</td>\n",
              "    </tr>\n",
              "    <tr>\n",
              "      <th>9</th>\n",
              "      <td>10</td>\n",
              "      <td>lek</td>\n",
              "      <td>19</td>\n",
              "      <td>kobieta</td>\n",
              "      <td>nie</td>\n",
              "    </tr>\n",
              "    <tr>\n",
              "      <th>10</th>\n",
              "      <td>11</td>\n",
              "      <td>placebo</td>\n",
              "      <td>33</td>\n",
              "      <td>mężczyzna</td>\n",
              "      <td>tak</td>\n",
              "    </tr>\n",
              "    <tr>\n",
              "      <th>11</th>\n",
              "      <td>12</td>\n",
              "      <td>placebo</td>\n",
              "      <td>23</td>\n",
              "      <td>mężczyzna</td>\n",
              "      <td>tak</td>\n",
              "    </tr>\n",
              "    <tr>\n",
              "      <th>12</th>\n",
              "      <td>13</td>\n",
              "      <td>placebo</td>\n",
              "      <td>32</td>\n",
              "      <td>kobieta</td>\n",
              "      <td>tak</td>\n",
              "    </tr>\n",
              "    <tr>\n",
              "      <th>13</th>\n",
              "      <td>14</td>\n",
              "      <td>placebo</td>\n",
              "      <td>19</td>\n",
              "      <td>kobieta</td>\n",
              "      <td>nie</td>\n",
              "    </tr>\n",
              "    <tr>\n",
              "      <th>14</th>\n",
              "      <td>15</td>\n",
              "      <td>placebo</td>\n",
              "      <td>41</td>\n",
              "      <td>mężczyzna</td>\n",
              "      <td>nie</td>\n",
              "    </tr>\n",
              "    <tr>\n",
              "      <th>15</th>\n",
              "      <td>16</td>\n",
              "      <td>placebo</td>\n",
              "      <td>40</td>\n",
              "      <td>mężczyzna</td>\n",
              "      <td>nie</td>\n",
              "    </tr>\n",
              "    <tr>\n",
              "      <th>16</th>\n",
              "      <td>17</td>\n",
              "      <td>placebo</td>\n",
              "      <td>19</td>\n",
              "      <td>kobieta</td>\n",
              "      <td>nie</td>\n",
              "    </tr>\n",
              "    <tr>\n",
              "      <th>17</th>\n",
              "      <td>18</td>\n",
              "      <td>placebo</td>\n",
              "      <td>20</td>\n",
              "      <td>kobieta</td>\n",
              "      <td>nie</td>\n",
              "    </tr>\n",
              "    <tr>\n",
              "      <th>18</th>\n",
              "      <td>19</td>\n",
              "      <td>placebo</td>\n",
              "      <td>33</td>\n",
              "      <td>mężczyzna</td>\n",
              "      <td>nie</td>\n",
              "    </tr>\n",
              "    <tr>\n",
              "      <th>19</th>\n",
              "      <td>20</td>\n",
              "      <td>placebo</td>\n",
              "      <td>22</td>\n",
              "      <td>mężczyzna</td>\n",
              "      <td>nie</td>\n",
              "    </tr>\n",
              "  </tbody>\n",
              "</table>\n",
              "</div>"
            ],
            "text/plain": [
              "    id interwencja  wiek       plec zgon\n",
              "0    1         lek    30    kobieta  tak\n",
              "1    2         lek    31    kobieta  tak\n",
              "2    3         lek    20  mężczyzna  tak\n",
              "3    4         lek    33  mężczyzna  tak\n",
              "4    5         lek    43    kobieta  tak\n",
              "5    6         lek    22    kobieta  tak\n",
              "6    7         lek    33  mężczyzna  tak\n",
              "7    8         lek    23  mężczyzna  nie\n",
              "8    9         lek    32    kobieta  nie\n",
              "9   10         lek    19    kobieta  nie\n",
              "10  11     placebo    33  mężczyzna  tak\n",
              "11  12     placebo    23  mężczyzna  tak\n",
              "12  13     placebo    32    kobieta  tak\n",
              "13  14     placebo    19    kobieta  nie\n",
              "14  15     placebo    41  mężczyzna  nie\n",
              "15  16     placebo    40  mężczyzna  nie\n",
              "16  17     placebo    19    kobieta  nie\n",
              "17  18     placebo    20    kobieta  nie\n",
              "18  19     placebo    33  mężczyzna  nie\n",
              "19  20     placebo    22  mężczyzna  nie"
            ]
          },
          "metadata": {
            "tags": []
          },
          "execution_count": 39
        }
      ]
    },
    {
      "cell_type": "code",
      "metadata": {
        "colab": {
          "base_uri": "https://localhost:8080/"
        },
        "id": "3qoyCe2qrXvU",
        "outputId": "a100d444-6af0-45ec-e216-351bb36ad894"
      },
      "source": [
        "trial.loc[0, 'wiek']"
      ],
      "execution_count": 41,
      "outputs": [
        {
          "output_type": "execute_result",
          "data": {
            "text/plain": [
              "30"
            ]
          },
          "metadata": {
            "tags": []
          },
          "execution_count": 41
        }
      ]
    },
    {
      "cell_type": "code",
      "metadata": {
        "colab": {
          "base_uri": "https://localhost:8080/"
        },
        "id": "HatGxODYrnh5",
        "outputId": "896260a4-5de5-44d7-d562-2360c05d31b3"
      },
      "source": [
        "trial.loc[:5, 'wiek']"
      ],
      "execution_count": 42,
      "outputs": [
        {
          "output_type": "execute_result",
          "data": {
            "text/plain": [
              "0    30\n",
              "1    31\n",
              "2    20\n",
              "3    33\n",
              "4    43\n",
              "5    22\n",
              "Name: wiek, dtype: int64"
            ]
          },
          "metadata": {
            "tags": []
          },
          "execution_count": 42
        }
      ]
    },
    {
      "cell_type": "code",
      "metadata": {
        "colab": {
          "base_uri": "https://localhost:8080/",
          "height": 235
        },
        "id": "PR4KYtnFr4BI",
        "outputId": "e6bbfbef-58b6-46e8-e3ef-5e707443e16e"
      },
      "source": [
        "trial.loc[:5, ['wiek', 'plec']]"
      ],
      "execution_count": 43,
      "outputs": [
        {
          "output_type": "execute_result",
          "data": {
            "text/html": [
              "<div>\n",
              "<style scoped>\n",
              "    .dataframe tbody tr th:only-of-type {\n",
              "        vertical-align: middle;\n",
              "    }\n",
              "\n",
              "    .dataframe tbody tr th {\n",
              "        vertical-align: top;\n",
              "    }\n",
              "\n",
              "    .dataframe thead th {\n",
              "        text-align: right;\n",
              "    }\n",
              "</style>\n",
              "<table border=\"1\" class=\"dataframe\">\n",
              "  <thead>\n",
              "    <tr style=\"text-align: right;\">\n",
              "      <th></th>\n",
              "      <th>wiek</th>\n",
              "      <th>plec</th>\n",
              "    </tr>\n",
              "  </thead>\n",
              "  <tbody>\n",
              "    <tr>\n",
              "      <th>0</th>\n",
              "      <td>30</td>\n",
              "      <td>kobieta</td>\n",
              "    </tr>\n",
              "    <tr>\n",
              "      <th>1</th>\n",
              "      <td>31</td>\n",
              "      <td>kobieta</td>\n",
              "    </tr>\n",
              "    <tr>\n",
              "      <th>2</th>\n",
              "      <td>20</td>\n",
              "      <td>mężczyzna</td>\n",
              "    </tr>\n",
              "    <tr>\n",
              "      <th>3</th>\n",
              "      <td>33</td>\n",
              "      <td>mężczyzna</td>\n",
              "    </tr>\n",
              "    <tr>\n",
              "      <th>4</th>\n",
              "      <td>43</td>\n",
              "      <td>kobieta</td>\n",
              "    </tr>\n",
              "    <tr>\n",
              "      <th>5</th>\n",
              "      <td>22</td>\n",
              "      <td>kobieta</td>\n",
              "    </tr>\n",
              "  </tbody>\n",
              "</table>\n",
              "</div>"
            ],
            "text/plain": [
              "   wiek       plec\n",
              "0    30    kobieta\n",
              "1    31    kobieta\n",
              "2    20  mężczyzna\n",
              "3    33  mężczyzna\n",
              "4    43    kobieta\n",
              "5    22    kobieta"
            ]
          },
          "metadata": {
            "tags": []
          },
          "execution_count": 43
        }
      ]
    },
    {
      "cell_type": "code",
      "metadata": {
        "colab": {
          "base_uri": "https://localhost:8080/"
        },
        "id": "cJVf3IN8sFLq",
        "outputId": "2ce81d73-7aee-4d66-ba21-2f0e0b5e234c"
      },
      "source": [
        "trial.loc[5]"
      ],
      "execution_count": 44,
      "outputs": [
        {
          "output_type": "execute_result",
          "data": {
            "text/plain": [
              "id                   6\n",
              "interwencja        lek\n",
              "wiek                22\n",
              "plec           kobieta\n",
              "zgon               tak\n",
              "Name: 5, dtype: object"
            ]
          },
          "metadata": {
            "tags": []
          },
          "execution_count": 44
        }
      ]
    },
    {
      "cell_type": "code",
      "metadata": {
        "colab": {
          "base_uri": "https://localhost:8080/",
          "height": 37
        },
        "id": "TNWDNmjQseDM",
        "outputId": "af9d4d18-c5a4-4d20-d35c-a464b96c12a6"
      },
      "source": [
        "trial.loc[10, 'zgon']"
      ],
      "execution_count": 46,
      "outputs": [
        {
          "output_type": "execute_result",
          "data": {
            "application/vnd.google.colaboratory.intrinsic+json": {
              "type": "string"
            },
            "text/plain": [
              "'tak'"
            ]
          },
          "metadata": {
            "tags": []
          },
          "execution_count": 46
        }
      ]
    },
    {
      "cell_type": "code",
      "metadata": {
        "colab": {
          "base_uri": "https://localhost:8080/"
        },
        "id": "JVfx_Sdbshfc",
        "outputId": "cf51203b-912f-4cec-9e32-83ed5232d58c"
      },
      "source": [
        "trial.loc[10, ['interwencja','zgon']]"
      ],
      "execution_count": 48,
      "outputs": [
        {
          "output_type": "execute_result",
          "data": {
            "text/plain": [
              "interwencja    placebo\n",
              "zgon               tak\n",
              "Name: 10, dtype: object"
            ]
          },
          "metadata": {
            "tags": []
          },
          "execution_count": 48
        }
      ]
    },
    {
      "cell_type": "code",
      "metadata": {
        "colab": {
          "base_uri": "https://localhost:8080/",
          "height": 173
        },
        "id": "kiHRxYRJs3It",
        "outputId": "f02dec2e-bf77-430d-8221-99747e25ec8b"
      },
      "source": [
        "trial.loc[4:10:2, ['interwencja','zgon']]"
      ],
      "execution_count": 51,
      "outputs": [
        {
          "output_type": "execute_result",
          "data": {
            "text/html": [
              "<div>\n",
              "<style scoped>\n",
              "    .dataframe tbody tr th:only-of-type {\n",
              "        vertical-align: middle;\n",
              "    }\n",
              "\n",
              "    .dataframe tbody tr th {\n",
              "        vertical-align: top;\n",
              "    }\n",
              "\n",
              "    .dataframe thead th {\n",
              "        text-align: right;\n",
              "    }\n",
              "</style>\n",
              "<table border=\"1\" class=\"dataframe\">\n",
              "  <thead>\n",
              "    <tr style=\"text-align: right;\">\n",
              "      <th></th>\n",
              "      <th>interwencja</th>\n",
              "      <th>zgon</th>\n",
              "    </tr>\n",
              "  </thead>\n",
              "  <tbody>\n",
              "    <tr>\n",
              "      <th>4</th>\n",
              "      <td>lek</td>\n",
              "      <td>tak</td>\n",
              "    </tr>\n",
              "    <tr>\n",
              "      <th>6</th>\n",
              "      <td>lek</td>\n",
              "      <td>tak</td>\n",
              "    </tr>\n",
              "    <tr>\n",
              "      <th>8</th>\n",
              "      <td>lek</td>\n",
              "      <td>nie</td>\n",
              "    </tr>\n",
              "    <tr>\n",
              "      <th>10</th>\n",
              "      <td>placebo</td>\n",
              "      <td>tak</td>\n",
              "    </tr>\n",
              "  </tbody>\n",
              "</table>\n",
              "</div>"
            ],
            "text/plain": [
              "   interwencja zgon\n",
              "4          lek  tak\n",
              "6          lek  tak\n",
              "8          lek  nie\n",
              "10     placebo  tak"
            ]
          },
          "metadata": {
            "tags": []
          },
          "execution_count": 51
        }
      ]
    },
    {
      "cell_type": "code",
      "metadata": {
        "colab": {
          "base_uri": "https://localhost:8080/",
          "height": 669
        },
        "id": "0Ndk-sL-tCIn",
        "outputId": "146d2a22-5829-4544-d39e-b0946ac0dd95"
      },
      "source": [
        "trial"
      ],
      "execution_count": 52,
      "outputs": [
        {
          "output_type": "execute_result",
          "data": {
            "text/html": [
              "<div>\n",
              "<style scoped>\n",
              "    .dataframe tbody tr th:only-of-type {\n",
              "        vertical-align: middle;\n",
              "    }\n",
              "\n",
              "    .dataframe tbody tr th {\n",
              "        vertical-align: top;\n",
              "    }\n",
              "\n",
              "    .dataframe thead th {\n",
              "        text-align: right;\n",
              "    }\n",
              "</style>\n",
              "<table border=\"1\" class=\"dataframe\">\n",
              "  <thead>\n",
              "    <tr style=\"text-align: right;\">\n",
              "      <th></th>\n",
              "      <th>id</th>\n",
              "      <th>interwencja</th>\n",
              "      <th>wiek</th>\n",
              "      <th>plec</th>\n",
              "      <th>zgon</th>\n",
              "    </tr>\n",
              "  </thead>\n",
              "  <tbody>\n",
              "    <tr>\n",
              "      <th>0</th>\n",
              "      <td>1</td>\n",
              "      <td>lek</td>\n",
              "      <td>30</td>\n",
              "      <td>kobieta</td>\n",
              "      <td>tak</td>\n",
              "    </tr>\n",
              "    <tr>\n",
              "      <th>1</th>\n",
              "      <td>2</td>\n",
              "      <td>lek</td>\n",
              "      <td>31</td>\n",
              "      <td>kobieta</td>\n",
              "      <td>tak</td>\n",
              "    </tr>\n",
              "    <tr>\n",
              "      <th>2</th>\n",
              "      <td>3</td>\n",
              "      <td>lek</td>\n",
              "      <td>20</td>\n",
              "      <td>mężczyzna</td>\n",
              "      <td>tak</td>\n",
              "    </tr>\n",
              "    <tr>\n",
              "      <th>3</th>\n",
              "      <td>4</td>\n",
              "      <td>lek</td>\n",
              "      <td>33</td>\n",
              "      <td>mężczyzna</td>\n",
              "      <td>tak</td>\n",
              "    </tr>\n",
              "    <tr>\n",
              "      <th>4</th>\n",
              "      <td>5</td>\n",
              "      <td>lek</td>\n",
              "      <td>43</td>\n",
              "      <td>kobieta</td>\n",
              "      <td>tak</td>\n",
              "    </tr>\n",
              "    <tr>\n",
              "      <th>5</th>\n",
              "      <td>6</td>\n",
              "      <td>lek</td>\n",
              "      <td>22</td>\n",
              "      <td>kobieta</td>\n",
              "      <td>tak</td>\n",
              "    </tr>\n",
              "    <tr>\n",
              "      <th>6</th>\n",
              "      <td>7</td>\n",
              "      <td>lek</td>\n",
              "      <td>33</td>\n",
              "      <td>mężczyzna</td>\n",
              "      <td>tak</td>\n",
              "    </tr>\n",
              "    <tr>\n",
              "      <th>7</th>\n",
              "      <td>8</td>\n",
              "      <td>lek</td>\n",
              "      <td>23</td>\n",
              "      <td>mężczyzna</td>\n",
              "      <td>nie</td>\n",
              "    </tr>\n",
              "    <tr>\n",
              "      <th>8</th>\n",
              "      <td>9</td>\n",
              "      <td>lek</td>\n",
              "      <td>32</td>\n",
              "      <td>kobieta</td>\n",
              "      <td>nie</td>\n",
              "    </tr>\n",
              "    <tr>\n",
              "      <th>9</th>\n",
              "      <td>10</td>\n",
              "      <td>lek</td>\n",
              "      <td>19</td>\n",
              "      <td>kobieta</td>\n",
              "      <td>nie</td>\n",
              "    </tr>\n",
              "    <tr>\n",
              "      <th>10</th>\n",
              "      <td>11</td>\n",
              "      <td>placebo</td>\n",
              "      <td>33</td>\n",
              "      <td>mężczyzna</td>\n",
              "      <td>tak</td>\n",
              "    </tr>\n",
              "    <tr>\n",
              "      <th>11</th>\n",
              "      <td>12</td>\n",
              "      <td>placebo</td>\n",
              "      <td>23</td>\n",
              "      <td>mężczyzna</td>\n",
              "      <td>tak</td>\n",
              "    </tr>\n",
              "    <tr>\n",
              "      <th>12</th>\n",
              "      <td>13</td>\n",
              "      <td>placebo</td>\n",
              "      <td>32</td>\n",
              "      <td>kobieta</td>\n",
              "      <td>tak</td>\n",
              "    </tr>\n",
              "    <tr>\n",
              "      <th>13</th>\n",
              "      <td>14</td>\n",
              "      <td>placebo</td>\n",
              "      <td>19</td>\n",
              "      <td>kobieta</td>\n",
              "      <td>nie</td>\n",
              "    </tr>\n",
              "    <tr>\n",
              "      <th>14</th>\n",
              "      <td>15</td>\n",
              "      <td>placebo</td>\n",
              "      <td>41</td>\n",
              "      <td>mężczyzna</td>\n",
              "      <td>nie</td>\n",
              "    </tr>\n",
              "    <tr>\n",
              "      <th>15</th>\n",
              "      <td>16</td>\n",
              "      <td>placebo</td>\n",
              "      <td>40</td>\n",
              "      <td>mężczyzna</td>\n",
              "      <td>nie</td>\n",
              "    </tr>\n",
              "    <tr>\n",
              "      <th>16</th>\n",
              "      <td>17</td>\n",
              "      <td>placebo</td>\n",
              "      <td>19</td>\n",
              "      <td>kobieta</td>\n",
              "      <td>nie</td>\n",
              "    </tr>\n",
              "    <tr>\n",
              "      <th>17</th>\n",
              "      <td>18</td>\n",
              "      <td>placebo</td>\n",
              "      <td>20</td>\n",
              "      <td>kobieta</td>\n",
              "      <td>nie</td>\n",
              "    </tr>\n",
              "    <tr>\n",
              "      <th>18</th>\n",
              "      <td>19</td>\n",
              "      <td>placebo</td>\n",
              "      <td>33</td>\n",
              "      <td>mężczyzna</td>\n",
              "      <td>nie</td>\n",
              "    </tr>\n",
              "    <tr>\n",
              "      <th>19</th>\n",
              "      <td>20</td>\n",
              "      <td>placebo</td>\n",
              "      <td>22</td>\n",
              "      <td>mężczyzna</td>\n",
              "      <td>nie</td>\n",
              "    </tr>\n",
              "  </tbody>\n",
              "</table>\n",
              "</div>"
            ],
            "text/plain": [
              "    id interwencja  wiek       plec zgon\n",
              "0    1         lek    30    kobieta  tak\n",
              "1    2         lek    31    kobieta  tak\n",
              "2    3         lek    20  mężczyzna  tak\n",
              "3    4         lek    33  mężczyzna  tak\n",
              "4    5         lek    43    kobieta  tak\n",
              "5    6         lek    22    kobieta  tak\n",
              "6    7         lek    33  mężczyzna  tak\n",
              "7    8         lek    23  mężczyzna  nie\n",
              "8    9         lek    32    kobieta  nie\n",
              "9   10         lek    19    kobieta  nie\n",
              "10  11     placebo    33  mężczyzna  tak\n",
              "11  12     placebo    23  mężczyzna  tak\n",
              "12  13     placebo    32    kobieta  tak\n",
              "13  14     placebo    19    kobieta  nie\n",
              "14  15     placebo    41  mężczyzna  nie\n",
              "15  16     placebo    40  mężczyzna  nie\n",
              "16  17     placebo    19    kobieta  nie\n",
              "17  18     placebo    20    kobieta  nie\n",
              "18  19     placebo    33  mężczyzna  nie\n",
              "19  20     placebo    22  mężczyzna  nie"
            ]
          },
          "metadata": {
            "tags": []
          },
          "execution_count": 52
        }
      ]
    },
    {
      "cell_type": "code",
      "metadata": {
        "colab": {
          "base_uri": "https://localhost:8080/",
          "height": 235
        },
        "id": "uN8BFBAutSCk",
        "outputId": "1b2f41bf-9c21-4a17-bc1e-7fa39da03fbc"
      },
      "source": [
        "trial.loc[5:10, 'wiek':'zgon']"
      ],
      "execution_count": 53,
      "outputs": [
        {
          "output_type": "execute_result",
          "data": {
            "text/html": [
              "<div>\n",
              "<style scoped>\n",
              "    .dataframe tbody tr th:only-of-type {\n",
              "        vertical-align: middle;\n",
              "    }\n",
              "\n",
              "    .dataframe tbody tr th {\n",
              "        vertical-align: top;\n",
              "    }\n",
              "\n",
              "    .dataframe thead th {\n",
              "        text-align: right;\n",
              "    }\n",
              "</style>\n",
              "<table border=\"1\" class=\"dataframe\">\n",
              "  <thead>\n",
              "    <tr style=\"text-align: right;\">\n",
              "      <th></th>\n",
              "      <th>wiek</th>\n",
              "      <th>plec</th>\n",
              "      <th>zgon</th>\n",
              "    </tr>\n",
              "  </thead>\n",
              "  <tbody>\n",
              "    <tr>\n",
              "      <th>5</th>\n",
              "      <td>22</td>\n",
              "      <td>kobieta</td>\n",
              "      <td>tak</td>\n",
              "    </tr>\n",
              "    <tr>\n",
              "      <th>6</th>\n",
              "      <td>33</td>\n",
              "      <td>mężczyzna</td>\n",
              "      <td>tak</td>\n",
              "    </tr>\n",
              "    <tr>\n",
              "      <th>7</th>\n",
              "      <td>23</td>\n",
              "      <td>mężczyzna</td>\n",
              "      <td>nie</td>\n",
              "    </tr>\n",
              "    <tr>\n",
              "      <th>8</th>\n",
              "      <td>32</td>\n",
              "      <td>kobieta</td>\n",
              "      <td>nie</td>\n",
              "    </tr>\n",
              "    <tr>\n",
              "      <th>9</th>\n",
              "      <td>19</td>\n",
              "      <td>kobieta</td>\n",
              "      <td>nie</td>\n",
              "    </tr>\n",
              "    <tr>\n",
              "      <th>10</th>\n",
              "      <td>33</td>\n",
              "      <td>mężczyzna</td>\n",
              "      <td>tak</td>\n",
              "    </tr>\n",
              "  </tbody>\n",
              "</table>\n",
              "</div>"
            ],
            "text/plain": [
              "    wiek       plec zgon\n",
              "5     22    kobieta  tak\n",
              "6     33  mężczyzna  tak\n",
              "7     23  mężczyzna  nie\n",
              "8     32    kobieta  nie\n",
              "9     19    kobieta  nie\n",
              "10    33  mężczyzna  tak"
            ]
          },
          "metadata": {
            "tags": []
          },
          "execution_count": 53
        }
      ]
    },
    {
      "cell_type": "code",
      "metadata": {
        "colab": {
          "base_uri": "https://localhost:8080/"
        },
        "id": "u7T4iUpftW0y",
        "outputId": "552e2160-fe26-4287-c524-0fdce06556e3"
      },
      "source": [
        "trial.loc[trial.zgon == 'tak', 'wiek'].describe()"
      ],
      "execution_count": 57,
      "outputs": [
        {
          "output_type": "execute_result",
          "data": {
            "text/plain": [
              "count    10.00000\n",
              "mean     30.00000\n",
              "std       6.78233\n",
              "min      20.00000\n",
              "25%      24.75000\n",
              "50%      31.50000\n",
              "75%      33.00000\n",
              "max      43.00000\n",
              "Name: wiek, dtype: float64"
            ]
          },
          "metadata": {
            "tags": []
          },
          "execution_count": 57
        }
      ]
    },
    {
      "cell_type": "code",
      "metadata": {
        "colab": {
          "base_uri": "https://localhost:8080/"
        },
        "id": "SJD2rSF5trwx",
        "outputId": "87b4f5da-4264-42b0-fa33-c5c58ad9d57d"
      },
      "source": [
        "trial.loc[trial.zgon == 'nie', 'wiek'].describe()"
      ],
      "execution_count": 58,
      "outputs": [
        {
          "output_type": "execute_result",
          "data": {
            "text/plain": [
              "count    10.000000\n",
              "mean     26.800000\n",
              "std       8.866917\n",
              "min      19.000000\n",
              "25%      19.250000\n",
              "50%      22.500000\n",
              "75%      32.750000\n",
              "max      41.000000\n",
              "Name: wiek, dtype: float64"
            ]
          },
          "metadata": {
            "tags": []
          },
          "execution_count": 58
        }
      ]
    },
    {
      "cell_type": "code",
      "metadata": {
        "colab": {
          "base_uri": "https://localhost:8080/"
        },
        "id": "Kb3KtXTct6pi",
        "outputId": "81f4278f-df61-4b19-9d3a-120ae40a290e"
      },
      "source": [
        "trial.loc[4, 'wiek']"
      ],
      "execution_count": 59,
      "outputs": [
        {
          "output_type": "execute_result",
          "data": {
            "text/plain": [
              "43"
            ]
          },
          "metadata": {
            "tags": []
          },
          "execution_count": 59
        }
      ]
    },
    {
      "cell_type": "code",
      "metadata": {
        "colab": {
          "base_uri": "https://localhost:8080/"
        },
        "id": "71V0dx1UuJ4D",
        "outputId": "5a4d0703-09c3-4d24-8328-7d97695ab86e"
      },
      "source": [
        "trial.loc[4:101, 'wiek']"
      ],
      "execution_count": 60,
      "outputs": [
        {
          "output_type": "execute_result",
          "data": {
            "text/plain": [
              "4     43\n",
              "5     22\n",
              "6     33\n",
              "7     23\n",
              "8     32\n",
              "9     19\n",
              "10    33\n",
              "11    23\n",
              "12    32\n",
              "13    19\n",
              "14    41\n",
              "15    40\n",
              "16    19\n",
              "17    20\n",
              "18    33\n",
              "19    22\n",
              "Name: wiek, dtype: int64"
            ]
          },
          "metadata": {
            "tags": []
          },
          "execution_count": 60
        }
      ]
    },
    {
      "cell_type": "code",
      "metadata": {
        "colab": {
          "base_uri": "https://localhost:8080/",
          "height": 545
        },
        "id": "8TCg6l_FuL9S",
        "outputId": "2f968973-32a2-4b49-ed6f-f9014491d758"
      },
      "source": [
        "trial.loc[4:, ['wiek', 'id']]"
      ],
      "execution_count": 64,
      "outputs": [
        {
          "output_type": "execute_result",
          "data": {
            "text/html": [
              "<div>\n",
              "<style scoped>\n",
              "    .dataframe tbody tr th:only-of-type {\n",
              "        vertical-align: middle;\n",
              "    }\n",
              "\n",
              "    .dataframe tbody tr th {\n",
              "        vertical-align: top;\n",
              "    }\n",
              "\n",
              "    .dataframe thead th {\n",
              "        text-align: right;\n",
              "    }\n",
              "</style>\n",
              "<table border=\"1\" class=\"dataframe\">\n",
              "  <thead>\n",
              "    <tr style=\"text-align: right;\">\n",
              "      <th></th>\n",
              "      <th>wiek</th>\n",
              "      <th>id</th>\n",
              "    </tr>\n",
              "  </thead>\n",
              "  <tbody>\n",
              "    <tr>\n",
              "      <th>4</th>\n",
              "      <td>43</td>\n",
              "      <td>5</td>\n",
              "    </tr>\n",
              "    <tr>\n",
              "      <th>5</th>\n",
              "      <td>22</td>\n",
              "      <td>6</td>\n",
              "    </tr>\n",
              "    <tr>\n",
              "      <th>6</th>\n",
              "      <td>33</td>\n",
              "      <td>7</td>\n",
              "    </tr>\n",
              "    <tr>\n",
              "      <th>7</th>\n",
              "      <td>23</td>\n",
              "      <td>8</td>\n",
              "    </tr>\n",
              "    <tr>\n",
              "      <th>8</th>\n",
              "      <td>32</td>\n",
              "      <td>9</td>\n",
              "    </tr>\n",
              "    <tr>\n",
              "      <th>9</th>\n",
              "      <td>19</td>\n",
              "      <td>10</td>\n",
              "    </tr>\n",
              "    <tr>\n",
              "      <th>10</th>\n",
              "      <td>33</td>\n",
              "      <td>11</td>\n",
              "    </tr>\n",
              "    <tr>\n",
              "      <th>11</th>\n",
              "      <td>23</td>\n",
              "      <td>12</td>\n",
              "    </tr>\n",
              "    <tr>\n",
              "      <th>12</th>\n",
              "      <td>32</td>\n",
              "      <td>13</td>\n",
              "    </tr>\n",
              "    <tr>\n",
              "      <th>13</th>\n",
              "      <td>19</td>\n",
              "      <td>14</td>\n",
              "    </tr>\n",
              "    <tr>\n",
              "      <th>14</th>\n",
              "      <td>41</td>\n",
              "      <td>15</td>\n",
              "    </tr>\n",
              "    <tr>\n",
              "      <th>15</th>\n",
              "      <td>40</td>\n",
              "      <td>16</td>\n",
              "    </tr>\n",
              "    <tr>\n",
              "      <th>16</th>\n",
              "      <td>19</td>\n",
              "      <td>17</td>\n",
              "    </tr>\n",
              "    <tr>\n",
              "      <th>17</th>\n",
              "      <td>20</td>\n",
              "      <td>18</td>\n",
              "    </tr>\n",
              "    <tr>\n",
              "      <th>18</th>\n",
              "      <td>33</td>\n",
              "      <td>19</td>\n",
              "    </tr>\n",
              "    <tr>\n",
              "      <th>19</th>\n",
              "      <td>22</td>\n",
              "      <td>20</td>\n",
              "    </tr>\n",
              "  </tbody>\n",
              "</table>\n",
              "</div>"
            ],
            "text/plain": [
              "    wiek  id\n",
              "4     43   5\n",
              "5     22   6\n",
              "6     33   7\n",
              "7     23   8\n",
              "8     32   9\n",
              "9     19  10\n",
              "10    33  11\n",
              "11    23  12\n",
              "12    32  13\n",
              "13    19  14\n",
              "14    41  15\n",
              "15    40  16\n",
              "16    19  17\n",
              "17    20  18\n",
              "18    33  19\n",
              "19    22  20"
            ]
          },
          "metadata": {
            "tags": []
          },
          "execution_count": 64
        }
      ]
    },
    {
      "cell_type": "code",
      "metadata": {
        "colab": {
          "base_uri": "https://localhost:8080/",
          "height": 669
        },
        "id": "oJIf1VXVuRqN",
        "outputId": "e888b224-24f3-4c93-a5d0-8f82a6be6d17"
      },
      "source": [
        "trial[['wiek', 'zgon']]"
      ],
      "execution_count": 67,
      "outputs": [
        {
          "output_type": "execute_result",
          "data": {
            "text/html": [
              "<div>\n",
              "<style scoped>\n",
              "    .dataframe tbody tr th:only-of-type {\n",
              "        vertical-align: middle;\n",
              "    }\n",
              "\n",
              "    .dataframe tbody tr th {\n",
              "        vertical-align: top;\n",
              "    }\n",
              "\n",
              "    .dataframe thead th {\n",
              "        text-align: right;\n",
              "    }\n",
              "</style>\n",
              "<table border=\"1\" class=\"dataframe\">\n",
              "  <thead>\n",
              "    <tr style=\"text-align: right;\">\n",
              "      <th></th>\n",
              "      <th>wiek</th>\n",
              "      <th>zgon</th>\n",
              "    </tr>\n",
              "  </thead>\n",
              "  <tbody>\n",
              "    <tr>\n",
              "      <th>0</th>\n",
              "      <td>30</td>\n",
              "      <td>tak</td>\n",
              "    </tr>\n",
              "    <tr>\n",
              "      <th>1</th>\n",
              "      <td>31</td>\n",
              "      <td>tak</td>\n",
              "    </tr>\n",
              "    <tr>\n",
              "      <th>2</th>\n",
              "      <td>20</td>\n",
              "      <td>tak</td>\n",
              "    </tr>\n",
              "    <tr>\n",
              "      <th>3</th>\n",
              "      <td>33</td>\n",
              "      <td>tak</td>\n",
              "    </tr>\n",
              "    <tr>\n",
              "      <th>4</th>\n",
              "      <td>43</td>\n",
              "      <td>tak</td>\n",
              "    </tr>\n",
              "    <tr>\n",
              "      <th>5</th>\n",
              "      <td>22</td>\n",
              "      <td>tak</td>\n",
              "    </tr>\n",
              "    <tr>\n",
              "      <th>6</th>\n",
              "      <td>33</td>\n",
              "      <td>tak</td>\n",
              "    </tr>\n",
              "    <tr>\n",
              "      <th>7</th>\n",
              "      <td>23</td>\n",
              "      <td>nie</td>\n",
              "    </tr>\n",
              "    <tr>\n",
              "      <th>8</th>\n",
              "      <td>32</td>\n",
              "      <td>nie</td>\n",
              "    </tr>\n",
              "    <tr>\n",
              "      <th>9</th>\n",
              "      <td>19</td>\n",
              "      <td>nie</td>\n",
              "    </tr>\n",
              "    <tr>\n",
              "      <th>10</th>\n",
              "      <td>33</td>\n",
              "      <td>tak</td>\n",
              "    </tr>\n",
              "    <tr>\n",
              "      <th>11</th>\n",
              "      <td>23</td>\n",
              "      <td>tak</td>\n",
              "    </tr>\n",
              "    <tr>\n",
              "      <th>12</th>\n",
              "      <td>32</td>\n",
              "      <td>tak</td>\n",
              "    </tr>\n",
              "    <tr>\n",
              "      <th>13</th>\n",
              "      <td>19</td>\n",
              "      <td>nie</td>\n",
              "    </tr>\n",
              "    <tr>\n",
              "      <th>14</th>\n",
              "      <td>41</td>\n",
              "      <td>nie</td>\n",
              "    </tr>\n",
              "    <tr>\n",
              "      <th>15</th>\n",
              "      <td>40</td>\n",
              "      <td>nie</td>\n",
              "    </tr>\n",
              "    <tr>\n",
              "      <th>16</th>\n",
              "      <td>19</td>\n",
              "      <td>nie</td>\n",
              "    </tr>\n",
              "    <tr>\n",
              "      <th>17</th>\n",
              "      <td>20</td>\n",
              "      <td>nie</td>\n",
              "    </tr>\n",
              "    <tr>\n",
              "      <th>18</th>\n",
              "      <td>33</td>\n",
              "      <td>nie</td>\n",
              "    </tr>\n",
              "    <tr>\n",
              "      <th>19</th>\n",
              "      <td>22</td>\n",
              "      <td>nie</td>\n",
              "    </tr>\n",
              "  </tbody>\n",
              "</table>\n",
              "</div>"
            ],
            "text/plain": [
              "    wiek zgon\n",
              "0     30  tak\n",
              "1     31  tak\n",
              "2     20  tak\n",
              "3     33  tak\n",
              "4     43  tak\n",
              "5     22  tak\n",
              "6     33  tak\n",
              "7     23  nie\n",
              "8     32  nie\n",
              "9     19  nie\n",
              "10    33  tak\n",
              "11    23  tak\n",
              "12    32  tak\n",
              "13    19  nie\n",
              "14    41  nie\n",
              "15    40  nie\n",
              "16    19  nie\n",
              "17    20  nie\n",
              "18    33  nie\n",
              "19    22  nie"
            ]
          },
          "metadata": {
            "tags": []
          },
          "execution_count": 67
        }
      ]
    },
    {
      "cell_type": "code",
      "metadata": {
        "colab": {
          "base_uri": "https://localhost:8080/",
          "height": 669
        },
        "id": "Yialz_5OunTH",
        "outputId": "9c59ca99-d564-487c-e1ad-d5330cb2764d"
      },
      "source": [
        "trial.loc[:, ['zgon', 'wiek']]"
      ],
      "execution_count": 68,
      "outputs": [
        {
          "output_type": "execute_result",
          "data": {
            "text/html": [
              "<div>\n",
              "<style scoped>\n",
              "    .dataframe tbody tr th:only-of-type {\n",
              "        vertical-align: middle;\n",
              "    }\n",
              "\n",
              "    .dataframe tbody tr th {\n",
              "        vertical-align: top;\n",
              "    }\n",
              "\n",
              "    .dataframe thead th {\n",
              "        text-align: right;\n",
              "    }\n",
              "</style>\n",
              "<table border=\"1\" class=\"dataframe\">\n",
              "  <thead>\n",
              "    <tr style=\"text-align: right;\">\n",
              "      <th></th>\n",
              "      <th>zgon</th>\n",
              "      <th>wiek</th>\n",
              "    </tr>\n",
              "  </thead>\n",
              "  <tbody>\n",
              "    <tr>\n",
              "      <th>0</th>\n",
              "      <td>tak</td>\n",
              "      <td>30</td>\n",
              "    </tr>\n",
              "    <tr>\n",
              "      <th>1</th>\n",
              "      <td>tak</td>\n",
              "      <td>31</td>\n",
              "    </tr>\n",
              "    <tr>\n",
              "      <th>2</th>\n",
              "      <td>tak</td>\n",
              "      <td>20</td>\n",
              "    </tr>\n",
              "    <tr>\n",
              "      <th>3</th>\n",
              "      <td>tak</td>\n",
              "      <td>33</td>\n",
              "    </tr>\n",
              "    <tr>\n",
              "      <th>4</th>\n",
              "      <td>tak</td>\n",
              "      <td>43</td>\n",
              "    </tr>\n",
              "    <tr>\n",
              "      <th>5</th>\n",
              "      <td>tak</td>\n",
              "      <td>22</td>\n",
              "    </tr>\n",
              "    <tr>\n",
              "      <th>6</th>\n",
              "      <td>tak</td>\n",
              "      <td>33</td>\n",
              "    </tr>\n",
              "    <tr>\n",
              "      <th>7</th>\n",
              "      <td>nie</td>\n",
              "      <td>23</td>\n",
              "    </tr>\n",
              "    <tr>\n",
              "      <th>8</th>\n",
              "      <td>nie</td>\n",
              "      <td>32</td>\n",
              "    </tr>\n",
              "    <tr>\n",
              "      <th>9</th>\n",
              "      <td>nie</td>\n",
              "      <td>19</td>\n",
              "    </tr>\n",
              "    <tr>\n",
              "      <th>10</th>\n",
              "      <td>tak</td>\n",
              "      <td>33</td>\n",
              "    </tr>\n",
              "    <tr>\n",
              "      <th>11</th>\n",
              "      <td>tak</td>\n",
              "      <td>23</td>\n",
              "    </tr>\n",
              "    <tr>\n",
              "      <th>12</th>\n",
              "      <td>tak</td>\n",
              "      <td>32</td>\n",
              "    </tr>\n",
              "    <tr>\n",
              "      <th>13</th>\n",
              "      <td>nie</td>\n",
              "      <td>19</td>\n",
              "    </tr>\n",
              "    <tr>\n",
              "      <th>14</th>\n",
              "      <td>nie</td>\n",
              "      <td>41</td>\n",
              "    </tr>\n",
              "    <tr>\n",
              "      <th>15</th>\n",
              "      <td>nie</td>\n",
              "      <td>40</td>\n",
              "    </tr>\n",
              "    <tr>\n",
              "      <th>16</th>\n",
              "      <td>nie</td>\n",
              "      <td>19</td>\n",
              "    </tr>\n",
              "    <tr>\n",
              "      <th>17</th>\n",
              "      <td>nie</td>\n",
              "      <td>20</td>\n",
              "    </tr>\n",
              "    <tr>\n",
              "      <th>18</th>\n",
              "      <td>nie</td>\n",
              "      <td>33</td>\n",
              "    </tr>\n",
              "    <tr>\n",
              "      <th>19</th>\n",
              "      <td>nie</td>\n",
              "      <td>22</td>\n",
              "    </tr>\n",
              "  </tbody>\n",
              "</table>\n",
              "</div>"
            ],
            "text/plain": [
              "   zgon  wiek\n",
              "0   tak    30\n",
              "1   tak    31\n",
              "2   tak    20\n",
              "3   tak    33\n",
              "4   tak    43\n",
              "5   tak    22\n",
              "6   tak    33\n",
              "7   nie    23\n",
              "8   nie    32\n",
              "9   nie    19\n",
              "10  tak    33\n",
              "11  tak    23\n",
              "12  tak    32\n",
              "13  nie    19\n",
              "14  nie    41\n",
              "15  nie    40\n",
              "16  nie    19\n",
              "17  nie    20\n",
              "18  nie    33\n",
              "19  nie    22"
            ]
          },
          "metadata": {
            "tags": []
          },
          "execution_count": 68
        }
      ]
    },
    {
      "cell_type": "code",
      "metadata": {
        "colab": {
          "base_uri": "https://localhost:8080/",
          "height": 235
        },
        "id": "HLrD6XdjvBID",
        "outputId": "fae94333-c222-4d64-e403-b0a257f44c4f"
      },
      "source": [
        "trial.loc[:5, :]"
      ],
      "execution_count": 76,
      "outputs": [
        {
          "output_type": "execute_result",
          "data": {
            "text/html": [
              "<div>\n",
              "<style scoped>\n",
              "    .dataframe tbody tr th:only-of-type {\n",
              "        vertical-align: middle;\n",
              "    }\n",
              "\n",
              "    .dataframe tbody tr th {\n",
              "        vertical-align: top;\n",
              "    }\n",
              "\n",
              "    .dataframe thead th {\n",
              "        text-align: right;\n",
              "    }\n",
              "</style>\n",
              "<table border=\"1\" class=\"dataframe\">\n",
              "  <thead>\n",
              "    <tr style=\"text-align: right;\">\n",
              "      <th></th>\n",
              "      <th>id</th>\n",
              "      <th>interwencja</th>\n",
              "      <th>wiek</th>\n",
              "      <th>plec</th>\n",
              "      <th>zgon</th>\n",
              "    </tr>\n",
              "  </thead>\n",
              "  <tbody>\n",
              "    <tr>\n",
              "      <th>0</th>\n",
              "      <td>1</td>\n",
              "      <td>lek</td>\n",
              "      <td>30</td>\n",
              "      <td>kobieta</td>\n",
              "      <td>tak</td>\n",
              "    </tr>\n",
              "    <tr>\n",
              "      <th>1</th>\n",
              "      <td>2</td>\n",
              "      <td>lek</td>\n",
              "      <td>31</td>\n",
              "      <td>kobieta</td>\n",
              "      <td>tak</td>\n",
              "    </tr>\n",
              "    <tr>\n",
              "      <th>2</th>\n",
              "      <td>3</td>\n",
              "      <td>lek</td>\n",
              "      <td>20</td>\n",
              "      <td>mężczyzna</td>\n",
              "      <td>tak</td>\n",
              "    </tr>\n",
              "    <tr>\n",
              "      <th>3</th>\n",
              "      <td>4</td>\n",
              "      <td>lek</td>\n",
              "      <td>33</td>\n",
              "      <td>mężczyzna</td>\n",
              "      <td>tak</td>\n",
              "    </tr>\n",
              "    <tr>\n",
              "      <th>4</th>\n",
              "      <td>5</td>\n",
              "      <td>lek</td>\n",
              "      <td>43</td>\n",
              "      <td>kobieta</td>\n",
              "      <td>tak</td>\n",
              "    </tr>\n",
              "    <tr>\n",
              "      <th>5</th>\n",
              "      <td>6</td>\n",
              "      <td>lek</td>\n",
              "      <td>22</td>\n",
              "      <td>kobieta</td>\n",
              "      <td>tak</td>\n",
              "    </tr>\n",
              "  </tbody>\n",
              "</table>\n",
              "</div>"
            ],
            "text/plain": [
              "   id interwencja  wiek       plec zgon\n",
              "0   1         lek    30    kobieta  tak\n",
              "1   2         lek    31    kobieta  tak\n",
              "2   3         lek    20  mężczyzna  tak\n",
              "3   4         lek    33  mężczyzna  tak\n",
              "4   5         lek    43    kobieta  tak\n",
              "5   6         lek    22    kobieta  tak"
            ]
          },
          "metadata": {
            "tags": []
          },
          "execution_count": 76
        }
      ]
    },
    {
      "cell_type": "code",
      "metadata": {
        "id": "2VhB7i_CvDzQ"
      },
      "source": [
        ""
      ],
      "execution_count": null,
      "outputs": []
    },
    {
      "cell_type": "markdown",
      "metadata": {
        "id": "omiUPPiBv5O4"
      },
      "source": [
        "# To jest tabela"
      ]
    },
    {
      "cell_type": "code",
      "metadata": {
        "colab": {
          "base_uri": "https://localhost:8080/",
          "height": 669
        },
        "id": "Fs9FLlGfv6lE",
        "outputId": "a053ce50-1061-46af-8d72-5ce1cb20ae4b"
      },
      "source": [
        "trial"
      ],
      "execution_count": 77,
      "outputs": [
        {
          "output_type": "execute_result",
          "data": {
            "text/html": [
              "<div>\n",
              "<style scoped>\n",
              "    .dataframe tbody tr th:only-of-type {\n",
              "        vertical-align: middle;\n",
              "    }\n",
              "\n",
              "    .dataframe tbody tr th {\n",
              "        vertical-align: top;\n",
              "    }\n",
              "\n",
              "    .dataframe thead th {\n",
              "        text-align: right;\n",
              "    }\n",
              "</style>\n",
              "<table border=\"1\" class=\"dataframe\">\n",
              "  <thead>\n",
              "    <tr style=\"text-align: right;\">\n",
              "      <th></th>\n",
              "      <th>id</th>\n",
              "      <th>interwencja</th>\n",
              "      <th>wiek</th>\n",
              "      <th>plec</th>\n",
              "      <th>zgon</th>\n",
              "    </tr>\n",
              "  </thead>\n",
              "  <tbody>\n",
              "    <tr>\n",
              "      <th>0</th>\n",
              "      <td>1</td>\n",
              "      <td>lek</td>\n",
              "      <td>30</td>\n",
              "      <td>kobieta</td>\n",
              "      <td>tak</td>\n",
              "    </tr>\n",
              "    <tr>\n",
              "      <th>1</th>\n",
              "      <td>2</td>\n",
              "      <td>lek</td>\n",
              "      <td>31</td>\n",
              "      <td>kobieta</td>\n",
              "      <td>tak</td>\n",
              "    </tr>\n",
              "    <tr>\n",
              "      <th>2</th>\n",
              "      <td>3</td>\n",
              "      <td>lek</td>\n",
              "      <td>20</td>\n",
              "      <td>mężczyzna</td>\n",
              "      <td>tak</td>\n",
              "    </tr>\n",
              "    <tr>\n",
              "      <th>3</th>\n",
              "      <td>4</td>\n",
              "      <td>lek</td>\n",
              "      <td>33</td>\n",
              "      <td>mężczyzna</td>\n",
              "      <td>tak</td>\n",
              "    </tr>\n",
              "    <tr>\n",
              "      <th>4</th>\n",
              "      <td>5</td>\n",
              "      <td>lek</td>\n",
              "      <td>43</td>\n",
              "      <td>kobieta</td>\n",
              "      <td>tak</td>\n",
              "    </tr>\n",
              "    <tr>\n",
              "      <th>5</th>\n",
              "      <td>6</td>\n",
              "      <td>lek</td>\n",
              "      <td>22</td>\n",
              "      <td>kobieta</td>\n",
              "      <td>tak</td>\n",
              "    </tr>\n",
              "    <tr>\n",
              "      <th>6</th>\n",
              "      <td>7</td>\n",
              "      <td>lek</td>\n",
              "      <td>33</td>\n",
              "      <td>mężczyzna</td>\n",
              "      <td>tak</td>\n",
              "    </tr>\n",
              "    <tr>\n",
              "      <th>7</th>\n",
              "      <td>8</td>\n",
              "      <td>lek</td>\n",
              "      <td>23</td>\n",
              "      <td>mężczyzna</td>\n",
              "      <td>nie</td>\n",
              "    </tr>\n",
              "    <tr>\n",
              "      <th>8</th>\n",
              "      <td>9</td>\n",
              "      <td>lek</td>\n",
              "      <td>32</td>\n",
              "      <td>kobieta</td>\n",
              "      <td>nie</td>\n",
              "    </tr>\n",
              "    <tr>\n",
              "      <th>9</th>\n",
              "      <td>10</td>\n",
              "      <td>lek</td>\n",
              "      <td>19</td>\n",
              "      <td>kobieta</td>\n",
              "      <td>nie</td>\n",
              "    </tr>\n",
              "    <tr>\n",
              "      <th>10</th>\n",
              "      <td>11</td>\n",
              "      <td>placebo</td>\n",
              "      <td>33</td>\n",
              "      <td>mężczyzna</td>\n",
              "      <td>tak</td>\n",
              "    </tr>\n",
              "    <tr>\n",
              "      <th>11</th>\n",
              "      <td>12</td>\n",
              "      <td>placebo</td>\n",
              "      <td>23</td>\n",
              "      <td>mężczyzna</td>\n",
              "      <td>tak</td>\n",
              "    </tr>\n",
              "    <tr>\n",
              "      <th>12</th>\n",
              "      <td>13</td>\n",
              "      <td>placebo</td>\n",
              "      <td>32</td>\n",
              "      <td>kobieta</td>\n",
              "      <td>tak</td>\n",
              "    </tr>\n",
              "    <tr>\n",
              "      <th>13</th>\n",
              "      <td>14</td>\n",
              "      <td>placebo</td>\n",
              "      <td>19</td>\n",
              "      <td>kobieta</td>\n",
              "      <td>nie</td>\n",
              "    </tr>\n",
              "    <tr>\n",
              "      <th>14</th>\n",
              "      <td>15</td>\n",
              "      <td>placebo</td>\n",
              "      <td>41</td>\n",
              "      <td>mężczyzna</td>\n",
              "      <td>nie</td>\n",
              "    </tr>\n",
              "    <tr>\n",
              "      <th>15</th>\n",
              "      <td>16</td>\n",
              "      <td>placebo</td>\n",
              "      <td>40</td>\n",
              "      <td>mężczyzna</td>\n",
              "      <td>nie</td>\n",
              "    </tr>\n",
              "    <tr>\n",
              "      <th>16</th>\n",
              "      <td>17</td>\n",
              "      <td>placebo</td>\n",
              "      <td>19</td>\n",
              "      <td>kobieta</td>\n",
              "      <td>nie</td>\n",
              "    </tr>\n",
              "    <tr>\n",
              "      <th>17</th>\n",
              "      <td>18</td>\n",
              "      <td>placebo</td>\n",
              "      <td>20</td>\n",
              "      <td>kobieta</td>\n",
              "      <td>nie</td>\n",
              "    </tr>\n",
              "    <tr>\n",
              "      <th>18</th>\n",
              "      <td>19</td>\n",
              "      <td>placebo</td>\n",
              "      <td>33</td>\n",
              "      <td>mężczyzna</td>\n",
              "      <td>nie</td>\n",
              "    </tr>\n",
              "    <tr>\n",
              "      <th>19</th>\n",
              "      <td>20</td>\n",
              "      <td>placebo</td>\n",
              "      <td>22</td>\n",
              "      <td>mężczyzna</td>\n",
              "      <td>nie</td>\n",
              "    </tr>\n",
              "  </tbody>\n",
              "</table>\n",
              "</div>"
            ],
            "text/plain": [
              "    id interwencja  wiek       plec zgon\n",
              "0    1         lek    30    kobieta  tak\n",
              "1    2         lek    31    kobieta  tak\n",
              "2    3         lek    20  mężczyzna  tak\n",
              "3    4         lek    33  mężczyzna  tak\n",
              "4    5         lek    43    kobieta  tak\n",
              "5    6         lek    22    kobieta  tak\n",
              "6    7         lek    33  mężczyzna  tak\n",
              "7    8         lek    23  mężczyzna  nie\n",
              "8    9         lek    32    kobieta  nie\n",
              "9   10         lek    19    kobieta  nie\n",
              "10  11     placebo    33  mężczyzna  tak\n",
              "11  12     placebo    23  mężczyzna  tak\n",
              "12  13     placebo    32    kobieta  tak\n",
              "13  14     placebo    19    kobieta  nie\n",
              "14  15     placebo    41  mężczyzna  nie\n",
              "15  16     placebo    40  mężczyzna  nie\n",
              "16  17     placebo    19    kobieta  nie\n",
              "17  18     placebo    20    kobieta  nie\n",
              "18  19     placebo    33  mężczyzna  nie\n",
              "19  20     placebo    22  mężczyzna  nie"
            ]
          },
          "metadata": {
            "tags": []
          },
          "execution_count": 77
        }
      ]
    },
    {
      "cell_type": "code",
      "metadata": {
        "id": "HPUzmACKv7e6"
      },
      "source": [
        ""
      ],
      "execution_count": null,
      "outputs": []
    }
  ]
}
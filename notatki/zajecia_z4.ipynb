{
  "nbformat": 4,
  "nbformat_minor": 0,
  "metadata": {
    "colab": {
      "name": "Untitled16.ipynb",
      "provenance": []
    },
    "kernelspec": {
      "name": "python3",
      "display_name": "Python 3"
    },
    "language_info": {
      "name": "python"
    }
  },
  "cells": [
    {
      "cell_type": "code",
      "metadata": {
        "id": "Z-ApuUvQk3iY"
      },
      "source": [
        "import pandas as pd\n",
        "import numpy as np\n",
        "\n",
        "df = pd.read_csv('forbes_billionaires_geo.csv')"
      ],
      "execution_count": 1,
      "outputs": []
    },
    {
      "cell_type": "code",
      "metadata": {
        "colab": {
          "base_uri": "https://localhost:8080/"
        },
        "id": "edPZwjoXmy9w",
        "outputId": "4c73f842-6601-419c-b387-2d56588951b0"
      },
      "source": [
        "df.info()"
      ],
      "execution_count": 3,
      "outputs": [
        {
          "output_type": "stream",
          "text": [
            "<class 'pandas.core.frame.DataFrame'>\n",
            "RangeIndex: 2755 entries, 0 to 2754\n",
            "Data columns (total 13 columns):\n",
            " #   Column       Non-Null Count  Dtype  \n",
            "---  ------       --------------  -----  \n",
            " 0   Name         2755 non-null   object \n",
            " 1   NetWorth     2755 non-null   float64\n",
            " 2   Country      2755 non-null   object \n",
            " 3   Source       2755 non-null   object \n",
            " 4   Rank         2755 non-null   int64  \n",
            " 5   Age          2630 non-null   float64\n",
            " 6   Residence    2715 non-null   object \n",
            " 7   Citizenship  2739 non-null   object \n",
            " 8   Status       2090 non-null   object \n",
            " 9   Children     1552 non-null   float64\n",
            " 10  Education    1409 non-null   object \n",
            " 11  Self_made    2737 non-null   object \n",
            " 12  geometry     2755 non-null   object \n",
            "dtypes: float64(3), int64(1), object(9)\n",
            "memory usage: 279.9+ KB\n"
          ],
          "name": "stdout"
        }
      ]
    },
    {
      "cell_type": "code",
      "metadata": {
        "colab": {
          "base_uri": "https://localhost:8080/"
        },
        "id": "Wip5FMY1mzSO",
        "outputId": "094e886d-c5d9-4a02-acae-e6b59b6f0398"
      },
      "source": [
        "for index, row in df.iterrows():\n",
        "  if row['Citizenship'] == 'Poland':\n",
        "    print(\"hurra!\")"
      ],
      "execution_count": 20,
      "outputs": [
        {
          "output_type": "stream",
          "text": [
            "hurra!\n",
            "hurra!\n",
            "hurra!\n",
            "hurra!\n",
            "hurra!\n",
            "hurra!\n",
            "hurra!\n",
            "hurra!\n"
          ],
          "name": "stdout"
        }
      ]
    },
    {
      "cell_type": "code",
      "metadata": {
        "id": "Bxum7yuGnPxR"
      },
      "source": [
        "polacy = (df['Citizenship'] == 'Poland')"
      ],
      "execution_count": 24,
      "outputs": []
    },
    {
      "cell_type": "code",
      "metadata": {
        "colab": {
          "base_uri": "https://localhost:8080/"
        },
        "id": "CIduXqdvnwEn",
        "outputId": "2d7fbe0c-2c13-4c21-81fb-480e3a279998"
      },
      "source": [
        "polacy"
      ],
      "execution_count": 25,
      "outputs": [
        {
          "output_type": "execute_result",
          "data": {
            "text/plain": [
              "0       False\n",
              "1       False\n",
              "2       False\n",
              "3       False\n",
              "4       False\n",
              "        ...  \n",
              "2750    False\n",
              "2751    False\n",
              "2752    False\n",
              "2753    False\n",
              "2754    False\n",
              "Name: Citizenship, Length: 2755, dtype: bool"
            ]
          },
          "metadata": {
            "tags": []
          },
          "execution_count": 25
        }
      ]
    },
    {
      "cell_type": "code",
      "metadata": {
        "colab": {
          "base_uri": "https://localhost:8080/",
          "height": 623
        },
        "id": "K28WX5Omo-4q",
        "outputId": "60bad2a3-a56b-4c3f-b050-66187c593552"
      },
      "source": [
        "df[polacy]"
      ],
      "execution_count": 26,
      "outputs": [
        {
          "output_type": "execute_result",
          "data": {
            "text/html": [
              "<div>\n",
              "<style scoped>\n",
              "    .dataframe tbody tr th:only-of-type {\n",
              "        vertical-align: middle;\n",
              "    }\n",
              "\n",
              "    .dataframe tbody tr th {\n",
              "        vertical-align: top;\n",
              "    }\n",
              "\n",
              "    .dataframe thead th {\n",
              "        text-align: right;\n",
              "    }\n",
              "</style>\n",
              "<table border=\"1\" class=\"dataframe\">\n",
              "  <thead>\n",
              "    <tr style=\"text-align: right;\">\n",
              "      <th></th>\n",
              "      <th>Name</th>\n",
              "      <th>NetWorth</th>\n",
              "      <th>Country</th>\n",
              "      <th>Source</th>\n",
              "      <th>Rank</th>\n",
              "      <th>Age</th>\n",
              "      <th>Residence</th>\n",
              "      <th>Citizenship</th>\n",
              "      <th>Status</th>\n",
              "      <th>Children</th>\n",
              "      <th>Education</th>\n",
              "      <th>Self_made</th>\n",
              "      <th>geometry</th>\n",
              "    </tr>\n",
              "  </thead>\n",
              "  <tbody>\n",
              "    <tr>\n",
              "      <th>746</th>\n",
              "      <td>Michal Solowow</td>\n",
              "      <td>4.0</td>\n",
              "      <td>Poland</td>\n",
              "      <td>investments</td>\n",
              "      <td>727</td>\n",
              "      <td>58.0</td>\n",
              "      <td>Kielce, Poland</td>\n",
              "      <td>Poland</td>\n",
              "      <td>Married</td>\n",
              "      <td>3.0</td>\n",
              "      <td>NaN</td>\n",
              "      <td>True</td>\n",
              "      <td>POINT (20.6099144 50.8540359)</td>\n",
              "    </tr>\n",
              "    <tr>\n",
              "      <th>851</th>\n",
              "      <td>Jerzy Starak</td>\n",
              "      <td>3.6</td>\n",
              "      <td>Poland</td>\n",
              "      <td>pharmaceuticals</td>\n",
              "      <td>831</td>\n",
              "      <td>73.0</td>\n",
              "      <td>Konstancin, Poland</td>\n",
              "      <td>Poland</td>\n",
              "      <td>Married</td>\n",
              "      <td>3.0</td>\n",
              "      <td>NaN</td>\n",
              "      <td>True</td>\n",
              "      <td>POINT (19.3486177 52.0941864)</td>\n",
              "    </tr>\n",
              "    <tr>\n",
              "      <th>957</th>\n",
              "      <td>Tomasz Biernacki</td>\n",
              "      <td>3.2</td>\n",
              "      <td>Poland</td>\n",
              "      <td>supermarkets</td>\n",
              "      <td>956</td>\n",
              "      <td>48.0</td>\n",
              "      <td>Krotoszyn,, Poland</td>\n",
              "      <td>Poland</td>\n",
              "      <td>NaN</td>\n",
              "      <td>NaN</td>\n",
              "      <td>NaN</td>\n",
              "      <td>True</td>\n",
              "      <td>POINT (17.4374158 51.695926)</td>\n",
              "    </tr>\n",
              "    <tr>\n",
              "      <th>978</th>\n",
              "      <td>Zygmunt Solorz-Zak</td>\n",
              "      <td>3.2</td>\n",
              "      <td>Poland</td>\n",
              "      <td>TV broadcasting</td>\n",
              "      <td>956</td>\n",
              "      <td>64.0</td>\n",
              "      <td>Warsaw, Poland</td>\n",
              "      <td>Poland</td>\n",
              "      <td>Divorced</td>\n",
              "      <td>3.0</td>\n",
              "      <td>NaN</td>\n",
              "      <td>True</td>\n",
              "      <td>POINT (21.0067249 52.2319581)</td>\n",
              "    </tr>\n",
              "    <tr>\n",
              "      <th>1542</th>\n",
              "      <td>Dominika Kulczyk</td>\n",
              "      <td>2.1</td>\n",
              "      <td>Poland</td>\n",
              "      <td>diversified</td>\n",
              "      <td>1517</td>\n",
              "      <td>43.0</td>\n",
              "      <td>Warsaw, Poland</td>\n",
              "      <td>Poland</td>\n",
              "      <td>Divorced</td>\n",
              "      <td>2.0</td>\n",
              "      <td>Master, University of Poznan</td>\n",
              "      <td>False</td>\n",
              "      <td>POINT (21.0067249 52.2319581)</td>\n",
              "    </tr>\n",
              "    <tr>\n",
              "      <th>1972</th>\n",
              "      <td>Sebastian Kulczyk</td>\n",
              "      <td>1.6</td>\n",
              "      <td>Poland</td>\n",
              "      <td>diversified</td>\n",
              "      <td>1931</td>\n",
              "      <td>40.0</td>\n",
              "      <td>Switzerland</td>\n",
              "      <td>Poland</td>\n",
              "      <td>NaN</td>\n",
              "      <td>NaN</td>\n",
              "      <td>London School of Economics; Master, University...</td>\n",
              "      <td>False</td>\n",
              "      <td>POINT (8.2319736 46.7985624)</td>\n",
              "    </tr>\n",
              "    <tr>\n",
              "      <th>2275</th>\n",
              "      <td>Rafal Brzoska</td>\n",
              "      <td>1.3</td>\n",
              "      <td>Poland</td>\n",
              "      <td>parcel lockers</td>\n",
              "      <td>2263</td>\n",
              "      <td>43.0</td>\n",
              "      <td>Warsaw, Poland</td>\n",
              "      <td>Poland</td>\n",
              "      <td>NaN</td>\n",
              "      <td>NaN</td>\n",
              "      <td>NaN</td>\n",
              "      <td>True</td>\n",
              "      <td>POINT (21.0067249 52.2319581)</td>\n",
              "    </tr>\n",
              "    <tr>\n",
              "      <th>2305</th>\n",
              "      <td>Zbigniew Juroszek &amp; family</td>\n",
              "      <td>1.3</td>\n",
              "      <td>Poland</td>\n",
              "      <td>real estate, gambling</td>\n",
              "      <td>2263</td>\n",
              "      <td>58.0</td>\n",
              "      <td>Cieszyn, Poland</td>\n",
              "      <td>Poland</td>\n",
              "      <td>NaN</td>\n",
              "      <td>NaN</td>\n",
              "      <td>NaN</td>\n",
              "      <td>True</td>\n",
              "      <td>POINT (18.6562313 49.7557676)</td>\n",
              "    </tr>\n",
              "  </tbody>\n",
              "</table>\n",
              "</div>"
            ],
            "text/plain": [
              "                            Name  ...                       geometry\n",
              "746               Michal Solowow  ...  POINT (20.6099144 50.8540359)\n",
              "851                 Jerzy Starak  ...  POINT (19.3486177 52.0941864)\n",
              "957             Tomasz Biernacki  ...   POINT (17.4374158 51.695926)\n",
              "978           Zygmunt Solorz-Zak  ...  POINT (21.0067249 52.2319581)\n",
              "1542            Dominika Kulczyk  ...  POINT (21.0067249 52.2319581)\n",
              "1972           Sebastian Kulczyk  ...   POINT (8.2319736 46.7985624)\n",
              "2275               Rafal Brzoska  ...  POINT (21.0067249 52.2319581)\n",
              "2305  Zbigniew Juroszek & family  ...  POINT (18.6562313 49.7557676)\n",
              "\n",
              "[8 rows x 13 columns]"
            ]
          },
          "metadata": {
            "tags": []
          },
          "execution_count": 26
        }
      ]
    },
    {
      "cell_type": "code",
      "metadata": {
        "colab": {
          "base_uri": "https://localhost:8080/",
          "height": 297
        },
        "id": "tGRHxVKrsf5d",
        "outputId": "be9bc30d-0654-4665-cac7-04bdf3561438"
      },
      "source": [
        "df.loc[polacy, 'Name':'Country']"
      ],
      "execution_count": 28,
      "outputs": [
        {
          "output_type": "execute_result",
          "data": {
            "text/html": [
              "<div>\n",
              "<style scoped>\n",
              "    .dataframe tbody tr th:only-of-type {\n",
              "        vertical-align: middle;\n",
              "    }\n",
              "\n",
              "    .dataframe tbody tr th {\n",
              "        vertical-align: top;\n",
              "    }\n",
              "\n",
              "    .dataframe thead th {\n",
              "        text-align: right;\n",
              "    }\n",
              "</style>\n",
              "<table border=\"1\" class=\"dataframe\">\n",
              "  <thead>\n",
              "    <tr style=\"text-align: right;\">\n",
              "      <th></th>\n",
              "      <th>Name</th>\n",
              "      <th>NetWorth</th>\n",
              "      <th>Country</th>\n",
              "    </tr>\n",
              "  </thead>\n",
              "  <tbody>\n",
              "    <tr>\n",
              "      <th>746</th>\n",
              "      <td>Michal Solowow</td>\n",
              "      <td>4.0</td>\n",
              "      <td>Poland</td>\n",
              "    </tr>\n",
              "    <tr>\n",
              "      <th>851</th>\n",
              "      <td>Jerzy Starak</td>\n",
              "      <td>3.6</td>\n",
              "      <td>Poland</td>\n",
              "    </tr>\n",
              "    <tr>\n",
              "      <th>957</th>\n",
              "      <td>Tomasz Biernacki</td>\n",
              "      <td>3.2</td>\n",
              "      <td>Poland</td>\n",
              "    </tr>\n",
              "    <tr>\n",
              "      <th>978</th>\n",
              "      <td>Zygmunt Solorz-Zak</td>\n",
              "      <td>3.2</td>\n",
              "      <td>Poland</td>\n",
              "    </tr>\n",
              "    <tr>\n",
              "      <th>1542</th>\n",
              "      <td>Dominika Kulczyk</td>\n",
              "      <td>2.1</td>\n",
              "      <td>Poland</td>\n",
              "    </tr>\n",
              "    <tr>\n",
              "      <th>1972</th>\n",
              "      <td>Sebastian Kulczyk</td>\n",
              "      <td>1.6</td>\n",
              "      <td>Poland</td>\n",
              "    </tr>\n",
              "    <tr>\n",
              "      <th>2275</th>\n",
              "      <td>Rafal Brzoska</td>\n",
              "      <td>1.3</td>\n",
              "      <td>Poland</td>\n",
              "    </tr>\n",
              "    <tr>\n",
              "      <th>2305</th>\n",
              "      <td>Zbigniew Juroszek &amp; family</td>\n",
              "      <td>1.3</td>\n",
              "      <td>Poland</td>\n",
              "    </tr>\n",
              "  </tbody>\n",
              "</table>\n",
              "</div>"
            ],
            "text/plain": [
              "                            Name  NetWorth Country\n",
              "746               Michal Solowow       4.0  Poland\n",
              "851                 Jerzy Starak       3.6  Poland\n",
              "957             Tomasz Biernacki       3.2  Poland\n",
              "978           Zygmunt Solorz-Zak       3.2  Poland\n",
              "1542            Dominika Kulczyk       2.1  Poland\n",
              "1972           Sebastian Kulczyk       1.6  Poland\n",
              "2275               Rafal Brzoska       1.3  Poland\n",
              "2305  Zbigniew Juroszek & family       1.3  Poland"
            ]
          },
          "metadata": {
            "tags": []
          },
          "execution_count": 28
        }
      ]
    },
    {
      "cell_type": "code",
      "metadata": {
        "colab": {
          "base_uri": "https://localhost:8080/",
          "height": 297
        },
        "id": "ShI9FVfOstHb",
        "outputId": "94a8ca3e-6b93-43af-969a-9f310da22ccb"
      },
      "source": [
        "df.loc[polacy, ['Name', 'NetWorth']]"
      ],
      "execution_count": 29,
      "outputs": [
        {
          "output_type": "execute_result",
          "data": {
            "text/html": [
              "<div>\n",
              "<style scoped>\n",
              "    .dataframe tbody tr th:only-of-type {\n",
              "        vertical-align: middle;\n",
              "    }\n",
              "\n",
              "    .dataframe tbody tr th {\n",
              "        vertical-align: top;\n",
              "    }\n",
              "\n",
              "    .dataframe thead th {\n",
              "        text-align: right;\n",
              "    }\n",
              "</style>\n",
              "<table border=\"1\" class=\"dataframe\">\n",
              "  <thead>\n",
              "    <tr style=\"text-align: right;\">\n",
              "      <th></th>\n",
              "      <th>Name</th>\n",
              "      <th>NetWorth</th>\n",
              "    </tr>\n",
              "  </thead>\n",
              "  <tbody>\n",
              "    <tr>\n",
              "      <th>746</th>\n",
              "      <td>Michal Solowow</td>\n",
              "      <td>4.0</td>\n",
              "    </tr>\n",
              "    <tr>\n",
              "      <th>851</th>\n",
              "      <td>Jerzy Starak</td>\n",
              "      <td>3.6</td>\n",
              "    </tr>\n",
              "    <tr>\n",
              "      <th>957</th>\n",
              "      <td>Tomasz Biernacki</td>\n",
              "      <td>3.2</td>\n",
              "    </tr>\n",
              "    <tr>\n",
              "      <th>978</th>\n",
              "      <td>Zygmunt Solorz-Zak</td>\n",
              "      <td>3.2</td>\n",
              "    </tr>\n",
              "    <tr>\n",
              "      <th>1542</th>\n",
              "      <td>Dominika Kulczyk</td>\n",
              "      <td>2.1</td>\n",
              "    </tr>\n",
              "    <tr>\n",
              "      <th>1972</th>\n",
              "      <td>Sebastian Kulczyk</td>\n",
              "      <td>1.6</td>\n",
              "    </tr>\n",
              "    <tr>\n",
              "      <th>2275</th>\n",
              "      <td>Rafal Brzoska</td>\n",
              "      <td>1.3</td>\n",
              "    </tr>\n",
              "    <tr>\n",
              "      <th>2305</th>\n",
              "      <td>Zbigniew Juroszek &amp; family</td>\n",
              "      <td>1.3</td>\n",
              "    </tr>\n",
              "  </tbody>\n",
              "</table>\n",
              "</div>"
            ],
            "text/plain": [
              "                            Name  NetWorth\n",
              "746               Michal Solowow       4.0\n",
              "851                 Jerzy Starak       3.6\n",
              "957             Tomasz Biernacki       3.2\n",
              "978           Zygmunt Solorz-Zak       3.2\n",
              "1542            Dominika Kulczyk       2.1\n",
              "1972           Sebastian Kulczyk       1.6\n",
              "2275               Rafal Brzoska       1.3\n",
              "2305  Zbigniew Juroszek & family       1.3"
            ]
          },
          "metadata": {
            "tags": []
          },
          "execution_count": 29
        }
      ]
    },
    {
      "cell_type": "code",
      "metadata": {
        "colab": {
          "base_uri": "https://localhost:8080/",
          "height": 1000
        },
        "id": "EH6Wmg_8tBWE",
        "outputId": "8d9576dc-0dca-4dd9-9112-714c8f500ded"
      },
      "source": [
        "df[df.Citizenship == df.Residence]"
      ],
      "execution_count": 32,
      "outputs": [
        {
          "output_type": "execute_result",
          "data": {
            "text/html": [
              "<div>\n",
              "<style scoped>\n",
              "    .dataframe tbody tr th:only-of-type {\n",
              "        vertical-align: middle;\n",
              "    }\n",
              "\n",
              "    .dataframe tbody tr th {\n",
              "        vertical-align: top;\n",
              "    }\n",
              "\n",
              "    .dataframe thead th {\n",
              "        text-align: right;\n",
              "    }\n",
              "</style>\n",
              "<table border=\"1\" class=\"dataframe\">\n",
              "  <thead>\n",
              "    <tr style=\"text-align: right;\">\n",
              "      <th></th>\n",
              "      <th>Name</th>\n",
              "      <th>NetWorth</th>\n",
              "      <th>Country</th>\n",
              "      <th>Source</th>\n",
              "      <th>Rank</th>\n",
              "      <th>Age</th>\n",
              "      <th>Residence</th>\n",
              "      <th>Citizenship</th>\n",
              "      <th>Status</th>\n",
              "      <th>Children</th>\n",
              "      <th>Education</th>\n",
              "      <th>Self_made</th>\n",
              "      <th>geometry</th>\n",
              "    </tr>\n",
              "  </thead>\n",
              "  <tbody>\n",
              "    <tr>\n",
              "      <th>33</th>\n",
              "      <td>Beate Heister &amp; Karl Albrecht Jr.</td>\n",
              "      <td>39.2</td>\n",
              "      <td>Germany</td>\n",
              "      <td>supermarkets</td>\n",
              "      <td>34</td>\n",
              "      <td>NaN</td>\n",
              "      <td>Germany</td>\n",
              "      <td>Germany</td>\n",
              "      <td>NaN</td>\n",
              "      <td>NaN</td>\n",
              "      <td>NaN</td>\n",
              "      <td>False</td>\n",
              "      <td>POINT (10.4234469 51.0834196)</td>\n",
              "    </tr>\n",
              "    <tr>\n",
              "      <th>42</th>\n",
              "      <td>Li Ka-shing</td>\n",
              "      <td>33.7</td>\n",
              "      <td>Hong Kong</td>\n",
              "      <td>diversified</td>\n",
              "      <td>43</td>\n",
              "      <td>92.0</td>\n",
              "      <td>Hong Kong</td>\n",
              "      <td>Hong Kong</td>\n",
              "      <td>Widowed</td>\n",
              "      <td>2.0</td>\n",
              "      <td>Drop Out, High School</td>\n",
              "      <td>True</td>\n",
              "      <td>POINT (114.1628131 22.2793278)</td>\n",
              "    </tr>\n",
              "    <tr>\n",
              "      <th>495</th>\n",
              "      <td>Rene Benko</td>\n",
              "      <td>5.6</td>\n",
              "      <td>Austria</td>\n",
              "      <td>real estate, retail</td>\n",
              "      <td>496</td>\n",
              "      <td>44.0</td>\n",
              "      <td>Austria</td>\n",
              "      <td>Austria</td>\n",
              "      <td>Married</td>\n",
              "      <td>4.0</td>\n",
              "      <td>NaN</td>\n",
              "      <td>True</td>\n",
              "      <td>POINT (13.2 47.2)</td>\n",
              "    </tr>\n",
              "    <tr>\n",
              "      <th>557</th>\n",
              "      <td>Lee Yeow Chor &amp; Yeow Seng</td>\n",
              "      <td>5.1</td>\n",
              "      <td>Malaysia</td>\n",
              "      <td>palm oil, property</td>\n",
              "      <td>550</td>\n",
              "      <td>NaN</td>\n",
              "      <td>Malaysia</td>\n",
              "      <td>Malaysia</td>\n",
              "      <td>NaN</td>\n",
              "      <td>NaN</td>\n",
              "      <td>NaN</td>\n",
              "      <td>False</td>\n",
              "      <td>POINT (102.2656823 4.5693754)</td>\n",
              "    </tr>\n",
              "    <tr>\n",
              "      <th>747</th>\n",
              "      <td>Udo &amp; Harald Tschira</td>\n",
              "      <td>4.0</td>\n",
              "      <td>Germany</td>\n",
              "      <td>software</td>\n",
              "      <td>727</td>\n",
              "      <td>NaN</td>\n",
              "      <td>Germany</td>\n",
              "      <td>Germany</td>\n",
              "      <td>NaN</td>\n",
              "      <td>NaN</td>\n",
              "      <td>NaN</td>\n",
              "      <td>False</td>\n",
              "      <td>POINT (10.4234469 51.0834196)</td>\n",
              "    </tr>\n",
              "    <tr>\n",
              "      <th>1007</th>\n",
              "      <td>Wilhelm Beier &amp; family</td>\n",
              "      <td>3.0</td>\n",
              "      <td>Germany</td>\n",
              "      <td>pharmaceuticals</td>\n",
              "      <td>1008</td>\n",
              "      <td>65.0</td>\n",
              "      <td>Germany</td>\n",
              "      <td>Germany</td>\n",
              "      <td>NaN</td>\n",
              "      <td>NaN</td>\n",
              "      <td>NaN</td>\n",
              "      <td>True</td>\n",
              "      <td>POINT (10.4234469 51.0834196)</td>\n",
              "    </tr>\n",
              "    <tr>\n",
              "      <th>1144</th>\n",
              "      <td>Rudy Ma</td>\n",
              "      <td>2.8</td>\n",
              "      <td>Taiwan</td>\n",
              "      <td>finance</td>\n",
              "      <td>1111</td>\n",
              "      <td>80.0</td>\n",
              "      <td>Taiwan</td>\n",
              "      <td>Taiwan</td>\n",
              "      <td>Married</td>\n",
              "      <td>2.0</td>\n",
              "      <td>EMBA, National Chengchi University; National T...</td>\n",
              "      <td>True</td>\n",
              "      <td>POINT (120.9820179 23.9739374)</td>\n",
              "    </tr>\n",
              "    <tr>\n",
              "      <th>1266</th>\n",
              "      <td>Hans Langer</td>\n",
              "      <td>2.5</td>\n",
              "      <td>Germany</td>\n",
              "      <td>3D printing</td>\n",
              "      <td>1249</td>\n",
              "      <td>69.0</td>\n",
              "      <td>Germany</td>\n",
              "      <td>Germany</td>\n",
              "      <td>Married</td>\n",
              "      <td>2.0</td>\n",
              "      <td>NaN</td>\n",
              "      <td>True</td>\n",
              "      <td>POINT (10.4234469 51.0834196)</td>\n",
              "    </tr>\n",
              "    <tr>\n",
              "      <th>1288</th>\n",
              "      <td>André Street</td>\n",
              "      <td>2.5</td>\n",
              "      <td>Brazil</td>\n",
              "      <td>fintech</td>\n",
              "      <td>1249</td>\n",
              "      <td>37.0</td>\n",
              "      <td>Brazil</td>\n",
              "      <td>Brazil</td>\n",
              "      <td>Married</td>\n",
              "      <td>NaN</td>\n",
              "      <td>Bachelor of Arts/Economics, Fundacao Getulio V...</td>\n",
              "      <td>True</td>\n",
              "      <td>POINT (-53.2 -10.3333333)</td>\n",
              "    </tr>\n",
              "    <tr>\n",
              "      <th>1354</th>\n",
              "      <td>David Wertheim</td>\n",
              "      <td>2.4</td>\n",
              "      <td>Israel</td>\n",
              "      <td>Coca Cola Israel</td>\n",
              "      <td>1299</td>\n",
              "      <td>63.0</td>\n",
              "      <td>Israel</td>\n",
              "      <td>Israel</td>\n",
              "      <td>Married</td>\n",
              "      <td>6.0</td>\n",
              "      <td>NaN</td>\n",
              "      <td>False</td>\n",
              "      <td>POINT (34.8667654 31.5313113)</td>\n",
              "    </tr>\n",
              "    <tr>\n",
              "      <th>2012</th>\n",
              "      <td>Tseng Cheng</td>\n",
              "      <td>1.6</td>\n",
              "      <td>Taiwan</td>\n",
              "      <td>petrochemicals</td>\n",
              "      <td>1931</td>\n",
              "      <td>59.0</td>\n",
              "      <td>Taiwan</td>\n",
              "      <td>Taiwan</td>\n",
              "      <td>Married</td>\n",
              "      <td>2.0</td>\n",
              "      <td>NaN</td>\n",
              "      <td>False</td>\n",
              "      <td>POINT (120.9820179 23.9739374)</td>\n",
              "    </tr>\n",
              "    <tr>\n",
              "      <th>2176</th>\n",
              "      <td>Jitse Groen</td>\n",
              "      <td>1.4</td>\n",
              "      <td>Netherlands</td>\n",
              "      <td>food delivery service</td>\n",
              "      <td>2141</td>\n",
              "      <td>42.0</td>\n",
              "      <td>Netherlands</td>\n",
              "      <td>Netherlands</td>\n",
              "      <td>NaN</td>\n",
              "      <td>NaN</td>\n",
              "      <td>Bachelor of Business Administration, Universit...</td>\n",
              "      <td>True</td>\n",
              "      <td>POINT (5.7480821 52.5001698)</td>\n",
              "    </tr>\n",
              "    <tr>\n",
              "      <th>2306</th>\n",
              "      <td>André Kasprzak</td>\n",
              "      <td>1.3</td>\n",
              "      <td>Denmark</td>\n",
              "      <td>shoes</td>\n",
              "      <td>2263</td>\n",
              "      <td>34.0</td>\n",
              "      <td>Denmark</td>\n",
              "      <td>Denmark</td>\n",
              "      <td>NaN</td>\n",
              "      <td>NaN</td>\n",
              "      <td>NaN</td>\n",
              "      <td>False</td>\n",
              "      <td>POINT (10.3333283 55.670249)</td>\n",
              "    </tr>\n",
              "    <tr>\n",
              "      <th>2358</th>\n",
              "      <td>Masaru Wasami</td>\n",
              "      <td>1.3</td>\n",
              "      <td>Japan</td>\n",
              "      <td>logistics</td>\n",
              "      <td>2263</td>\n",
              "      <td>75.0</td>\n",
              "      <td>Japan</td>\n",
              "      <td>Japan</td>\n",
              "      <td>NaN</td>\n",
              "      <td>NaN</td>\n",
              "      <td>NaN</td>\n",
              "      <td>True</td>\n",
              "      <td>POINT (139.2394179 36.5748441)</td>\n",
              "    </tr>\n",
              "    <tr>\n",
              "      <th>2639</th>\n",
              "      <td>Tseng Sing-ai</td>\n",
              "      <td>1.1</td>\n",
              "      <td>Taiwan</td>\n",
              "      <td>petrochemicals</td>\n",
              "      <td>2524</td>\n",
              "      <td>NaN</td>\n",
              "      <td>Taiwan</td>\n",
              "      <td>Taiwan</td>\n",
              "      <td>NaN</td>\n",
              "      <td>NaN</td>\n",
              "      <td>NaN</td>\n",
              "      <td>False</td>\n",
              "      <td>POINT (120.9820179 23.9739374)</td>\n",
              "    </tr>\n",
              "  </tbody>\n",
              "</table>\n",
              "</div>"
            ],
            "text/plain": [
              "                                   Name  ...                        geometry\n",
              "33    Beate Heister & Karl Albrecht Jr.  ...   POINT (10.4234469 51.0834196)\n",
              "42                          Li Ka-shing  ...  POINT (114.1628131 22.2793278)\n",
              "495                          Rene Benko  ...               POINT (13.2 47.2)\n",
              "557           Lee Yeow Chor & Yeow Seng  ...   POINT (102.2656823 4.5693754)\n",
              "747                Udo & Harald Tschira  ...   POINT (10.4234469 51.0834196)\n",
              "1007             Wilhelm Beier & family  ...   POINT (10.4234469 51.0834196)\n",
              "1144                            Rudy Ma  ...  POINT (120.9820179 23.9739374)\n",
              "1266                        Hans Langer  ...   POINT (10.4234469 51.0834196)\n",
              "1288                       André Street  ...       POINT (-53.2 -10.3333333)\n",
              "1354                     David Wertheim  ...   POINT (34.8667654 31.5313113)\n",
              "2012                        Tseng Cheng  ...  POINT (120.9820179 23.9739374)\n",
              "2176                        Jitse Groen  ...    POINT (5.7480821 52.5001698)\n",
              "2306                     André Kasprzak  ...    POINT (10.3333283 55.670249)\n",
              "2358                      Masaru Wasami  ...  POINT (139.2394179 36.5748441)\n",
              "2639                      Tseng Sing-ai  ...  POINT (120.9820179 23.9739374)\n",
              "\n",
              "[15 rows x 13 columns]"
            ]
          },
          "metadata": {
            "tags": []
          },
          "execution_count": 32
        }
      ]
    },
    {
      "cell_type": "code",
      "metadata": {
        "colab": {
          "base_uri": "https://localhost:8080/"
        },
        "id": "gm9ZHOEltgC1",
        "outputId": "f9136850-a2c8-46af-d6c9-b6db0c61fc2e"
      },
      "source": [
        "df.Status.value_counts()"
      ],
      "execution_count": 33,
      "outputs": [
        {
          "output_type": "execute_result",
          "data": {
            "text/plain": [
              "Married               1734\n",
              "Divorced               144\n",
              "Widowed                 95\n",
              "Single                  74\n",
              "In Relationship         21\n",
              "Separated               10\n",
              "Widowed, Remarried       8\n",
              "Engaged                  4\n",
              "Name: Status, dtype: int64"
            ]
          },
          "metadata": {
            "tags": []
          },
          "execution_count": 33
        }
      ]
    },
    {
      "cell_type": "code",
      "metadata": {
        "id": "0GdAxNZnt913"
      },
      "source": [
        "sl = {\n",
        "    'Married': 'yes',\n",
        "    'Divorced': 'no',\n",
        "    'Widowed': 'no',\n",
        "    'Single': 'no',\n",
        "    'In Relationship': 'yes',\n",
        "    'Separated': 'no',\n",
        "    'Widowed, Remarried': 'yes',\n",
        "    'Engaged': 'yes'\n",
        "}"
      ],
      "execution_count": 34,
      "outputs": []
    },
    {
      "cell_type": "code",
      "metadata": {
        "colab": {
          "base_uri": "https://localhost:8080/"
        },
        "id": "JixifJaTvxfb",
        "outputId": "fa8606e5-51a6-4c2a-b708-16ac8debe05a"
      },
      "source": [
        "sl"
      ],
      "execution_count": 37,
      "outputs": [
        {
          "output_type": "execute_result",
          "data": {
            "text/plain": [
              "{'Divorced': 'no',\n",
              " 'Engaged': 'yes',\n",
              " 'In Relationship': 'yes',\n",
              " 'Married': 'yes',\n",
              " 'Separated': 'no',\n",
              " 'Single': 'no',\n",
              " 'Widowed': 'no',\n",
              " 'Widowed, Remarried': 'yes'}"
            ]
          },
          "metadata": {
            "tags": []
          },
          "execution_count": 37
        }
      ]
    },
    {
      "cell_type": "code",
      "metadata": {
        "colab": {
          "base_uri": "https://localhost:8080/"
        },
        "id": "eTrBAJ5qv05V",
        "outputId": "02d87dd3-d6bc-4ba5-e115-27cfb9a69d22"
      },
      "source": [
        "df.Status.replace(sl)"
      ],
      "execution_count": 38,
      "outputs": [
        {
          "output_type": "execute_result",
          "data": {
            "text/plain": [
              "0       yes\n",
              "1       yes\n",
              "2       yes\n",
              "3        no\n",
              "4       yes\n",
              "       ... \n",
              "2750    NaN\n",
              "2751    NaN\n",
              "2752    NaN\n",
              "2753    NaN\n",
              "2754    yes\n",
              "Name: Status, Length: 2755, dtype: object"
            ]
          },
          "metadata": {
            "tags": []
          },
          "execution_count": 38
        }
      ]
    },
    {
      "cell_type": "code",
      "metadata": {
        "colab": {
          "base_uri": "https://localhost:8080/"
        },
        "id": "PcaSmMhbwCA2",
        "outputId": "6dfd6af2-967a-430f-fb09-3f27af7fdbb5"
      },
      "source": [
        "df.Status.value_counts(dropna=False)"
      ],
      "execution_count": 41,
      "outputs": [
        {
          "output_type": "execute_result",
          "data": {
            "text/plain": [
              "Married               1734\n",
              "NaN                    665\n",
              "Divorced               144\n",
              "Widowed                 95\n",
              "Single                  74\n",
              "In Relationship         21\n",
              "Separated               10\n",
              "Widowed, Remarried       8\n",
              "Engaged                  4\n",
              "Name: Status, dtype: int64"
            ]
          },
          "metadata": {
            "tags": []
          },
          "execution_count": 41
        }
      ]
    },
    {
      "cell_type": "code",
      "metadata": {
        "id": "PNSG0iN-wOJR"
      },
      "source": [
        "def vc(s):\n",
        "  return s.value_counts(dropna=False)"
      ],
      "execution_count": 42,
      "outputs": []
    },
    {
      "cell_type": "code",
      "metadata": {
        "colab": {
          "base_uri": "https://localhost:8080/"
        },
        "id": "dX8s_RnZwepu",
        "outputId": "085d9a0f-b60a-4142-a65e-eb6e634fac20"
      },
      "source": [
        "vc(df.Status)"
      ],
      "execution_count": 43,
      "outputs": [
        {
          "output_type": "execute_result",
          "data": {
            "text/plain": [
              "Married               1734\n",
              "NaN                    665\n",
              "Divorced               144\n",
              "Widowed                 95\n",
              "Single                  74\n",
              "In Relationship         21\n",
              "Separated               10\n",
              "Widowed, Remarried       8\n",
              "Engaged                  4\n",
              "Name: Status, dtype: int64"
            ]
          },
          "metadata": {
            "tags": []
          },
          "execution_count": 43
        }
      ]
    },
    {
      "cell_type": "code",
      "metadata": {
        "id": "ml9fTJ4MwhTs"
      },
      "source": [
        "df['relationship'] = df.Status.replace(sl)"
      ],
      "execution_count": 47,
      "outputs": []
    },
    {
      "cell_type": "code",
      "metadata": {
        "colab": {
          "base_uri": "https://localhost:8080/"
        },
        "id": "S9io0cduwqwG",
        "outputId": "e4196c0b-ddf5-478c-f567-6f8364fa03f1"
      },
      "source": [
        "vc(df.relationship)"
      ],
      "execution_count": 49,
      "outputs": [
        {
          "output_type": "execute_result",
          "data": {
            "text/plain": [
              "yes    1767\n",
              "NaN     665\n",
              "no      323\n",
              "Name: relationship, dtype: int64"
            ]
          },
          "metadata": {
            "tags": []
          },
          "execution_count": 49
        }
      ]
    },
    {
      "cell_type": "code",
      "metadata": {
        "id": "Ay_taPt_wtA3"
      },
      "source": [
        "a = list(df.Status.value_counts().index)"
      ],
      "execution_count": 53,
      "outputs": []
    },
    {
      "cell_type": "code",
      "metadata": {
        "colab": {
          "base_uri": "https://localhost:8080/"
        },
        "id": "a8yaprrFxY0D",
        "outputId": "13b9e4de-a6fd-46c9-e332-bd63c134cd91"
      },
      "source": [
        "a"
      ],
      "execution_count": 54,
      "outputs": [
        {
          "output_type": "execute_result",
          "data": {
            "text/plain": [
              "['Married',\n",
              " 'Divorced',\n",
              " 'Widowed',\n",
              " 'Single',\n",
              " 'In Relationship',\n",
              " 'Separated',\n",
              " 'Widowed, Remarried',\n",
              " 'Engaged']"
            ]
          },
          "metadata": {
            "tags": []
          },
          "execution_count": 54
        }
      ]
    },
    {
      "cell_type": "code",
      "metadata": {
        "id": "zlYpsF4lxiTn"
      },
      "source": [
        "b = ['yes', 'no', 'no', 'no', 'yes', 'no', 'yes', 'yes']"
      ],
      "execution_count": 55,
      "outputs": []
    },
    {
      "cell_type": "code",
      "metadata": {
        "colab": {
          "base_uri": "https://localhost:8080/"
        },
        "id": "TgjJe08dxqht",
        "outputId": "27e398f4-0bb8-4b83-8766-78868798c94a"
      },
      "source": [
        "dict(zip(a, b))"
      ],
      "execution_count": 56,
      "outputs": [
        {
          "output_type": "execute_result",
          "data": {
            "text/plain": [
              "{'Divorced': 'no',\n",
              " 'Engaged': 'yes',\n",
              " 'In Relationship': 'yes',\n",
              " 'Married': 'yes',\n",
              " 'Separated': 'no',\n",
              " 'Single': 'no',\n",
              " 'Widowed': 'no',\n",
              " 'Widowed, Remarried': 'yes'}"
            ]
          },
          "metadata": {
            "tags": []
          },
          "execution_count": 56
        }
      ]
    },
    {
      "cell_type": "code",
      "metadata": {
        "id": "J0PJmj_Kxtom"
      },
      "source": [
        "b = ['yes'] + ['no'] * 3 + ['yes'] + ['no'] + ['yes'] * 2"
      ],
      "execution_count": 59,
      "outputs": []
    },
    {
      "cell_type": "code",
      "metadata": {
        "colab": {
          "base_uri": "https://localhost:8080/"
        },
        "id": "k5hlvlGax-dL",
        "outputId": "053646de-405e-4d71-9a83-b63e71d39c41"
      },
      "source": [
        "b"
      ],
      "execution_count": 60,
      "outputs": [
        {
          "output_type": "execute_result",
          "data": {
            "text/plain": [
              "['yes', 'no', 'no', 'no', 'yes', 'no', 'yes', 'yes']"
            ]
          },
          "metadata": {
            "tags": []
          },
          "execution_count": 60
        }
      ]
    },
    {
      "cell_type": "code",
      "metadata": {
        "colab": {
          "base_uri": "https://localhost:8080/"
        },
        "id": "mY90xscIyKGi",
        "outputId": "908b9e44-a9fe-4dc4-d7ad-ad67b87d5f22"
      },
      "source": [
        "!pip install pingouin"
      ],
      "execution_count": 61,
      "outputs": [
        {
          "output_type": "stream",
          "text": [
            "Collecting pingouin\n",
            "\u001b[?25l  Downloading https://files.pythonhosted.org/packages/5c/40/7736d4fcb8dbb6758a1e9ca51754e60ff4efe5d7c9b5bb6166cff538513d/pingouin-0.3.11.tar.gz (204kB)\n",
            "\r\u001b[K     |█▋                              | 10kB 14.7MB/s eta 0:00:01\r\u001b[K     |███▏                            | 20kB 21.4MB/s eta 0:00:01\r\u001b[K     |████▉                           | 30kB 25.5MB/s eta 0:00:01\r\u001b[K     |██████▍                         | 40kB 28.1MB/s eta 0:00:01\r\u001b[K     |████████                        | 51kB 30.0MB/s eta 0:00:01\r\u001b[K     |█████████▋                      | 61kB 18.9MB/s eta 0:00:01\r\u001b[K     |███████████▏                    | 71kB 20.2MB/s eta 0:00:01\r\u001b[K     |████████████▉                   | 81kB 19.3MB/s eta 0:00:01\r\u001b[K     |██████████████▍                 | 92kB 20.6MB/s eta 0:00:01\r\u001b[K     |████████████████                | 102kB 20.1MB/s eta 0:00:01\r\u001b[K     |█████████████████▋              | 112kB 20.1MB/s eta 0:00:01\r\u001b[K     |███████████████████▎            | 122kB 20.1MB/s eta 0:00:01\r\u001b[K     |████████████████████▉           | 133kB 20.1MB/s eta 0:00:01\r\u001b[K     |██████████████████████▍         | 143kB 20.1MB/s eta 0:00:01\r\u001b[K     |████████████████████████        | 153kB 20.1MB/s eta 0:00:01\r\u001b[K     |█████████████████████████▋      | 163kB 20.1MB/s eta 0:00:01\r\u001b[K     |███████████████████████████▎    | 174kB 20.1MB/s eta 0:00:01\r\u001b[K     |████████████████████████████▉   | 184kB 20.1MB/s eta 0:00:01\r\u001b[K     |██████████████████████████████▌ | 194kB 20.1MB/s eta 0:00:01\r\u001b[K     |████████████████████████████████| 204kB 20.1MB/s \n",
            "\u001b[?25hRequirement already satisfied: numpy>=1.15 in /usr/local/lib/python3.7/dist-packages (from pingouin) (1.19.5)\n",
            "Requirement already satisfied: scipy>=1.3 in /usr/local/lib/python3.7/dist-packages (from pingouin) (1.4.1)\n",
            "Requirement already satisfied: pandas>=0.24 in /usr/local/lib/python3.7/dist-packages (from pingouin) (1.1.5)\n",
            "Requirement already satisfied: matplotlib>=3.0.2 in /usr/local/lib/python3.7/dist-packages (from pingouin) (3.2.2)\n",
            "Requirement already satisfied: seaborn>=0.9.0 in /usr/local/lib/python3.7/dist-packages (from pingouin) (0.11.1)\n",
            "Requirement already satisfied: statsmodels>=0.10.0 in /usr/local/lib/python3.7/dist-packages (from pingouin) (0.10.2)\n",
            "Requirement already satisfied: scikit-learn in /usr/local/lib/python3.7/dist-packages (from pingouin) (0.22.2.post1)\n",
            "Collecting pandas_flavor>=0.1.2\n",
            "  Downloading https://files.pythonhosted.org/packages/9a/57/7fbcff4c0961ed190ac5fcb0bd8194152ee1ee6487edf64fdbae16e2bc4b/pandas_flavor-0.2.0-py2.py3-none-any.whl\n",
            "Collecting outdated\n",
            "  Downloading https://files.pythonhosted.org/packages/fd/f6/95588d496e518355c33b389222c99069b1c6f2c046be64f400072fdc7cda/outdated-0.2.1-py3-none-any.whl\n",
            "Requirement already satisfied: tabulate in /usr/local/lib/python3.7/dist-packages (from pingouin) (0.8.9)\n",
            "Requirement already satisfied: python-dateutil>=2.7.3 in /usr/local/lib/python3.7/dist-packages (from pandas>=0.24->pingouin) (2.8.1)\n",
            "Requirement already satisfied: pytz>=2017.2 in /usr/local/lib/python3.7/dist-packages (from pandas>=0.24->pingouin) (2018.9)\n",
            "Requirement already satisfied: cycler>=0.10 in /usr/local/lib/python3.7/dist-packages (from matplotlib>=3.0.2->pingouin) (0.10.0)\n",
            "Requirement already satisfied: pyparsing!=2.0.4,!=2.1.2,!=2.1.6,>=2.0.1 in /usr/local/lib/python3.7/dist-packages (from matplotlib>=3.0.2->pingouin) (2.4.7)\n",
            "Requirement already satisfied: kiwisolver>=1.0.1 in /usr/local/lib/python3.7/dist-packages (from matplotlib>=3.0.2->pingouin) (1.3.1)\n",
            "Requirement already satisfied: patsy>=0.4.0 in /usr/local/lib/python3.7/dist-packages (from statsmodels>=0.10.0->pingouin) (0.5.1)\n",
            "Requirement already satisfied: joblib>=0.11 in /usr/local/lib/python3.7/dist-packages (from scikit-learn->pingouin) (1.0.1)\n",
            "Requirement already satisfied: xarray in /usr/local/lib/python3.7/dist-packages (from pandas_flavor>=0.1.2->pingouin) (0.15.1)\n",
            "Collecting littleutils\n",
            "  Downloading https://files.pythonhosted.org/packages/4e/b1/bb4e06f010947d67349f863b6a2ad71577f85590180a935f60543f622652/littleutils-0.2.2.tar.gz\n",
            "Requirement already satisfied: requests in /usr/local/lib/python3.7/dist-packages (from outdated->pingouin) (2.23.0)\n",
            "Requirement already satisfied: six>=1.5 in /usr/local/lib/python3.7/dist-packages (from python-dateutil>=2.7.3->pandas>=0.24->pingouin) (1.15.0)\n",
            "Requirement already satisfied: setuptools>=41.2 in /usr/local/lib/python3.7/dist-packages (from xarray->pandas_flavor>=0.1.2->pingouin) (56.1.0)\n",
            "Requirement already satisfied: idna<3,>=2.5 in /usr/local/lib/python3.7/dist-packages (from requests->outdated->pingouin) (2.10)\n",
            "Requirement already satisfied: certifi>=2017.4.17 in /usr/local/lib/python3.7/dist-packages (from requests->outdated->pingouin) (2020.12.5)\n",
            "Requirement already satisfied: urllib3!=1.25.0,!=1.25.1,<1.26,>=1.21.1 in /usr/local/lib/python3.7/dist-packages (from requests->outdated->pingouin) (1.24.3)\n",
            "Requirement already satisfied: chardet<4,>=3.0.2 in /usr/local/lib/python3.7/dist-packages (from requests->outdated->pingouin) (3.0.4)\n",
            "Building wheels for collected packages: pingouin, littleutils\n",
            "  Building wheel for pingouin (setup.py) ... \u001b[?25l\u001b[?25hdone\n",
            "  Created wheel for pingouin: filename=pingouin-0.3.11-cp37-none-any.whl size=203325 sha256=a1b9301e62fe22d8197af1ef28b38548150ec7e444af4a9e7831ab63fb4f16e6\n",
            "  Stored in directory: /root/.cache/pip/wheels/79/46/ef/e377eb45c86f278f660d31c4a30e3f733063d28c89462f1aea\n",
            "  Building wheel for littleutils (setup.py) ... \u001b[?25l\u001b[?25hdone\n",
            "  Created wheel for littleutils: filename=littleutils-0.2.2-cp37-none-any.whl size=7051 sha256=008a2769f8469a7f218d88504fd6cc34b9489a204dcad491ca01a5341e94982f\n",
            "  Stored in directory: /root/.cache/pip/wheels/53/16/9f/ac67d15c40243754fd73f620e1b9b6dedc20492ecc19a2bae1\n",
            "Successfully built pingouin littleutils\n",
            "Installing collected packages: pandas-flavor, littleutils, outdated, pingouin\n",
            "Successfully installed littleutils-0.2.2 outdated-0.2.1 pandas-flavor-0.2.0 pingouin-0.3.11\n"
          ],
          "name": "stdout"
        }
      ]
    },
    {
      "cell_type": "code",
      "metadata": {
        "id": "BZt3PhRn0a7N"
      },
      "source": [
        "import pingouin as png"
      ],
      "execution_count": 62,
      "outputs": []
    },
    {
      "cell_type": "code",
      "metadata": {
        "colab": {
          "base_uri": "https://localhost:8080/"
        },
        "id": "ZWPtxShI0lT4",
        "outputId": "07727bd0-6f3f-4c5c-d7a3-8e9338269106"
      },
      "source": [
        "df.info()"
      ],
      "execution_count": 64,
      "outputs": [
        {
          "output_type": "stream",
          "text": [
            "<class 'pandas.core.frame.DataFrame'>\n",
            "RangeIndex: 2755 entries, 0 to 2754\n",
            "Data columns (total 14 columns):\n",
            " #   Column        Non-Null Count  Dtype  \n",
            "---  ------        --------------  -----  \n",
            " 0   Name          2755 non-null   object \n",
            " 1   NetWorth      2755 non-null   float64\n",
            " 2   Country       2755 non-null   object \n",
            " 3   Source        2755 non-null   object \n",
            " 4   Rank          2755 non-null   int64  \n",
            " 5   Age           2630 non-null   float64\n",
            " 6   Residence     2715 non-null   object \n",
            " 7   Citizenship   2739 non-null   object \n",
            " 8   Status        2090 non-null   object \n",
            " 9   Children      1552 non-null   float64\n",
            " 10  Education     1409 non-null   object \n",
            " 11  Self_made     2737 non-null   object \n",
            " 12  geometry      2755 non-null   object \n",
            " 13  relationship  2090 non-null   object \n",
            "dtypes: float64(3), int64(1), object(10)\n",
            "memory usage: 301.5+ KB\n"
          ],
          "name": "stdout"
        }
      ]
    },
    {
      "cell_type": "code",
      "metadata": {
        "colab": {
          "base_uri": "https://localhost:8080/"
        },
        "id": "NhWG6xpp1Kgn",
        "outputId": "cd912190-ea0d-4924-d962-5c2354f039bb"
      },
      "source": [
        "df.NetWorth"
      ],
      "execution_count": 65,
      "outputs": [
        {
          "output_type": "execute_result",
          "data": {
            "text/plain": [
              "0       177.0\n",
              "1       151.0\n",
              "2       150.0\n",
              "3       124.0\n",
              "4        97.0\n",
              "        ...  \n",
              "2750      1.0\n",
              "2751      1.0\n",
              "2752      1.0\n",
              "2753      1.0\n",
              "2754      1.0\n",
              "Name: NetWorth, Length: 2755, dtype: float64"
            ]
          },
          "metadata": {
            "tags": []
          },
          "execution_count": 65
        }
      ]
    },
    {
      "cell_type": "code",
      "metadata": {
        "colab": {
          "base_uri": "https://localhost:8080/"
        },
        "id": "33t21s6S1Y8T",
        "outputId": "f989cd94-887e-4672-ccc3-c82bbc301687"
      },
      "source": [
        "df.Age"
      ],
      "execution_count": 66,
      "outputs": [
        {
          "output_type": "execute_result",
          "data": {
            "text/plain": [
              "0       57.0\n",
              "1       49.0\n",
              "2       72.0\n",
              "3       65.0\n",
              "4       36.0\n",
              "        ... \n",
              "2750    49.0\n",
              "2751    65.0\n",
              "2752    58.0\n",
              "2753    58.0\n",
              "2754    54.0\n",
              "Name: Age, Length: 2755, dtype: float64"
            ]
          },
          "metadata": {
            "tags": []
          },
          "execution_count": 66
        }
      ]
    },
    {
      "cell_type": "code",
      "metadata": {
        "colab": {
          "base_uri": "https://localhost:8080/",
          "height": 80
        },
        "id": "b1Q7VE3l1Ztj",
        "outputId": "766b2aa9-0e92-420e-dfb0-6dabe50a72a4"
      },
      "source": [
        "png.corr(df.NetWorth, df.Age)"
      ],
      "execution_count": 67,
      "outputs": [
        {
          "output_type": "execute_result",
          "data": {
            "text/html": [
              "<div>\n",
              "<style scoped>\n",
              "    .dataframe tbody tr th:only-of-type {\n",
              "        vertical-align: middle;\n",
              "    }\n",
              "\n",
              "    .dataframe tbody tr th {\n",
              "        vertical-align: top;\n",
              "    }\n",
              "\n",
              "    .dataframe thead th {\n",
              "        text-align: right;\n",
              "    }\n",
              "</style>\n",
              "<table border=\"1\" class=\"dataframe\">\n",
              "  <thead>\n",
              "    <tr style=\"text-align: right;\">\n",
              "      <th></th>\n",
              "      <th>n</th>\n",
              "      <th>r</th>\n",
              "      <th>CI95%</th>\n",
              "      <th>r2</th>\n",
              "      <th>adj_r2</th>\n",
              "      <th>p-val</th>\n",
              "      <th>BF10</th>\n",
              "      <th>power</th>\n",
              "    </tr>\n",
              "  </thead>\n",
              "  <tbody>\n",
              "    <tr>\n",
              "      <th>pearson</th>\n",
              "      <td>2630</td>\n",
              "      <td>0.032572</td>\n",
              "      <td>[-0.01, 0.07]</td>\n",
              "      <td>0.001061</td>\n",
              "      <td>0.0003</td>\n",
              "      <td>0.094911</td>\n",
              "      <td>0.098</td>\n",
              "      <td>0.386176</td>\n",
              "    </tr>\n",
              "  </tbody>\n",
              "</table>\n",
              "</div>"
            ],
            "text/plain": [
              "            n         r          CI95%  ...     p-val   BF10     power\n",
              "pearson  2630  0.032572  [-0.01, 0.07]  ...  0.094911  0.098  0.386176\n",
              "\n",
              "[1 rows x 8 columns]"
            ]
          },
          "metadata": {
            "tags": []
          },
          "execution_count": 67
        }
      ]
    },
    {
      "cell_type": "code",
      "metadata": {
        "id": "GiirZ4Ks1iPw"
      },
      "source": [
        "self_made = (df.Self_made == True)"
      ],
      "execution_count": 72,
      "outputs": []
    },
    {
      "cell_type": "code",
      "metadata": {
        "colab": {
          "base_uri": "https://localhost:8080/",
          "height": 779
        },
        "id": "T5SkEVZa12yw",
        "outputId": "3bb250d0-805b-413c-a960-a7f4582c207c"
      },
      "source": [
        "df[self_made]"
      ],
      "execution_count": 73,
      "outputs": [
        {
          "output_type": "execute_result",
          "data": {
            "text/html": [
              "<div>\n",
              "<style scoped>\n",
              "    .dataframe tbody tr th:only-of-type {\n",
              "        vertical-align: middle;\n",
              "    }\n",
              "\n",
              "    .dataframe tbody tr th {\n",
              "        vertical-align: top;\n",
              "    }\n",
              "\n",
              "    .dataframe thead th {\n",
              "        text-align: right;\n",
              "    }\n",
              "</style>\n",
              "<table border=\"1\" class=\"dataframe\">\n",
              "  <thead>\n",
              "    <tr style=\"text-align: right;\">\n",
              "      <th></th>\n",
              "      <th>Name</th>\n",
              "      <th>NetWorth</th>\n",
              "      <th>Country</th>\n",
              "      <th>Source</th>\n",
              "      <th>Rank</th>\n",
              "      <th>Age</th>\n",
              "      <th>Residence</th>\n",
              "      <th>Citizenship</th>\n",
              "      <th>Status</th>\n",
              "      <th>Children</th>\n",
              "      <th>Education</th>\n",
              "      <th>Self_made</th>\n",
              "      <th>geometry</th>\n",
              "      <th>relationship</th>\n",
              "    </tr>\n",
              "  </thead>\n",
              "  <tbody>\n",
              "    <tr>\n",
              "      <th>0</th>\n",
              "      <td>Jeff Bezos</td>\n",
              "      <td>177.0</td>\n",
              "      <td>United States</td>\n",
              "      <td>Amazon</td>\n",
              "      <td>1</td>\n",
              "      <td>57.0</td>\n",
              "      <td>Seattle, Washington</td>\n",
              "      <td>United States</td>\n",
              "      <td>In Relationship</td>\n",
              "      <td>4.0</td>\n",
              "      <td>Bachelor of Arts/Science, Princeton University</td>\n",
              "      <td>True</td>\n",
              "      <td>POINT (-122.3300624 47.6038321)</td>\n",
              "      <td>yes</td>\n",
              "    </tr>\n",
              "    <tr>\n",
              "      <th>1</th>\n",
              "      <td>Elon Musk</td>\n",
              "      <td>151.0</td>\n",
              "      <td>United States</td>\n",
              "      <td>Tesla, SpaceX</td>\n",
              "      <td>2</td>\n",
              "      <td>49.0</td>\n",
              "      <td>Austin, Texas</td>\n",
              "      <td>United States</td>\n",
              "      <td>In Relationship</td>\n",
              "      <td>7.0</td>\n",
              "      <td>Bachelor of Arts/Science, University of Pennsy...</td>\n",
              "      <td>True</td>\n",
              "      <td>POINT (-97.74369950000001 30.2711286)</td>\n",
              "      <td>yes</td>\n",
              "    </tr>\n",
              "    <tr>\n",
              "      <th>3</th>\n",
              "      <td>Bill Gates</td>\n",
              "      <td>124.0</td>\n",
              "      <td>United States</td>\n",
              "      <td>Microsoft</td>\n",
              "      <td>4</td>\n",
              "      <td>65.0</td>\n",
              "      <td>Medina, Washington</td>\n",
              "      <td>United States</td>\n",
              "      <td>Divorced</td>\n",
              "      <td>3.0</td>\n",
              "      <td>Drop Out, Harvard University</td>\n",
              "      <td>True</td>\n",
              "      <td>POINT (-122.2264453 47.620548)</td>\n",
              "      <td>no</td>\n",
              "    </tr>\n",
              "    <tr>\n",
              "      <th>4</th>\n",
              "      <td>Mark Zuckerberg</td>\n",
              "      <td>97.0</td>\n",
              "      <td>United States</td>\n",
              "      <td>Facebook</td>\n",
              "      <td>5</td>\n",
              "      <td>36.0</td>\n",
              "      <td>Palo Alto, California</td>\n",
              "      <td>United States</td>\n",
              "      <td>Married</td>\n",
              "      <td>2.0</td>\n",
              "      <td>Drop Out, Harvard University</td>\n",
              "      <td>True</td>\n",
              "      <td>POINT (-122.1598465 37.4443293)</td>\n",
              "      <td>yes</td>\n",
              "    </tr>\n",
              "    <tr>\n",
              "      <th>5</th>\n",
              "      <td>Warren Buffett</td>\n",
              "      <td>96.0</td>\n",
              "      <td>United States</td>\n",
              "      <td>Berkshire Hathaway</td>\n",
              "      <td>6</td>\n",
              "      <td>90.0</td>\n",
              "      <td>Omaha, Nebraska</td>\n",
              "      <td>United States</td>\n",
              "      <td>Widowed, Remarried</td>\n",
              "      <td>3.0</td>\n",
              "      <td>Master of Science, Columbia University; Bachel...</td>\n",
              "      <td>True</td>\n",
              "      <td>POINT (-95.9383758 41.2587459)</td>\n",
              "      <td>yes</td>\n",
              "    </tr>\n",
              "    <tr>\n",
              "      <th>...</th>\n",
              "      <td>...</td>\n",
              "      <td>...</td>\n",
              "      <td>...</td>\n",
              "      <td>...</td>\n",
              "      <td>...</td>\n",
              "      <td>...</td>\n",
              "      <td>...</td>\n",
              "      <td>...</td>\n",
              "      <td>...</td>\n",
              "      <td>...</td>\n",
              "      <td>...</td>\n",
              "      <td>...</td>\n",
              "      <td>...</td>\n",
              "      <td>...</td>\n",
              "    </tr>\n",
              "    <tr>\n",
              "      <th>2750</th>\n",
              "      <td>Daniel Yong Zhang</td>\n",
              "      <td>1.0</td>\n",
              "      <td>China</td>\n",
              "      <td>e-commerce</td>\n",
              "      <td>2674</td>\n",
              "      <td>49.0</td>\n",
              "      <td>Hangzhou, China</td>\n",
              "      <td>China</td>\n",
              "      <td>NaN</td>\n",
              "      <td>NaN</td>\n",
              "      <td>NaN</td>\n",
              "      <td>True</td>\n",
              "      <td>POINT (120.2052342 30.2489634)</td>\n",
              "      <td>NaN</td>\n",
              "    </tr>\n",
              "    <tr>\n",
              "      <th>2751</th>\n",
              "      <td>Zhang Yuqiang</td>\n",
              "      <td>1.0</td>\n",
              "      <td>China</td>\n",
              "      <td>Fiberglass</td>\n",
              "      <td>2674</td>\n",
              "      <td>65.0</td>\n",
              "      <td>Tongxiang, China</td>\n",
              "      <td>China</td>\n",
              "      <td>NaN</td>\n",
              "      <td>NaN</td>\n",
              "      <td>NaN</td>\n",
              "      <td>True</td>\n",
              "      <td>POINT (120.5610365 30.6316971)</td>\n",
              "      <td>NaN</td>\n",
              "    </tr>\n",
              "    <tr>\n",
              "      <th>2752</th>\n",
              "      <td>Zhao Meiguang</td>\n",
              "      <td>1.0</td>\n",
              "      <td>China</td>\n",
              "      <td>gold mining</td>\n",
              "      <td>2674</td>\n",
              "      <td>58.0</td>\n",
              "      <td>Jilin, China</td>\n",
              "      <td>China</td>\n",
              "      <td>NaN</td>\n",
              "      <td>NaN</td>\n",
              "      <td>NaN</td>\n",
              "      <td>True</td>\n",
              "      <td>POINT (125.9816054 42.9995032)</td>\n",
              "      <td>NaN</td>\n",
              "    </tr>\n",
              "    <tr>\n",
              "      <th>2753</th>\n",
              "      <td>Zhong Naixiong</td>\n",
              "      <td>1.0</td>\n",
              "      <td>China</td>\n",
              "      <td>conglomerate</td>\n",
              "      <td>2674</td>\n",
              "      <td>58.0</td>\n",
              "      <td>Foshan, China</td>\n",
              "      <td>China</td>\n",
              "      <td>NaN</td>\n",
              "      <td>NaN</td>\n",
              "      <td>NaN</td>\n",
              "      <td>True</td>\n",
              "      <td>POINT (113.1146335 23.0247687)</td>\n",
              "      <td>NaN</td>\n",
              "    </tr>\n",
              "    <tr>\n",
              "      <th>2754</th>\n",
              "      <td>Zhou Wei family</td>\n",
              "      <td>1.0</td>\n",
              "      <td>China</td>\n",
              "      <td>Software</td>\n",
              "      <td>2674</td>\n",
              "      <td>54.0</td>\n",
              "      <td>Shanghai, China</td>\n",
              "      <td>China</td>\n",
              "      <td>Married</td>\n",
              "      <td>NaN</td>\n",
              "      <td>NaN</td>\n",
              "      <td>True</td>\n",
              "      <td>POINT (121.4692071 31.2322758)</td>\n",
              "      <td>yes</td>\n",
              "    </tr>\n",
              "  </tbody>\n",
              "</table>\n",
              "<p>1960 rows × 14 columns</p>\n",
              "</div>"
            ],
            "text/plain": [
              "                   Name  ...  relationship\n",
              "0            Jeff Bezos  ...           yes\n",
              "1             Elon Musk  ...           yes\n",
              "3            Bill Gates  ...            no\n",
              "4       Mark Zuckerberg  ...           yes\n",
              "5        Warren Buffett  ...           yes\n",
              "...                 ...  ...           ...\n",
              "2750  Daniel Yong Zhang  ...           NaN\n",
              "2751      Zhang Yuqiang  ...           NaN\n",
              "2752      Zhao Meiguang  ...           NaN\n",
              "2753     Zhong Naixiong  ...           NaN\n",
              "2754    Zhou Wei family  ...           yes\n",
              "\n",
              "[1960 rows x 14 columns]"
            ]
          },
          "metadata": {
            "tags": []
          },
          "execution_count": 73
        }
      ]
    },
    {
      "cell_type": "code",
      "metadata": {
        "colab": {
          "base_uri": "https://localhost:8080/",
          "height": 80
        },
        "id": "uRdjc0Ja14h-",
        "outputId": "a5df8700-590c-42a5-d8d1-a608adf8db6b"
      },
      "source": [
        "png.corr(df[self_made].NetWorth, df[self_made].Age)"
      ],
      "execution_count": 74,
      "outputs": [
        {
          "output_type": "execute_result",
          "data": {
            "text/html": [
              "<div>\n",
              "<style scoped>\n",
              "    .dataframe tbody tr th:only-of-type {\n",
              "        vertical-align: middle;\n",
              "    }\n",
              "\n",
              "    .dataframe tbody tr th {\n",
              "        vertical-align: top;\n",
              "    }\n",
              "\n",
              "    .dataframe thead th {\n",
              "        text-align: right;\n",
              "    }\n",
              "</style>\n",
              "<table border=\"1\" class=\"dataframe\">\n",
              "  <thead>\n",
              "    <tr style=\"text-align: right;\">\n",
              "      <th></th>\n",
              "      <th>n</th>\n",
              "      <th>r</th>\n",
              "      <th>CI95%</th>\n",
              "      <th>r2</th>\n",
              "      <th>adj_r2</th>\n",
              "      <th>p-val</th>\n",
              "      <th>BF10</th>\n",
              "      <th>power</th>\n",
              "    </tr>\n",
              "  </thead>\n",
              "  <tbody>\n",
              "    <tr>\n",
              "      <th>pearson</th>\n",
              "      <td>1901</td>\n",
              "      <td>0.008989</td>\n",
              "      <td>[-0.04, 0.05]</td>\n",
              "      <td>0.000081</td>\n",
              "      <td>-0.000973</td>\n",
              "      <td>0.695302</td>\n",
              "      <td>0.031</td>\n",
              "      <td>0.067747</td>\n",
              "    </tr>\n",
              "  </tbody>\n",
              "</table>\n",
              "</div>"
            ],
            "text/plain": [
              "            n         r          CI95%  ...     p-val   BF10     power\n",
              "pearson  1901  0.008989  [-0.04, 0.05]  ...  0.695302  0.031  0.067747\n",
              "\n",
              "[1 rows x 8 columns]"
            ]
          },
          "metadata": {
            "tags": []
          },
          "execution_count": 74
        }
      ]
    },
    {
      "cell_type": "code",
      "metadata": {
        "colab": {
          "base_uri": "https://localhost:8080/"
        },
        "id": "AJVDyx1F2BZ6",
        "outputId": "2371a472-e3d8-43ea-d300-9b1c41a07964"
      },
      "source": [
        "df.Children == 0"
      ],
      "execution_count": 87,
      "outputs": [
        {
          "output_type": "execute_result",
          "data": {
            "text/plain": [
              "0       False\n",
              "1       False\n",
              "2       False\n",
              "3       False\n",
              "4       False\n",
              "        ...  \n",
              "2750    False\n",
              "2751    False\n",
              "2752    False\n",
              "2753    False\n",
              "2754    False\n",
              "Name: Children, Length: 2755, dtype: bool"
            ]
          },
          "metadata": {
            "tags": []
          },
          "execution_count": 87
        }
      ]
    },
    {
      "cell_type": "code",
      "metadata": {
        "id": "lBgUekmv2VNA"
      },
      "source": [
        "dzietni = (df.loc[df['Children'] >= 1, 'NetWorth'])\n",
        "bezdzietni = (df.loc[df['Children'].isna(), 'NetWorth'])"
      ],
      "execution_count": 93,
      "outputs": []
    },
    {
      "cell_type": "code",
      "metadata": {
        "colab": {
          "base_uri": "https://localhost:8080/"
        },
        "id": "7_sTc85O3Q6x",
        "outputId": "63f15156-a077-4d4f-b940-0931b0320d78"
      },
      "source": [
        "dzietni"
      ],
      "execution_count": 97,
      "outputs": [
        {
          "output_type": "execute_result",
          "data": {
            "text/plain": [
              "0       177.0\n",
              "1       151.0\n",
              "2       150.0\n",
              "3       124.0\n",
              "4        97.0\n",
              "        ...  \n",
              "2737      1.0\n",
              "2738      1.0\n",
              "2742      1.0\n",
              "2743      1.0\n",
              "2746      1.0\n",
              "Name: NetWorth, Length: 1552, dtype: float64"
            ]
          },
          "metadata": {
            "tags": []
          },
          "execution_count": 97
        }
      ]
    },
    {
      "cell_type": "code",
      "metadata": {
        "colab": {
          "base_uri": "https://localhost:8080/"
        },
        "id": "AKJVgaeg3Rq-",
        "outputId": "3dc2fc02-3411-415e-c82d-52e1d82a557a"
      },
      "source": [
        "df['Children'].isna()"
      ],
      "execution_count": 95,
      "outputs": [
        {
          "output_type": "execute_result",
          "data": {
            "text/plain": [
              "0       False\n",
              "1       False\n",
              "2       False\n",
              "3       False\n",
              "4       False\n",
              "        ...  \n",
              "2750     True\n",
              "2751     True\n",
              "2752     True\n",
              "2753     True\n",
              "2754     True\n",
              "Name: Children, Length: 2755, dtype: bool"
            ]
          },
          "metadata": {
            "tags": []
          },
          "execution_count": 95
        }
      ]
    },
    {
      "cell_type": "code",
      "metadata": {
        "colab": {
          "base_uri": "https://localhost:8080/",
          "height": 80
        },
        "id": "VvsrXL-z3stf",
        "outputId": "2ad99027-2e21-4415-df07-58604914bbdf"
      },
      "source": [
        "png.ttest(dzietni, bezdzietni)"
      ],
      "execution_count": 98,
      "outputs": [
        {
          "output_type": "execute_result",
          "data": {
            "text/html": [
              "<div>\n",
              "<style scoped>\n",
              "    .dataframe tbody tr th:only-of-type {\n",
              "        vertical-align: middle;\n",
              "    }\n",
              "\n",
              "    .dataframe tbody tr th {\n",
              "        vertical-align: top;\n",
              "    }\n",
              "\n",
              "    .dataframe thead th {\n",
              "        text-align: right;\n",
              "    }\n",
              "</style>\n",
              "<table border=\"1\" class=\"dataframe\">\n",
              "  <thead>\n",
              "    <tr style=\"text-align: right;\">\n",
              "      <th></th>\n",
              "      <th>T</th>\n",
              "      <th>dof</th>\n",
              "      <th>tail</th>\n",
              "      <th>p-val</th>\n",
              "      <th>CI95%</th>\n",
              "      <th>cohen-d</th>\n",
              "      <th>BF10</th>\n",
              "      <th>power</th>\n",
              "    </tr>\n",
              "  </thead>\n",
              "  <tbody>\n",
              "    <tr>\n",
              "      <th>T-test</th>\n",
              "      <td>5.535121</td>\n",
              "      <td>2346.505657</td>\n",
              "      <td>two-sided</td>\n",
              "      <td>3.456347e-08</td>\n",
              "      <td>[1.21, 2.55]</td>\n",
              "      <td>0.196433</td>\n",
              "      <td>1.649e+05</td>\n",
              "      <td>0.999189</td>\n",
              "    </tr>\n",
              "  </tbody>\n",
              "</table>\n",
              "</div>"
            ],
            "text/plain": [
              "               T          dof       tail  ...   cohen-d       BF10     power\n",
              "T-test  5.535121  2346.505657  two-sided  ...  0.196433  1.649e+05  0.999189\n",
              "\n",
              "[1 rows x 8 columns]"
            ]
          },
          "metadata": {
            "tags": []
          },
          "execution_count": 98
        }
      ]
    },
    {
      "cell_type": "code",
      "metadata": {
        "colab": {
          "base_uri": "https://localhost:8080/"
        },
        "id": "Y7aNN8HB3t96",
        "outputId": "84b04b5f-855f-4c22-a265-10cbb1ea3c61"
      },
      "source": [
        "dzietni.mean()"
      ],
      "execution_count": 99,
      "outputs": [
        {
          "output_type": "execute_result",
          "data": {
            "text/plain": [
              "5.570231958762908"
            ]
          },
          "metadata": {
            "tags": []
          },
          "execution_count": 99
        }
      ]
    },
    {
      "cell_type": "code",
      "metadata": {
        "colab": {
          "base_uri": "https://localhost:8080/"
        },
        "id": "hD3-mZbs41V0",
        "outputId": "b5280f4e-4f62-42f1-8ce4-778b4aca5b84"
      },
      "source": [
        "bezdzietni.mean()"
      ],
      "execution_count": 100,
      "outputs": [
        {
          "output_type": "execute_result",
          "data": {
            "text/plain": [
              "3.6900249376558794"
            ]
          },
          "metadata": {
            "tags": []
          },
          "execution_count": 100
        }
      ]
    },
    {
      "cell_type": "code",
      "metadata": {
        "colab": {
          "base_uri": "https://localhost:8080/"
        },
        "id": "kMxCBH7G42k-",
        "outputId": "c0f79c61-d07a-4486-eee5-837ec76b2b60"
      },
      "source": [
        "df.info()"
      ],
      "execution_count": 101,
      "outputs": [
        {
          "output_type": "stream",
          "text": [
            "<class 'pandas.core.frame.DataFrame'>\n",
            "RangeIndex: 2755 entries, 0 to 2754\n",
            "Data columns (total 14 columns):\n",
            " #   Column        Non-Null Count  Dtype  \n",
            "---  ------        --------------  -----  \n",
            " 0   Name          2755 non-null   object \n",
            " 1   NetWorth      2755 non-null   float64\n",
            " 2   Country       2755 non-null   object \n",
            " 3   Source        2755 non-null   object \n",
            " 4   Rank          2755 non-null   int64  \n",
            " 5   Age           2630 non-null   float64\n",
            " 6   Residence     2715 non-null   object \n",
            " 7   Citizenship   2739 non-null   object \n",
            " 8   Status        2090 non-null   object \n",
            " 9   Children      1552 non-null   float64\n",
            " 10  Education     1409 non-null   object \n",
            " 11  Self_made     2737 non-null   object \n",
            " 12  geometry      2755 non-null   object \n",
            " 13  relationship  2090 non-null   object \n",
            "dtypes: float64(3), int64(1), object(10)\n",
            "memory usage: 301.5+ KB\n"
          ],
          "name": "stdout"
        }
      ]
    },
    {
      "cell_type": "code",
      "metadata": {
        "id": "7s1Jx2bw5Gkf"
      },
      "source": [
        "e, o, stats = png.chi2_independence(df, 'relationship', 'Self_made')"
      ],
      "execution_count": 103,
      "outputs": []
    },
    {
      "cell_type": "code",
      "metadata": {
        "colab": {
          "base_uri": "https://localhost:8080/",
          "height": 142
        },
        "id": "9iRzbx285f-f",
        "outputId": "bade6d37-5b6f-4933-d70b-79d7008db410"
      },
      "source": [
        "e"
      ],
      "execution_count": 104,
      "outputs": [
        {
          "output_type": "execute_result",
          "data": {
            "text/html": [
              "<div>\n",
              "<style scoped>\n",
              "    .dataframe tbody tr th:only-of-type {\n",
              "        vertical-align: middle;\n",
              "    }\n",
              "\n",
              "    .dataframe tbody tr th {\n",
              "        vertical-align: top;\n",
              "    }\n",
              "\n",
              "    .dataframe thead th {\n",
              "        text-align: right;\n",
              "    }\n",
              "</style>\n",
              "<table border=\"1\" class=\"dataframe\">\n",
              "  <thead>\n",
              "    <tr style=\"text-align: right;\">\n",
              "      <th>Self_made</th>\n",
              "      <th>False</th>\n",
              "      <th>True</th>\n",
              "    </tr>\n",
              "    <tr>\n",
              "      <th>relationship</th>\n",
              "      <th></th>\n",
              "      <th></th>\n",
              "    </tr>\n",
              "  </thead>\n",
              "  <tbody>\n",
              "    <tr>\n",
              "      <th>no</th>\n",
              "      <td>96.127273</td>\n",
              "      <td>226.872727</td>\n",
              "    </tr>\n",
              "    <tr>\n",
              "      <th>yes</th>\n",
              "      <td>525.872727</td>\n",
              "      <td>1241.127273</td>\n",
              "    </tr>\n",
              "  </tbody>\n",
              "</table>\n",
              "</div>"
            ],
            "text/plain": [
              "Self_made          False        True \n",
              "relationship                         \n",
              "no             96.127273   226.872727\n",
              "yes           525.872727  1241.127273"
            ]
          },
          "metadata": {
            "tags": []
          },
          "execution_count": 104
        }
      ]
    },
    {
      "cell_type": "code",
      "metadata": {
        "colab": {
          "base_uri": "https://localhost:8080/",
          "height": 142
        },
        "id": "1CvopMh75vM0",
        "outputId": "0074b07b-6f3f-48cc-8425-d2b45f0c941a"
      },
      "source": [
        "o"
      ],
      "execution_count": 105,
      "outputs": [
        {
          "output_type": "execute_result",
          "data": {
            "text/html": [
              "<div>\n",
              "<style scoped>\n",
              "    .dataframe tbody tr th:only-of-type {\n",
              "        vertical-align: middle;\n",
              "    }\n",
              "\n",
              "    .dataframe tbody tr th {\n",
              "        vertical-align: top;\n",
              "    }\n",
              "\n",
              "    .dataframe thead th {\n",
              "        text-align: right;\n",
              "    }\n",
              "</style>\n",
              "<table border=\"1\" class=\"dataframe\">\n",
              "  <thead>\n",
              "    <tr style=\"text-align: right;\">\n",
              "      <th>Self_made</th>\n",
              "      <th>False</th>\n",
              "      <th>True</th>\n",
              "    </tr>\n",
              "    <tr>\n",
              "      <th>relationship</th>\n",
              "      <th></th>\n",
              "      <th></th>\n",
              "    </tr>\n",
              "  </thead>\n",
              "  <tbody>\n",
              "    <tr>\n",
              "      <th>no</th>\n",
              "      <td>148.5</td>\n",
              "      <td>174.5</td>\n",
              "    </tr>\n",
              "    <tr>\n",
              "      <th>yes</th>\n",
              "      <td>473.5</td>\n",
              "      <td>1293.5</td>\n",
              "    </tr>\n",
              "  </tbody>\n",
              "</table>\n",
              "</div>"
            ],
            "text/plain": [
              "Self_made     False   True \n",
              "relationship               \n",
              "no            148.5   174.5\n",
              "yes           473.5  1293.5"
            ]
          },
          "metadata": {
            "tags": []
          },
          "execution_count": 105
        }
      ]
    },
    {
      "cell_type": "code",
      "metadata": {
        "colab": {
          "base_uri": "https://localhost:8080/",
          "height": 235
        },
        "id": "sAbRAbiF5wWn",
        "outputId": "8ca07697-2aa0-4d0c-8da1-ef2954345cbb"
      },
      "source": [
        "stats"
      ],
      "execution_count": 106,
      "outputs": [
        {
          "output_type": "execute_result",
          "data": {
            "text/html": [
              "<div>\n",
              "<style scoped>\n",
              "    .dataframe tbody tr th:only-of-type {\n",
              "        vertical-align: middle;\n",
              "    }\n",
              "\n",
              "    .dataframe tbody tr th {\n",
              "        vertical-align: top;\n",
              "    }\n",
              "\n",
              "    .dataframe thead th {\n",
              "        text-align: right;\n",
              "    }\n",
              "</style>\n",
              "<table border=\"1\" class=\"dataframe\">\n",
              "  <thead>\n",
              "    <tr style=\"text-align: right;\">\n",
              "      <th></th>\n",
              "      <th>test</th>\n",
              "      <th>lambda</th>\n",
              "      <th>chi2</th>\n",
              "      <th>dof</th>\n",
              "      <th>pval</th>\n",
              "      <th>cramer</th>\n",
              "      <th>power</th>\n",
              "    </tr>\n",
              "  </thead>\n",
              "  <tbody>\n",
              "    <tr>\n",
              "      <th>0</th>\n",
              "      <td>pearson</td>\n",
              "      <td>1.000000</td>\n",
              "      <td>48.050037</td>\n",
              "      <td>1.0</td>\n",
              "      <td>4.154798e-12</td>\n",
              "      <td>0.132064</td>\n",
              "      <td>1.000000</td>\n",
              "    </tr>\n",
              "    <tr>\n",
              "      <th>1</th>\n",
              "      <td>cressie-read</td>\n",
              "      <td>0.666667</td>\n",
              "      <td>46.961208</td>\n",
              "      <td>1.0</td>\n",
              "      <td>7.240572e-12</td>\n",
              "      <td>0.130560</td>\n",
              "      <td>1.000000</td>\n",
              "    </tr>\n",
              "    <tr>\n",
              "      <th>2</th>\n",
              "      <td>log-likelihood</td>\n",
              "      <td>0.000000</td>\n",
              "      <td>45.146536</td>\n",
              "      <td>1.0</td>\n",
              "      <td>1.828288e-11</td>\n",
              "      <td>0.128012</td>\n",
              "      <td>0.999999</td>\n",
              "    </tr>\n",
              "    <tr>\n",
              "      <th>3</th>\n",
              "      <td>freeman-tukey</td>\n",
              "      <td>-0.500000</td>\n",
              "      <td>44.072070</td>\n",
              "      <td>1.0</td>\n",
              "      <td>3.165051e-11</td>\n",
              "      <td>0.126480</td>\n",
              "      <td>0.999999</td>\n",
              "    </tr>\n",
              "    <tr>\n",
              "      <th>4</th>\n",
              "      <td>mod-log-likelihood</td>\n",
              "      <td>-1.000000</td>\n",
              "      <td>43.218332</td>\n",
              "      <td>1.0</td>\n",
              "      <td>4.895980e-11</td>\n",
              "      <td>0.125249</td>\n",
              "      <td>0.999998</td>\n",
              "    </tr>\n",
              "    <tr>\n",
              "      <th>5</th>\n",
              "      <td>neyman</td>\n",
              "      <td>-2.000000</td>\n",
              "      <td>42.102716</td>\n",
              "      <td>1.0</td>\n",
              "      <td>8.660282e-11</td>\n",
              "      <td>0.123622</td>\n",
              "      <td>0.999997</td>\n",
              "    </tr>\n",
              "  </tbody>\n",
              "</table>\n",
              "</div>"
            ],
            "text/plain": [
              "                 test    lambda       chi2  ...          pval    cramer     power\n",
              "0             pearson  1.000000  48.050037  ...  4.154798e-12  0.132064  1.000000\n",
              "1        cressie-read  0.666667  46.961208  ...  7.240572e-12  0.130560  1.000000\n",
              "2      log-likelihood  0.000000  45.146536  ...  1.828288e-11  0.128012  0.999999\n",
              "3       freeman-tukey -0.500000  44.072070  ...  3.165051e-11  0.126480  0.999999\n",
              "4  mod-log-likelihood -1.000000  43.218332  ...  4.895980e-11  0.125249  0.999998\n",
              "5              neyman -2.000000  42.102716  ...  8.660282e-11  0.123622  0.999997\n",
              "\n",
              "[6 rows x 7 columns]"
            ]
          },
          "metadata": {
            "tags": []
          },
          "execution_count": 106
        }
      ]
    },
    {
      "cell_type": "code",
      "metadata": {
        "id": "i11vp2XI5xVY"
      },
      "source": [
        ""
      ],
      "execution_count": null,
      "outputs": []
    }
  ]
}
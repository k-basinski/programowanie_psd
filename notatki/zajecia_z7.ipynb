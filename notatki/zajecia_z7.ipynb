{
  "nbformat": 4,
  "nbformat_minor": 0,
  "metadata": {
    "colab": {
      "name": "Untitled18.ipynb",
      "provenance": []
    },
    "kernelspec": {
      "name": "python3",
      "display_name": "Python 3"
    },
    "language_info": {
      "name": "python"
    }
  },
  "cells": [
    {
      "cell_type": "code",
      "metadata": {
        "id": "8IvRaHzRrxJY"
      },
      "source": [
        "import pandas as pd\n",
        "import numpy as np\n",
        "import matplotlib.pyplot as plt\n",
        "import seaborn as sns"
      ],
      "execution_count": 1,
      "outputs": []
    },
    {
      "cell_type": "code",
      "metadata": {
        "colab": {
          "base_uri": "https://localhost:8080/"
        },
        "id": "SaRW25FiwQci",
        "outputId": "390e38ca-afaa-4c7d-db9f-fb25bbf2cbec"
      },
      "source": [
        "df = pd.read_csv('data.csv', sep=';', na_values='Brak')\n",
        "df.info()"
      ],
      "execution_count": 6,
      "outputs": [
        {
          "output_type": "stream",
          "text": [
            "<class 'pandas.core.frame.DataFrame'>\n",
            "RangeIndex: 23 entries, 0 to 22\n",
            "Data columns (total 17 columns):\n",
            " #   Column              Non-Null Count  Dtype  \n",
            "---  ------              --------------  -----  \n",
            " 0   czas                23 non-null     object \n",
            " 1   zadowolenie         23 non-null     int64  \n",
            " 2   pies_kot            23 non-null     object \n",
            " 3   przydatnosc         23 non-null     int64  \n",
            " 4   ktore_info          17 non-null     object \n",
            " 5   zakwaterowanie      22 non-null     float64\n",
            " 6   pakiet              23 non-null     int64  \n",
            " 7   maile               22 non-null     float64\n",
            " 8   transport           23 non-null     int64  \n",
            " 9   spotkanie           23 non-null     int64  \n",
            " 10  lokalizacja         23 non-null     int64  \n",
            " 11  aktywnosci          21 non-null     float64\n",
            " 12  ceremonia           22 non-null     float64\n",
            " 13  organizacja_dod     23 non-null     object \n",
            " 14  ciekawe_spotkanie   23 non-null     object \n",
            " 15  ciekawe_prezenter1  23 non-null     object \n",
            " 16  ciekawe_aktywnosc1  23 non-null     object \n",
            "dtypes: float64(4), int64(6), object(7)\n",
            "memory usage: 3.2+ KB\n"
          ],
          "name": "stdout"
        }
      ]
    },
    {
      "cell_type": "code",
      "metadata": {
        "colab": {
          "base_uri": "https://localhost:8080/",
          "height": 1000
        },
        "id": "Hp_IpDTr3PSJ",
        "outputId": "8c2ccc21-b7bf-4724-8044-829efb7a3a1f"
      },
      "source": [
        "df"
      ],
      "execution_count": 27,
      "outputs": [
        {
          "output_type": "execute_result",
          "data": {
            "text/html": [
              "<div>\n",
              "<style scoped>\n",
              "    .dataframe tbody tr th:only-of-type {\n",
              "        vertical-align: middle;\n",
              "    }\n",
              "\n",
              "    .dataframe tbody tr th {\n",
              "        vertical-align: top;\n",
              "    }\n",
              "\n",
              "    .dataframe thead th {\n",
              "        text-align: right;\n",
              "    }\n",
              "</style>\n",
              "<table border=\"1\" class=\"dataframe\">\n",
              "  <thead>\n",
              "    <tr style=\"text-align: right;\">\n",
              "      <th></th>\n",
              "      <th>czas</th>\n",
              "      <th>zadowolenie</th>\n",
              "      <th>pies_kot</th>\n",
              "      <th>przydatnosc</th>\n",
              "      <th>ktore_info</th>\n",
              "      <th>zakwaterowanie</th>\n",
              "      <th>pakiet</th>\n",
              "      <th>maile</th>\n",
              "      <th>transport</th>\n",
              "      <th>spotkanie</th>\n",
              "      <th>lokalizacja</th>\n",
              "      <th>aktywnosci</th>\n",
              "      <th>ceremonia</th>\n",
              "      <th>organizacja_dod</th>\n",
              "      <th>ciekawe_spotkanie</th>\n",
              "      <th>ciekawe_prezenter1</th>\n",
              "      <th>ciekawe_aktywnosc1</th>\n",
              "      <th>ciekawe</th>\n",
              "    </tr>\n",
              "  </thead>\n",
              "  <tbody>\n",
              "    <tr>\n",
              "      <th>0</th>\n",
              "      <td>2021/06/10 6:05:38 PM EET</td>\n",
              "      <td>5</td>\n",
              "      <td>Psów</td>\n",
              "      <td>2</td>\n",
              "      <td>Pielęgnacja</td>\n",
              "      <td>2.0</td>\n",
              "      <td>5</td>\n",
              "      <td>1.0</td>\n",
              "      <td>5</td>\n",
              "      <td>3</td>\n",
              "      <td>3</td>\n",
              "      <td>5.0</td>\n",
              "      <td>2.0</td>\n",
              "      <td>Brak elastyczności</td>\n",
              "      <td>2.0</td>\n",
              "      <td>NaN</td>\n",
              "      <td>3.0</td>\n",
              "      <td>NaN</td>\n",
              "    </tr>\n",
              "    <tr>\n",
              "      <th>1</th>\n",
              "      <td>2021/06/10 6:05:38 PM EET</td>\n",
              "      <td>5</td>\n",
              "      <td>Kotów</td>\n",
              "      <td>4</td>\n",
              "      <td>1</td>\n",
              "      <td>5.0</td>\n",
              "      <td>3</td>\n",
              "      <td>5.0</td>\n",
              "      <td>4</td>\n",
              "      <td>2</td>\n",
              "      <td>1</td>\n",
              "      <td>4.0</td>\n",
              "      <td>2.0</td>\n",
              "      <td>0</td>\n",
              "      <td>2.0</td>\n",
              "      <td>3.0</td>\n",
              "      <td>1.0</td>\n",
              "      <td>6.0</td>\n",
              "    </tr>\n",
              "    <tr>\n",
              "      <th>2</th>\n",
              "      <td>2021/06/10 6:06:11 PM EET</td>\n",
              "      <td>2</td>\n",
              "      <td>Kotów</td>\n",
              "      <td>4</td>\n",
              "      <td>NaN</td>\n",
              "      <td>1.0</td>\n",
              "      <td>5</td>\n",
              "      <td>2.0</td>\n",
              "      <td>3</td>\n",
              "      <td>5</td>\n",
              "      <td>3</td>\n",
              "      <td>NaN</td>\n",
              "      <td>1.0</td>\n",
              "      <td>qwe</td>\n",
              "      <td>3.0</td>\n",
              "      <td>1.0</td>\n",
              "      <td>3.0</td>\n",
              "      <td>7.0</td>\n",
              "    </tr>\n",
              "    <tr>\n",
              "      <th>3</th>\n",
              "      <td>2021/06/10 6:06:40 PM EET</td>\n",
              "      <td>4</td>\n",
              "      <td>Kotów</td>\n",
              "      <td>4</td>\n",
              "      <td>O życiu kotów</td>\n",
              "      <td>4.0</td>\n",
              "      <td>3</td>\n",
              "      <td>4.0</td>\n",
              "      <td>5</td>\n",
              "      <td>4</td>\n",
              "      <td>5</td>\n",
              "      <td>2.0</td>\n",
              "      <td>4.0</td>\n",
              "      <td>Słabe UI</td>\n",
              "      <td>3.0</td>\n",
              "      <td>NaN</td>\n",
              "      <td>2.0</td>\n",
              "      <td>NaN</td>\n",
              "    </tr>\n",
              "    <tr>\n",
              "      <th>4</th>\n",
              "      <td>2021/06/10 6:06:47 PM EET</td>\n",
              "      <td>1</td>\n",
              "      <td>Psów</td>\n",
              "      <td>5</td>\n",
              "      <td>NaN</td>\n",
              "      <td>1.0</td>\n",
              "      <td>1</td>\n",
              "      <td>1.0</td>\n",
              "      <td>2</td>\n",
              "      <td>2</td>\n",
              "      <td>3</td>\n",
              "      <td>3.0</td>\n",
              "      <td>5.0</td>\n",
              "      <td>fsg</td>\n",
              "      <td>3.0</td>\n",
              "      <td>2.0</td>\n",
              "      <td>2.0</td>\n",
              "      <td>7.0</td>\n",
              "    </tr>\n",
              "    <tr>\n",
              "      <th>5</th>\n",
              "      <td>2021/06/10 6:07:07 PM EET</td>\n",
              "      <td>4</td>\n",
              "      <td>Psów</td>\n",
              "      <td>5</td>\n",
              "      <td>dotyczące aspektów zdrowotnych</td>\n",
              "      <td>5.0</td>\n",
              "      <td>4</td>\n",
              "      <td>3.0</td>\n",
              "      <td>3</td>\n",
              "      <td>2</td>\n",
              "      <td>5</td>\n",
              "      <td>NaN</td>\n",
              "      <td>NaN</td>\n",
              "      <td>Późne godziny</td>\n",
              "      <td>1.0</td>\n",
              "      <td>2.0</td>\n",
              "      <td>3.0</td>\n",
              "      <td>6.0</td>\n",
              "    </tr>\n",
              "    <tr>\n",
              "      <th>6</th>\n",
              "      <td>2021/06/10 6:07:15 PM EET</td>\n",
              "      <td>5</td>\n",
              "      <td>Psów</td>\n",
              "      <td>5</td>\n",
              "      <td>Elementy statystyki</td>\n",
              "      <td>5.0</td>\n",
              "      <td>5</td>\n",
              "      <td>3.0</td>\n",
              "      <td>3</td>\n",
              "      <td>4</td>\n",
              "      <td>5</td>\n",
              "      <td>5.0</td>\n",
              "      <td>4.0</td>\n",
              "      <td>Brak uwag</td>\n",
              "      <td>3.0</td>\n",
              "      <td>2.0</td>\n",
              "      <td>3.0</td>\n",
              "      <td>8.0</td>\n",
              "    </tr>\n",
              "    <tr>\n",
              "      <th>7</th>\n",
              "      <td>2021/06/10 6:07:15 PM EET</td>\n",
              "      <td>2</td>\n",
              "      <td>Psów</td>\n",
              "      <td>5</td>\n",
              "      <td>NaN</td>\n",
              "      <td>2.0</td>\n",
              "      <td>3</td>\n",
              "      <td>4.0</td>\n",
              "      <td>3</td>\n",
              "      <td>5</td>\n",
              "      <td>3</td>\n",
              "      <td>3.0</td>\n",
              "      <td>4.0</td>\n",
              "      <td>fgfh</td>\n",
              "      <td>2.0</td>\n",
              "      <td>2.0</td>\n",
              "      <td>2.0</td>\n",
              "      <td>6.0</td>\n",
              "    </tr>\n",
              "    <tr>\n",
              "      <th>8</th>\n",
              "      <td>2021/06/10 6:07:31 PM EET</td>\n",
              "      <td>5</td>\n",
              "      <td>Psów</td>\n",
              "      <td>4</td>\n",
              "      <td>O obrożach</td>\n",
              "      <td>5.0</td>\n",
              "      <td>3</td>\n",
              "      <td>3.0</td>\n",
              "      <td>4</td>\n",
              "      <td>4</td>\n",
              "      <td>5</td>\n",
              "      <td>5.0</td>\n",
              "      <td>2.0</td>\n",
              "      <td>Słaba ceremonia</td>\n",
              "      <td>3.0</td>\n",
              "      <td>3.0</td>\n",
              "      <td>3.0</td>\n",
              "      <td>9.0</td>\n",
              "    </tr>\n",
              "    <tr>\n",
              "      <th>9</th>\n",
              "      <td>2021/06/10 6:07:37 PM EET</td>\n",
              "      <td>5</td>\n",
              "      <td>Kotów</td>\n",
              "      <td>3</td>\n",
              "      <td>Prawdziwe informacje.</td>\n",
              "      <td>5.0</td>\n",
              "      <td>4</td>\n",
              "      <td>3.0</td>\n",
              "      <td>4</td>\n",
              "      <td>2</td>\n",
              "      <td>4</td>\n",
              "      <td>2.0</td>\n",
              "      <td>2.0</td>\n",
              "      <td>Wspaniała organizacja.</td>\n",
              "      <td>2.0</td>\n",
              "      <td>NaN</td>\n",
              "      <td>2.0</td>\n",
              "      <td>NaN</td>\n",
              "    </tr>\n",
              "    <tr>\n",
              "      <th>10</th>\n",
              "      <td>2021/06/10 6:07:58 PM EET</td>\n",
              "      <td>5</td>\n",
              "      <td>Psów</td>\n",
              "      <td>5</td>\n",
              "      <td>zastosowanie phytona w pracy naukowca</td>\n",
              "      <td>4.0</td>\n",
              "      <td>4</td>\n",
              "      <td>5.0</td>\n",
              "      <td>5</td>\n",
              "      <td>4</td>\n",
              "      <td>4</td>\n",
              "      <td>5.0</td>\n",
              "      <td>5.0</td>\n",
              "      <td>doskonałość roku</td>\n",
              "      <td>2.0</td>\n",
              "      <td>3.0</td>\n",
              "      <td>3.0</td>\n",
              "      <td>8.0</td>\n",
              "    </tr>\n",
              "    <tr>\n",
              "      <th>11</th>\n",
              "      <td>2021/06/10 6:08:10 PM EET</td>\n",
              "      <td>3</td>\n",
              "      <td>Kotów</td>\n",
              "      <td>4</td>\n",
              "      <td>żadne</td>\n",
              "      <td>NaN</td>\n",
              "      <td>5</td>\n",
              "      <td>NaN</td>\n",
              "      <td>5</td>\n",
              "      <td>5</td>\n",
              "      <td>5</td>\n",
              "      <td>4.0</td>\n",
              "      <td>5.0</td>\n",
              "      <td>brak</td>\n",
              "      <td>3.0</td>\n",
              "      <td>2.0</td>\n",
              "      <td>3.0</td>\n",
              "      <td>8.0</td>\n",
              "    </tr>\n",
              "    <tr>\n",
              "      <th>12</th>\n",
              "      <td>2021/06/10 6:08:53 PM EET</td>\n",
              "      <td>4</td>\n",
              "      <td>Psów</td>\n",
              "      <td>4</td>\n",
              "      <td>wskazówki odnośnie uprawy dyni</td>\n",
              "      <td>5.0</td>\n",
              "      <td>3</td>\n",
              "      <td>4.0</td>\n",
              "      <td>5</td>\n",
              "      <td>2</td>\n",
              "      <td>4</td>\n",
              "      <td>5.0</td>\n",
              "      <td>5.0</td>\n",
              "      <td>Kolejki do toalet były strasznie długie</td>\n",
              "      <td>2.0</td>\n",
              "      <td>3.0</td>\n",
              "      <td>2.0</td>\n",
              "      <td>7.0</td>\n",
              "    </tr>\n",
              "    <tr>\n",
              "      <th>13</th>\n",
              "      <td>2021/06/10 6:08:59 PM EET</td>\n",
              "      <td>5</td>\n",
              "      <td>Psów</td>\n",
              "      <td>5</td>\n",
              "      <td>NaN</td>\n",
              "      <td>5.0</td>\n",
              "      <td>5</td>\n",
              "      <td>5.0</td>\n",
              "      <td>5</td>\n",
              "      <td>5</td>\n",
              "      <td>5</td>\n",
              "      <td>5.0</td>\n",
              "      <td>5.0</td>\n",
              "      <td>Wszystko bardzo dobrze</td>\n",
              "      <td>3.0</td>\n",
              "      <td>3.0</td>\n",
              "      <td>3.0</td>\n",
              "      <td>9.0</td>\n",
              "    </tr>\n",
              "    <tr>\n",
              "      <th>14</th>\n",
              "      <td>2021/06/10 6:09:36 PM EET</td>\n",
              "      <td>2</td>\n",
              "      <td>Kotów</td>\n",
              "      <td>2</td>\n",
              "      <td>Karma barf</td>\n",
              "      <td>2.0</td>\n",
              "      <td>1</td>\n",
              "      <td>2.0</td>\n",
              "      <td>2</td>\n",
              "      <td>2</td>\n",
              "      <td>2</td>\n",
              "      <td>2.0</td>\n",
              "      <td>2.0</td>\n",
              "      <td>Zbyt mało czasu wolnego</td>\n",
              "      <td>NaN</td>\n",
              "      <td>NaN</td>\n",
              "      <td>NaN</td>\n",
              "      <td>NaN</td>\n",
              "    </tr>\n",
              "    <tr>\n",
              "      <th>15</th>\n",
              "      <td>2021/06/10 6:09:41 PM EET</td>\n",
              "      <td>2</td>\n",
              "      <td>Kotów</td>\n",
              "      <td>2</td>\n",
              "      <td>rzadne.</td>\n",
              "      <td>2.0</td>\n",
              "      <td>1</td>\n",
              "      <td>3.0</td>\n",
              "      <td>1</td>\n",
              "      <td>2</td>\n",
              "      <td>2</td>\n",
              "      <td>3.0</td>\n",
              "      <td>5.0</td>\n",
              "      <td>Za długie prezentacje.</td>\n",
              "      <td>1.0</td>\n",
              "      <td>1.0</td>\n",
              "      <td>2.0</td>\n",
              "      <td>4.0</td>\n",
              "    </tr>\n",
              "    <tr>\n",
              "      <th>16</th>\n",
              "      <td>2021/06/10 6:09:48 PM EET</td>\n",
              "      <td>5</td>\n",
              "      <td>Psów</td>\n",
              "      <td>5</td>\n",
              "      <td>NaN</td>\n",
              "      <td>5.0</td>\n",
              "      <td>5</td>\n",
              "      <td>5.0</td>\n",
              "      <td>5</td>\n",
              "      <td>5</td>\n",
              "      <td>5</td>\n",
              "      <td>5.0</td>\n",
              "      <td>5.0</td>\n",
              "      <td>Wszystko bardzo dobrze</td>\n",
              "      <td>3.0</td>\n",
              "      <td>3.0</td>\n",
              "      <td>3.0</td>\n",
              "      <td>9.0</td>\n",
              "    </tr>\n",
              "    <tr>\n",
              "      <th>17</th>\n",
              "      <td>2021/06/10 6:09:52 PM EET</td>\n",
              "      <td>1</td>\n",
              "      <td>Psów</td>\n",
              "      <td>3</td>\n",
              "      <td>NaN</td>\n",
              "      <td>3.0</td>\n",
              "      <td>4</td>\n",
              "      <td>3.0</td>\n",
              "      <td>4</td>\n",
              "      <td>3</td>\n",
              "      <td>4</td>\n",
              "      <td>3.0</td>\n",
              "      <td>4.0</td>\n",
              "      <td>hukjh</td>\n",
              "      <td>3.0</td>\n",
              "      <td>3.0</td>\n",
              "      <td>1.0</td>\n",
              "      <td>7.0</td>\n",
              "    </tr>\n",
              "    <tr>\n",
              "      <th>18</th>\n",
              "      <td>2021/06/10 6:10:00 PM EET</td>\n",
              "      <td>1</td>\n",
              "      <td>Psów</td>\n",
              "      <td>1</td>\n",
              "      <td>sdf</td>\n",
              "      <td>1.0</td>\n",
              "      <td>1</td>\n",
              "      <td>2.0</td>\n",
              "      <td>3</td>\n",
              "      <td>4</td>\n",
              "      <td>4</td>\n",
              "      <td>3.0</td>\n",
              "      <td>3.0</td>\n",
              "      <td>sdf</td>\n",
              "      <td>3.0</td>\n",
              "      <td>2.0</td>\n",
              "      <td>3.0</td>\n",
              "      <td>8.0</td>\n",
              "    </tr>\n",
              "    <tr>\n",
              "      <th>19</th>\n",
              "      <td>2021/06/10 6:10:14 PM EET</td>\n",
              "      <td>3</td>\n",
              "      <td>Psów</td>\n",
              "      <td>3</td>\n",
              "      <td>O kastracji</td>\n",
              "      <td>5.0</td>\n",
              "      <td>5</td>\n",
              "      <td>3.0</td>\n",
              "      <td>2</td>\n",
              "      <td>1</td>\n",
              "      <td>3</td>\n",
              "      <td>4.0</td>\n",
              "      <td>3.0</td>\n",
              "      <td>Śliczne kotki</td>\n",
              "      <td>3.0</td>\n",
              "      <td>2.0</td>\n",
              "      <td>3.0</td>\n",
              "      <td>8.0</td>\n",
              "    </tr>\n",
              "    <tr>\n",
              "      <th>20</th>\n",
              "      <td>2021/06/10 6:10:14 PM EET</td>\n",
              "      <td>4</td>\n",
              "      <td>Kotów</td>\n",
              "      <td>3</td>\n",
              "      <td>Żadne. Wynudziłam się na śmierć. Oddajcie moje...</td>\n",
              "      <td>2.0</td>\n",
              "      <td>5</td>\n",
              "      <td>1.0</td>\n",
              "      <td>2</td>\n",
              "      <td>4</td>\n",
              "      <td>3</td>\n",
              "      <td>3.0</td>\n",
              "      <td>2.0</td>\n",
              "      <td>Brak kontaktu z organizatorami. Nikt nie odpis...</td>\n",
              "      <td>NaN</td>\n",
              "      <td>1.0</td>\n",
              "      <td>2.0</td>\n",
              "      <td>NaN</td>\n",
              "    </tr>\n",
              "    <tr>\n",
              "      <th>21</th>\n",
              "      <td>2021/06/10 6:10:20 PM EET</td>\n",
              "      <td>3</td>\n",
              "      <td>Psów</td>\n",
              "      <td>1</td>\n",
              "      <td>finansowe</td>\n",
              "      <td>2.0</td>\n",
              "      <td>4</td>\n",
              "      <td>4.0</td>\n",
              "      <td>2</td>\n",
              "      <td>4</td>\n",
              "      <td>2</td>\n",
              "      <td>2.0</td>\n",
              "      <td>2.0</td>\n",
              "      <td>Miła obsługa wydarzenia</td>\n",
              "      <td>3.0</td>\n",
              "      <td>NaN</td>\n",
              "      <td>NaN</td>\n",
              "      <td>NaN</td>\n",
              "    </tr>\n",
              "    <tr>\n",
              "      <th>22</th>\n",
              "      <td>2021/06/10 6:10:20 PM EET</td>\n",
              "      <td>5</td>\n",
              "      <td>Psów</td>\n",
              "      <td>5</td>\n",
              "      <td>asd</td>\n",
              "      <td>5.0</td>\n",
              "      <td>5</td>\n",
              "      <td>5.0</td>\n",
              "      <td>5</td>\n",
              "      <td>5</td>\n",
              "      <td>5</td>\n",
              "      <td>5.0</td>\n",
              "      <td>5.0</td>\n",
              "      <td>sdfsd</td>\n",
              "      <td>3.0</td>\n",
              "      <td>3.0</td>\n",
              "      <td>3.0</td>\n",
              "      <td>9.0</td>\n",
              "    </tr>\n",
              "  </tbody>\n",
              "</table>\n",
              "</div>"
            ],
            "text/plain": [
              "                         czas  zadowolenie  ... ciekawe_aktywnosc1  ciekawe\n",
              "0   2021/06/10 6:05:38 PM EET            5  ...                3.0      NaN\n",
              "1   2021/06/10 6:05:38 PM EET            5  ...                1.0      6.0\n",
              "2   2021/06/10 6:06:11 PM EET            2  ...                3.0      7.0\n",
              "3   2021/06/10 6:06:40 PM EET            4  ...                2.0      NaN\n",
              "4   2021/06/10 6:06:47 PM EET            1  ...                2.0      7.0\n",
              "5   2021/06/10 6:07:07 PM EET            4  ...                3.0      6.0\n",
              "6   2021/06/10 6:07:15 PM EET            5  ...                3.0      8.0\n",
              "7   2021/06/10 6:07:15 PM EET            2  ...                2.0      6.0\n",
              "8   2021/06/10 6:07:31 PM EET            5  ...                3.0      9.0\n",
              "9   2021/06/10 6:07:37 PM EET            5  ...                2.0      NaN\n",
              "10  2021/06/10 6:07:58 PM EET            5  ...                3.0      8.0\n",
              "11  2021/06/10 6:08:10 PM EET            3  ...                3.0      8.0\n",
              "12  2021/06/10 6:08:53 PM EET            4  ...                2.0      7.0\n",
              "13  2021/06/10 6:08:59 PM EET            5  ...                3.0      9.0\n",
              "14  2021/06/10 6:09:36 PM EET            2  ...                NaN      NaN\n",
              "15  2021/06/10 6:09:41 PM EET            2  ...                2.0      4.0\n",
              "16  2021/06/10 6:09:48 PM EET            5  ...                3.0      9.0\n",
              "17  2021/06/10 6:09:52 PM EET            1  ...                1.0      7.0\n",
              "18  2021/06/10 6:10:00 PM EET            1  ...                3.0      8.0\n",
              "19  2021/06/10 6:10:14 PM EET            3  ...                3.0      8.0\n",
              "20  2021/06/10 6:10:14 PM EET            4  ...                2.0      NaN\n",
              "21  2021/06/10 6:10:20 PM EET            3  ...                NaN      NaN\n",
              "22  2021/06/10 6:10:20 PM EET            5  ...                3.0      9.0\n",
              "\n",
              "[23 rows x 18 columns]"
            ]
          },
          "metadata": {
            "tags": []
          },
          "execution_count": 27
        }
      ]
    },
    {
      "cell_type": "code",
      "metadata": {
        "colab": {
          "base_uri": "https://localhost:8080/",
          "height": 762
        },
        "id": "6Y95YRSLwsmz",
        "outputId": "c1c4c922-9cc6-4123-b552-118da2ec3c82"
      },
      "source": [
        "df.loc[:, 'ciekawe_spotkanie':'ciekawe_aktywnosc1']"
      ],
      "execution_count": 12,
      "outputs": [
        {
          "output_type": "execute_result",
          "data": {
            "text/html": [
              "<div>\n",
              "<style scoped>\n",
              "    .dataframe tbody tr th:only-of-type {\n",
              "        vertical-align: middle;\n",
              "    }\n",
              "\n",
              "    .dataframe tbody tr th {\n",
              "        vertical-align: top;\n",
              "    }\n",
              "\n",
              "    .dataframe thead th {\n",
              "        text-align: right;\n",
              "    }\n",
              "</style>\n",
              "<table border=\"1\" class=\"dataframe\">\n",
              "  <thead>\n",
              "    <tr style=\"text-align: right;\">\n",
              "      <th></th>\n",
              "      <th>ciekawe_spotkanie</th>\n",
              "      <th>ciekawe_prezenter1</th>\n",
              "      <th>ciekawe_aktywnosc1</th>\n",
              "    </tr>\n",
              "  </thead>\n",
              "  <tbody>\n",
              "    <tr>\n",
              "      <th>0</th>\n",
              "      <td>Ciekawe</td>\n",
              "      <td>Nie było mnie</td>\n",
              "      <td>Bardzo ciekawe</td>\n",
              "    </tr>\n",
              "    <tr>\n",
              "      <th>1</th>\n",
              "      <td>Ciekawe</td>\n",
              "      <td>Bardzo ciekawe</td>\n",
              "      <td>Nieciekawe</td>\n",
              "    </tr>\n",
              "    <tr>\n",
              "      <th>2</th>\n",
              "      <td>Bardzo ciekawe</td>\n",
              "      <td>Nieciekawe</td>\n",
              "      <td>Bardzo ciekawe</td>\n",
              "    </tr>\n",
              "    <tr>\n",
              "      <th>3</th>\n",
              "      <td>Bardzo ciekawe</td>\n",
              "      <td>Nie było mnie</td>\n",
              "      <td>Ciekawe</td>\n",
              "    </tr>\n",
              "    <tr>\n",
              "      <th>4</th>\n",
              "      <td>Bardzo ciekawe</td>\n",
              "      <td>Ciekawe</td>\n",
              "      <td>Ciekawe</td>\n",
              "    </tr>\n",
              "    <tr>\n",
              "      <th>5</th>\n",
              "      <td>Nieciekawe</td>\n",
              "      <td>Ciekawe</td>\n",
              "      <td>Bardzo ciekawe</td>\n",
              "    </tr>\n",
              "    <tr>\n",
              "      <th>6</th>\n",
              "      <td>Bardzo ciekawe</td>\n",
              "      <td>Ciekawe</td>\n",
              "      <td>Bardzo ciekawe</td>\n",
              "    </tr>\n",
              "    <tr>\n",
              "      <th>7</th>\n",
              "      <td>Ciekawe</td>\n",
              "      <td>Ciekawe</td>\n",
              "      <td>Ciekawe</td>\n",
              "    </tr>\n",
              "    <tr>\n",
              "      <th>8</th>\n",
              "      <td>Bardzo ciekawe</td>\n",
              "      <td>Bardzo ciekawe</td>\n",
              "      <td>Bardzo ciekawe</td>\n",
              "    </tr>\n",
              "    <tr>\n",
              "      <th>9</th>\n",
              "      <td>Ciekawe</td>\n",
              "      <td>Nie było mnie</td>\n",
              "      <td>Ciekawe</td>\n",
              "    </tr>\n",
              "    <tr>\n",
              "      <th>10</th>\n",
              "      <td>Ciekawe</td>\n",
              "      <td>Bardzo ciekawe</td>\n",
              "      <td>Bardzo ciekawe</td>\n",
              "    </tr>\n",
              "    <tr>\n",
              "      <th>11</th>\n",
              "      <td>Bardzo ciekawe</td>\n",
              "      <td>Ciekawe</td>\n",
              "      <td>Bardzo ciekawe</td>\n",
              "    </tr>\n",
              "    <tr>\n",
              "      <th>12</th>\n",
              "      <td>Ciekawe</td>\n",
              "      <td>Bardzo ciekawe</td>\n",
              "      <td>Ciekawe</td>\n",
              "    </tr>\n",
              "    <tr>\n",
              "      <th>13</th>\n",
              "      <td>Bardzo ciekawe</td>\n",
              "      <td>Bardzo ciekawe</td>\n",
              "      <td>Bardzo ciekawe</td>\n",
              "    </tr>\n",
              "    <tr>\n",
              "      <th>14</th>\n",
              "      <td>Nie było mnie</td>\n",
              "      <td>Nie było mnie</td>\n",
              "      <td>Nie było mnie</td>\n",
              "    </tr>\n",
              "    <tr>\n",
              "      <th>15</th>\n",
              "      <td>Nieciekawe</td>\n",
              "      <td>Nieciekawe</td>\n",
              "      <td>Ciekawe</td>\n",
              "    </tr>\n",
              "    <tr>\n",
              "      <th>16</th>\n",
              "      <td>Bardzo ciekawe</td>\n",
              "      <td>Bardzo ciekawe</td>\n",
              "      <td>Bardzo ciekawe</td>\n",
              "    </tr>\n",
              "    <tr>\n",
              "      <th>17</th>\n",
              "      <td>Bardzo ciekawe</td>\n",
              "      <td>Bardzo ciekawe</td>\n",
              "      <td>Nieciekawe</td>\n",
              "    </tr>\n",
              "    <tr>\n",
              "      <th>18</th>\n",
              "      <td>Bardzo ciekawe</td>\n",
              "      <td>Ciekawe</td>\n",
              "      <td>Bardzo ciekawe</td>\n",
              "    </tr>\n",
              "    <tr>\n",
              "      <th>19</th>\n",
              "      <td>Bardzo ciekawe</td>\n",
              "      <td>Ciekawe</td>\n",
              "      <td>Bardzo ciekawe</td>\n",
              "    </tr>\n",
              "    <tr>\n",
              "      <th>20</th>\n",
              "      <td>Nie było mnie</td>\n",
              "      <td>Nieciekawe</td>\n",
              "      <td>Ciekawe</td>\n",
              "    </tr>\n",
              "    <tr>\n",
              "      <th>21</th>\n",
              "      <td>Bardzo ciekawe</td>\n",
              "      <td>Nie było mnie</td>\n",
              "      <td>Nie było mnie</td>\n",
              "    </tr>\n",
              "    <tr>\n",
              "      <th>22</th>\n",
              "      <td>Bardzo ciekawe</td>\n",
              "      <td>Bardzo ciekawe</td>\n",
              "      <td>Bardzo ciekawe</td>\n",
              "    </tr>\n",
              "  </tbody>\n",
              "</table>\n",
              "</div>"
            ],
            "text/plain": [
              "   ciekawe_spotkanie ciekawe_prezenter1 ciekawe_aktywnosc1\n",
              "0            Ciekawe      Nie było mnie     Bardzo ciekawe\n",
              "1            Ciekawe     Bardzo ciekawe         Nieciekawe\n",
              "2     Bardzo ciekawe         Nieciekawe     Bardzo ciekawe\n",
              "3     Bardzo ciekawe      Nie było mnie            Ciekawe\n",
              "4     Bardzo ciekawe            Ciekawe            Ciekawe\n",
              "5         Nieciekawe            Ciekawe     Bardzo ciekawe\n",
              "6     Bardzo ciekawe            Ciekawe     Bardzo ciekawe\n",
              "7            Ciekawe            Ciekawe            Ciekawe\n",
              "8     Bardzo ciekawe     Bardzo ciekawe     Bardzo ciekawe\n",
              "9            Ciekawe      Nie było mnie            Ciekawe\n",
              "10           Ciekawe     Bardzo ciekawe     Bardzo ciekawe\n",
              "11    Bardzo ciekawe            Ciekawe     Bardzo ciekawe\n",
              "12           Ciekawe     Bardzo ciekawe            Ciekawe\n",
              "13    Bardzo ciekawe     Bardzo ciekawe     Bardzo ciekawe\n",
              "14     Nie było mnie      Nie było mnie      Nie było mnie\n",
              "15        Nieciekawe         Nieciekawe            Ciekawe\n",
              "16    Bardzo ciekawe     Bardzo ciekawe     Bardzo ciekawe\n",
              "17    Bardzo ciekawe     Bardzo ciekawe         Nieciekawe\n",
              "18    Bardzo ciekawe            Ciekawe     Bardzo ciekawe\n",
              "19    Bardzo ciekawe            Ciekawe     Bardzo ciekawe\n",
              "20     Nie było mnie         Nieciekawe            Ciekawe\n",
              "21    Bardzo ciekawe      Nie było mnie      Nie było mnie\n",
              "22    Bardzo ciekawe     Bardzo ciekawe     Bardzo ciekawe"
            ]
          },
          "metadata": {
            "tags": []
          },
          "execution_count": 12
        }
      ]
    },
    {
      "cell_type": "code",
      "metadata": {
        "colab": {
          "base_uri": "https://localhost:8080/"
        },
        "id": "EHz9oAGjw0xk",
        "outputId": "34ad1b83-9fd7-4e44-d625-4ff88fe79179"
      },
      "source": [
        "df.ciekawe_spotkanie.value_counts()"
      ],
      "execution_count": 10,
      "outputs": [
        {
          "output_type": "execute_result",
          "data": {
            "text/plain": [
              "Bardzo ciekawe    13\n",
              "Ciekawe            6\n",
              "Nie było mnie      2\n",
              "Nieciekawe         2\n",
              "Name: ciekawe_spotkanie, dtype: int64"
            ]
          },
          "metadata": {
            "tags": []
          },
          "execution_count": 10
        }
      ]
    },
    {
      "cell_type": "code",
      "metadata": {
        "colab": {
          "base_uri": "https://localhost:8080/"
        },
        "id": "r5WNd0bpyNI4",
        "outputId": "725507b8-5f7f-4549-b944-75eb658273f9"
      },
      "source": [
        "df.ciekawe_prezenter1.value_counts()"
      ],
      "execution_count": 13,
      "outputs": [
        {
          "output_type": "execute_result",
          "data": {
            "text/plain": [
              "Bardzo ciekawe    8\n",
              "Ciekawe           7\n",
              "Nie było mnie     5\n",
              "Nieciekawe        3\n",
              "Name: ciekawe_prezenter1, dtype: int64"
            ]
          },
          "metadata": {
            "tags": []
          },
          "execution_count": 13
        }
      ]
    },
    {
      "cell_type": "code",
      "metadata": {
        "colab": {
          "base_uri": "https://localhost:8080/"
        },
        "id": "6PeGJ3DCyXXX",
        "outputId": "92392471-2a10-4b39-830a-f165574d129e"
      },
      "source": [
        "df.ciekawe_aktywnosc1.value_counts()"
      ],
      "execution_count": 14,
      "outputs": [
        {
          "output_type": "execute_result",
          "data": {
            "text/plain": [
              "Bardzo ciekawe    12\n",
              "Ciekawe            7\n",
              "Nie było mnie      2\n",
              "Nieciekawe         2\n",
              "Name: ciekawe_aktywnosc1, dtype: int64"
            ]
          },
          "metadata": {
            "tags": []
          },
          "execution_count": 14
        }
      ]
    },
    {
      "cell_type": "code",
      "metadata": {
        "id": "T83o9BlsycY0"
      },
      "source": [
        "rep = {\n",
        "    'Bardzo ciekawe': 3,\n",
        "    'Ciekawe': 2,\n",
        "    'Nieciekawe': 1,\n",
        "    'Nie było mnie': np.nan\n",
        "}"
      ],
      "execution_count": 17,
      "outputs": []
    },
    {
      "cell_type": "code",
      "metadata": {
        "id": "1_zF1zFSzMBk"
      },
      "source": [
        "df.loc[:, 'ciekawe_spotkanie':'ciekawe_aktywnosc1'] = df.loc[:, 'ciekawe_spotkanie':'ciekawe_aktywnosc1'].replace(rep)"
      ],
      "execution_count": 18,
      "outputs": []
    },
    {
      "cell_type": "code",
      "metadata": {
        "colab": {
          "base_uri": "https://localhost:8080/",
          "height": 762
        },
        "id": "IlBR9tTJ0xiW",
        "outputId": "40d6e12c-4092-4f80-9b50-8bec93a4e423"
      },
      "source": [
        "df.loc[:, 'ciekawe_spotkanie':'ciekawe_aktywnosc1']"
      ],
      "execution_count": 19,
      "outputs": [
        {
          "output_type": "execute_result",
          "data": {
            "text/html": [
              "<div>\n",
              "<style scoped>\n",
              "    .dataframe tbody tr th:only-of-type {\n",
              "        vertical-align: middle;\n",
              "    }\n",
              "\n",
              "    .dataframe tbody tr th {\n",
              "        vertical-align: top;\n",
              "    }\n",
              "\n",
              "    .dataframe thead th {\n",
              "        text-align: right;\n",
              "    }\n",
              "</style>\n",
              "<table border=\"1\" class=\"dataframe\">\n",
              "  <thead>\n",
              "    <tr style=\"text-align: right;\">\n",
              "      <th></th>\n",
              "      <th>ciekawe_spotkanie</th>\n",
              "      <th>ciekawe_prezenter1</th>\n",
              "      <th>ciekawe_aktywnosc1</th>\n",
              "    </tr>\n",
              "  </thead>\n",
              "  <tbody>\n",
              "    <tr>\n",
              "      <th>0</th>\n",
              "      <td>2.0</td>\n",
              "      <td>NaN</td>\n",
              "      <td>3.0</td>\n",
              "    </tr>\n",
              "    <tr>\n",
              "      <th>1</th>\n",
              "      <td>2.0</td>\n",
              "      <td>3.0</td>\n",
              "      <td>1.0</td>\n",
              "    </tr>\n",
              "    <tr>\n",
              "      <th>2</th>\n",
              "      <td>3.0</td>\n",
              "      <td>1.0</td>\n",
              "      <td>3.0</td>\n",
              "    </tr>\n",
              "    <tr>\n",
              "      <th>3</th>\n",
              "      <td>3.0</td>\n",
              "      <td>NaN</td>\n",
              "      <td>2.0</td>\n",
              "    </tr>\n",
              "    <tr>\n",
              "      <th>4</th>\n",
              "      <td>3.0</td>\n",
              "      <td>2.0</td>\n",
              "      <td>2.0</td>\n",
              "    </tr>\n",
              "    <tr>\n",
              "      <th>5</th>\n",
              "      <td>1.0</td>\n",
              "      <td>2.0</td>\n",
              "      <td>3.0</td>\n",
              "    </tr>\n",
              "    <tr>\n",
              "      <th>6</th>\n",
              "      <td>3.0</td>\n",
              "      <td>2.0</td>\n",
              "      <td>3.0</td>\n",
              "    </tr>\n",
              "    <tr>\n",
              "      <th>7</th>\n",
              "      <td>2.0</td>\n",
              "      <td>2.0</td>\n",
              "      <td>2.0</td>\n",
              "    </tr>\n",
              "    <tr>\n",
              "      <th>8</th>\n",
              "      <td>3.0</td>\n",
              "      <td>3.0</td>\n",
              "      <td>3.0</td>\n",
              "    </tr>\n",
              "    <tr>\n",
              "      <th>9</th>\n",
              "      <td>2.0</td>\n",
              "      <td>NaN</td>\n",
              "      <td>2.0</td>\n",
              "    </tr>\n",
              "    <tr>\n",
              "      <th>10</th>\n",
              "      <td>2.0</td>\n",
              "      <td>3.0</td>\n",
              "      <td>3.0</td>\n",
              "    </tr>\n",
              "    <tr>\n",
              "      <th>11</th>\n",
              "      <td>3.0</td>\n",
              "      <td>2.0</td>\n",
              "      <td>3.0</td>\n",
              "    </tr>\n",
              "    <tr>\n",
              "      <th>12</th>\n",
              "      <td>2.0</td>\n",
              "      <td>3.0</td>\n",
              "      <td>2.0</td>\n",
              "    </tr>\n",
              "    <tr>\n",
              "      <th>13</th>\n",
              "      <td>3.0</td>\n",
              "      <td>3.0</td>\n",
              "      <td>3.0</td>\n",
              "    </tr>\n",
              "    <tr>\n",
              "      <th>14</th>\n",
              "      <td>NaN</td>\n",
              "      <td>NaN</td>\n",
              "      <td>NaN</td>\n",
              "    </tr>\n",
              "    <tr>\n",
              "      <th>15</th>\n",
              "      <td>1.0</td>\n",
              "      <td>1.0</td>\n",
              "      <td>2.0</td>\n",
              "    </tr>\n",
              "    <tr>\n",
              "      <th>16</th>\n",
              "      <td>3.0</td>\n",
              "      <td>3.0</td>\n",
              "      <td>3.0</td>\n",
              "    </tr>\n",
              "    <tr>\n",
              "      <th>17</th>\n",
              "      <td>3.0</td>\n",
              "      <td>3.0</td>\n",
              "      <td>1.0</td>\n",
              "    </tr>\n",
              "    <tr>\n",
              "      <th>18</th>\n",
              "      <td>3.0</td>\n",
              "      <td>2.0</td>\n",
              "      <td>3.0</td>\n",
              "    </tr>\n",
              "    <tr>\n",
              "      <th>19</th>\n",
              "      <td>3.0</td>\n",
              "      <td>2.0</td>\n",
              "      <td>3.0</td>\n",
              "    </tr>\n",
              "    <tr>\n",
              "      <th>20</th>\n",
              "      <td>NaN</td>\n",
              "      <td>1.0</td>\n",
              "      <td>2.0</td>\n",
              "    </tr>\n",
              "    <tr>\n",
              "      <th>21</th>\n",
              "      <td>3.0</td>\n",
              "      <td>NaN</td>\n",
              "      <td>NaN</td>\n",
              "    </tr>\n",
              "    <tr>\n",
              "      <th>22</th>\n",
              "      <td>3.0</td>\n",
              "      <td>3.0</td>\n",
              "      <td>3.0</td>\n",
              "    </tr>\n",
              "  </tbody>\n",
              "</table>\n",
              "</div>"
            ],
            "text/plain": [
              "    ciekawe_spotkanie  ciekawe_prezenter1  ciekawe_aktywnosc1\n",
              "0                 2.0                 NaN                 3.0\n",
              "1                 2.0                 3.0                 1.0\n",
              "2                 3.0                 1.0                 3.0\n",
              "3                 3.0                 NaN                 2.0\n",
              "4                 3.0                 2.0                 2.0\n",
              "5                 1.0                 2.0                 3.0\n",
              "6                 3.0                 2.0                 3.0\n",
              "7                 2.0                 2.0                 2.0\n",
              "8                 3.0                 3.0                 3.0\n",
              "9                 2.0                 NaN                 2.0\n",
              "10                2.0                 3.0                 3.0\n",
              "11                3.0                 2.0                 3.0\n",
              "12                2.0                 3.0                 2.0\n",
              "13                3.0                 3.0                 3.0\n",
              "14                NaN                 NaN                 NaN\n",
              "15                1.0                 1.0                 2.0\n",
              "16                3.0                 3.0                 3.0\n",
              "17                3.0                 3.0                 1.0\n",
              "18                3.0                 2.0                 3.0\n",
              "19                3.0                 2.0                 3.0\n",
              "20                NaN                 1.0                 2.0\n",
              "21                3.0                 NaN                 NaN\n",
              "22                3.0                 3.0                 3.0"
            ]
          },
          "metadata": {
            "tags": []
          },
          "execution_count": 19
        }
      ]
    },
    {
      "cell_type": "code",
      "metadata": {
        "colab": {
          "base_uri": "https://localhost:8080/"
        },
        "id": "s8QoHEi20yH9",
        "outputId": "14f572f0-178e-4070-893d-f23c03f6d489"
      },
      "source": [
        "df['ciekawe'] = df.ciekawe_aktywnosc1 + df.ciekawe_prezenter1 + df.ciekawe_spotkanie\n",
        "df.ciekawe"
      ],
      "execution_count": 20,
      "outputs": [
        {
          "output_type": "execute_result",
          "data": {
            "text/plain": [
              "0     NaN\n",
              "1     6.0\n",
              "2     7.0\n",
              "3     NaN\n",
              "4     7.0\n",
              "5     6.0\n",
              "6     8.0\n",
              "7     6.0\n",
              "8     9.0\n",
              "9     NaN\n",
              "10    8.0\n",
              "11    8.0\n",
              "12    7.0\n",
              "13    9.0\n",
              "14    NaN\n",
              "15    4.0\n",
              "16    9.0\n",
              "17    7.0\n",
              "18    8.0\n",
              "19    8.0\n",
              "20    NaN\n",
              "21    NaN\n",
              "22    9.0\n",
              "Name: ciekawe, dtype: float64"
            ]
          },
          "metadata": {
            "tags": []
          },
          "execution_count": 20
        }
      ]
    },
    {
      "cell_type": "code",
      "metadata": {
        "colab": {
          "base_uri": "https://localhost:8080/"
        },
        "id": "FDIuWJgK1Qc7",
        "outputId": "4a16eb35-dffb-4877-bafd-c34cea7937e9"
      },
      "source": [
        "df.ciekawe.describe()"
      ],
      "execution_count": 21,
      "outputs": [
        {
          "output_type": "execute_result",
          "data": {
            "text/plain": [
              "count    17.000000\n",
              "mean      7.411765\n",
              "std       1.371989\n",
              "min       4.000000\n",
              "25%       7.000000\n",
              "50%       8.000000\n",
              "75%       8.000000\n",
              "max       9.000000\n",
              "Name: ciekawe, dtype: float64"
            ]
          },
          "metadata": {
            "tags": []
          },
          "execution_count": 21
        }
      ]
    },
    {
      "cell_type": "code",
      "metadata": {
        "colab": {
          "base_uri": "https://localhost:8080/"
        },
        "id": "SUegopD52XWn",
        "outputId": "43a4f7fc-5e73-49cb-f389-0d00c383b2d1"
      },
      "source": [
        "gr = df.groupby('pies_kot')\n",
        "gr"
      ],
      "execution_count": 23,
      "outputs": [
        {
          "output_type": "execute_result",
          "data": {
            "text/plain": [
              "<pandas.core.groupby.generic.DataFrameGroupBy object at 0x7f0f3cc3de90>"
            ]
          },
          "metadata": {
            "tags": []
          },
          "execution_count": 23
        }
      ]
    },
    {
      "cell_type": "code",
      "metadata": {
        "colab": {
          "base_uri": "https://localhost:8080/"
        },
        "id": "tSo-3bcQ2pGv",
        "outputId": "a92cd526-c321-4ce9-afa6-9a31e04c8128"
      },
      "source": [
        "df.ciekawe.mean()"
      ],
      "execution_count": 24,
      "outputs": [
        {
          "output_type": "execute_result",
          "data": {
            "text/plain": [
              "7.411764705882353"
            ]
          },
          "metadata": {
            "tags": []
          },
          "execution_count": 24
        }
      ]
    },
    {
      "cell_type": "code",
      "metadata": {
        "colab": {
          "base_uri": "https://localhost:8080/"
        },
        "id": "zrUwJIwA24Gs",
        "outputId": "5a7f5848-0637-49df-e17b-9ae264bb2dbf"
      },
      "source": [
        "gr.ciekawe.mean()"
      ],
      "execution_count": 25,
      "outputs": [
        {
          "output_type": "execute_result",
          "data": {
            "text/plain": [
              "pies_kot\n",
              "Kotów    6.250000\n",
              "Psów     7.769231\n",
              "Name: ciekawe, dtype: float64"
            ]
          },
          "metadata": {
            "tags": []
          },
          "execution_count": 25
        }
      ]
    },
    {
      "cell_type": "code",
      "metadata": {
        "colab": {
          "base_uri": "https://localhost:8080/",
          "height": 142
        },
        "id": "pgq53fmC26Nn",
        "outputId": "7c45f017-ed8a-4506-a92c-1d05dc713a46"
      },
      "source": [
        "gr.ciekawe.describe()"
      ],
      "execution_count": 26,
      "outputs": [
        {
          "output_type": "execute_result",
          "data": {
            "text/html": [
              "<div>\n",
              "<style scoped>\n",
              "    .dataframe tbody tr th:only-of-type {\n",
              "        vertical-align: middle;\n",
              "    }\n",
              "\n",
              "    .dataframe tbody tr th {\n",
              "        vertical-align: top;\n",
              "    }\n",
              "\n",
              "    .dataframe thead th {\n",
              "        text-align: right;\n",
              "    }\n",
              "</style>\n",
              "<table border=\"1\" class=\"dataframe\">\n",
              "  <thead>\n",
              "    <tr style=\"text-align: right;\">\n",
              "      <th></th>\n",
              "      <th>count</th>\n",
              "      <th>mean</th>\n",
              "      <th>std</th>\n",
              "      <th>min</th>\n",
              "      <th>25%</th>\n",
              "      <th>50%</th>\n",
              "      <th>75%</th>\n",
              "      <th>max</th>\n",
              "    </tr>\n",
              "    <tr>\n",
              "      <th>pies_kot</th>\n",
              "      <th></th>\n",
              "      <th></th>\n",
              "      <th></th>\n",
              "      <th></th>\n",
              "      <th></th>\n",
              "      <th></th>\n",
              "      <th></th>\n",
              "      <th></th>\n",
              "    </tr>\n",
              "  </thead>\n",
              "  <tbody>\n",
              "    <tr>\n",
              "      <th>Kotów</th>\n",
              "      <td>4.0</td>\n",
              "      <td>6.250000</td>\n",
              "      <td>1.707825</td>\n",
              "      <td>4.0</td>\n",
              "      <td>5.5</td>\n",
              "      <td>6.5</td>\n",
              "      <td>7.25</td>\n",
              "      <td>8.0</td>\n",
              "    </tr>\n",
              "    <tr>\n",
              "      <th>Psów</th>\n",
              "      <td>13.0</td>\n",
              "      <td>7.769231</td>\n",
              "      <td>1.091928</td>\n",
              "      <td>6.0</td>\n",
              "      <td>7.0</td>\n",
              "      <td>8.0</td>\n",
              "      <td>9.00</td>\n",
              "      <td>9.0</td>\n",
              "    </tr>\n",
              "  </tbody>\n",
              "</table>\n",
              "</div>"
            ],
            "text/plain": [
              "          count      mean       std  min  25%  50%   75%  max\n",
              "pies_kot                                                     \n",
              "Kotów       4.0  6.250000  1.707825  4.0  5.5  6.5  7.25  8.0\n",
              "Psów       13.0  7.769231  1.091928  6.0  7.0  8.0  9.00  9.0"
            ]
          },
          "metadata": {
            "tags": []
          },
          "execution_count": 26
        }
      ]
    },
    {
      "cell_type": "code",
      "metadata": {
        "colab": {
          "base_uri": "https://localhost:8080/",
          "height": 282
        },
        "id": "oSRvKLe-3AMc",
        "outputId": "7cf017e5-8ee9-409b-ee28-c482fab87e69"
      },
      "source": [
        "df.zadowolenie.hist()"
      ],
      "execution_count": 28,
      "outputs": [
        {
          "output_type": "execute_result",
          "data": {
            "text/plain": [
              "<matplotlib.axes._subplots.AxesSubplot at 0x7f0f3d4f6390>"
            ]
          },
          "metadata": {
            "tags": []
          },
          "execution_count": 28
        },
        {
          "output_type": "display_data",
          "data": {
            "image/png": "[encoded data removed]",
            "text/plain": [
              "<Figure size 432x288 with 1 Axes>"
            ]
          },
          "metadata": {
            "tags": [],
            "needs_background": "light"
          }
        }
      ]
    },
    {
      "cell_type": "code",
      "metadata": {
        "id": "Cc9xuh9c3lhG"
      },
      "source": [
        "me = df.zadowolenie.median()"
      ],
      "execution_count": 30,
      "outputs": []
    },
    {
      "cell_type": "code",
      "metadata": {
        "colab": {
          "base_uri": "https://localhost:8080/"
        },
        "id": "RjkczieL3zzl",
        "outputId": "8e32bdd6-8c9e-486c-ac52-feb19d042cbb"
      },
      "source": [
        "df[df.zadowolenie > me].count()"
      ],
      "execution_count": 32,
      "outputs": [
        {
          "output_type": "execute_result",
          "data": {
            "text/plain": [
              "czas                  9\n",
              "zadowolenie           9\n",
              "pies_kot              9\n",
              "przydatnosc           9\n",
              "ktore_info            7\n",
              "zakwaterowanie        9\n",
              "pakiet                9\n",
              "maile                 9\n",
              "transport             9\n",
              "spotkanie             9\n",
              "lokalizacja           9\n",
              "aktywnosci            9\n",
              "ceremonia             9\n",
              "organizacja_dod       9\n",
              "ciekawe_spotkanie     9\n",
              "ciekawe_prezenter1    7\n",
              "ciekawe_aktywnosc1    9\n",
              "ciekawe               7\n",
              "dtype: int64"
            ]
          },
          "metadata": {
            "tags": []
          },
          "execution_count": 32
        }
      ]
    },
    {
      "cell_type": "code",
      "metadata": {
        "colab": {
          "base_uri": "https://localhost:8080/"
        },
        "id": "IT1clbFy4Ajc",
        "outputId": "acca54e6-8ee6-40f5-e4df-3c392eac9ea4"
      },
      "source": [
        "df[df.zadowolenie < me].count()"
      ],
      "execution_count": 33,
      "outputs": [
        {
          "output_type": "execute_result",
          "data": {
            "text/plain": [
              "czas                  10\n",
              "zadowolenie           10\n",
              "pies_kot              10\n",
              "przydatnosc           10\n",
              "ktore_info             6\n",
              "zakwaterowanie         9\n",
              "pakiet                10\n",
              "maile                  9\n",
              "transport             10\n",
              "spotkanie             10\n",
              "lokalizacja           10\n",
              "aktywnosci             9\n",
              "ceremonia             10\n",
              "organizacja_dod       10\n",
              "ciekawe_spotkanie      9\n",
              "ciekawe_prezenter1     8\n",
              "ciekawe_aktywnosc1     8\n",
              "ciekawe                8\n",
              "dtype: int64"
            ]
          },
          "metadata": {
            "tags": []
          },
          "execution_count": 33
        }
      ]
    },
    {
      "cell_type": "code",
      "metadata": {
        "id": "SbzpBWR44JTh"
      },
      "source": [
        "df['zadowoleni'] = df.zadowolenie >= me"
      ],
      "execution_count": 36,
      "outputs": []
    },
    {
      "cell_type": "code",
      "metadata": {
        "id": "elvxxHP05AYO"
      },
      "source": [
        "df.zadowoleni = df.zadowoleni.replace({True: 'tak', False: 'nie'})"
      ],
      "execution_count": 39,
      "outputs": []
    },
    {
      "cell_type": "code",
      "metadata": {
        "colab": {
          "base_uri": "https://localhost:8080/"
        },
        "id": "dmS2yPCc5MBf",
        "outputId": "3c21d658-cb37-4da9-e7da-110d40acf400"
      },
      "source": [
        "df.zadowoleni"
      ],
      "execution_count": 40,
      "outputs": [
        {
          "output_type": "execute_result",
          "data": {
            "text/plain": [
              "0     tak\n",
              "1     tak\n",
              "2     nie\n",
              "3     tak\n",
              "4     nie\n",
              "5     tak\n",
              "6     tak\n",
              "7     nie\n",
              "8     tak\n",
              "9     tak\n",
              "10    tak\n",
              "11    nie\n",
              "12    tak\n",
              "13    tak\n",
              "14    nie\n",
              "15    nie\n",
              "16    tak\n",
              "17    nie\n",
              "18    nie\n",
              "19    nie\n",
              "20    tak\n",
              "21    nie\n",
              "22    tak\n",
              "Name: zadowoleni, dtype: object"
            ]
          },
          "metadata": {
            "tags": []
          },
          "execution_count": 40
        }
      ]
    },
    {
      "cell_type": "code",
      "metadata": {
        "id": "NtZ6aIAO5gHt"
      },
      "source": [
        "gr2 = df.groupby(['pies_kot', 'zadowoleni'])\n",
        "tab1 = gr2.ciekawe.describe().round(2)"
      ],
      "execution_count": 44,
      "outputs": []
    },
    {
      "cell_type": "code",
      "metadata": {
        "id": "6yNffn_X5ybG"
      },
      "source": [
        "tab1.to_csv('tab1.csv')"
      ],
      "execution_count": 45,
      "outputs": []
    },
    {
      "cell_type": "code",
      "metadata": {
        "id": "kbWuaP4t7E5w"
      },
      "source": [
        "tab1.to_excel('tab1.xlsx')"
      ],
      "execution_count": 46,
      "outputs": []
    },
    {
      "cell_type": "markdown",
      "metadata": {
        "id": "MXdwCgtf8POs"
      },
      "source": [
        "To jest piękny obrazek pokazujący ważną zależność."
      ]
    },
    {
      "cell_type": "code",
      "metadata": {
        "colab": {
          "base_uri": "https://localhost:8080/",
          "height": 401
        },
        "id": "XIvftEJy7TAt",
        "outputId": "b4cead69-f77b-4c7a-926f-06714dffc12b"
      },
      "source": [
        "sns.catplot(x='pies_kot', y='ciekawe', hue='zadowoleni', data=df, kind='box')"
      ],
      "execution_count": 49,
      "outputs": [
        {
          "output_type": "execute_result",
          "data": {
            "text/plain": [
              "<seaborn.axisgrid.FacetGrid at 0x7f0f31a1da90>"
            ]
          },
          "metadata": {
            "tags": []
          },
          "execution_count": 49
        },
        {
          "output_type": "display_data",
          "data": {
            "image/png": "[encoded data removed]",
            "text/plain": [
              "<Figure size 424x360 with 1 Axes>"
            ]
          },
          "metadata": {
            "tags": [],
            "needs_background": "light"
          }
        }
      ]
    },
    {
      "cell_type": "code",
      "metadata": {
        "id": "pT3qfTRY8Bk7"
      },
      "source": [
        ""
      ],
      "execution_count": null,
      "outputs": []
    }
  ]
}